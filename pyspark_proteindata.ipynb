{
 "cells": [
  {
   "cell_type": "markdown",
   "id": "0221e933-ac53-4274-baef-0600c23f09e9",
   "metadata": {},
   "source": [
    "### Embedding and Cosine Similarity\n",
    "\n",
    "In this section we are collecting the sequences to embed them using a Pretrained model from Rostlab's [ProtTrans](https://github.com/agemagician/ProtTrans). After this embedding the cosine similarity of each embedded protein sequence is achieved and graphed as a heatmap."
   ]
  },
  {
   "cell_type": "code",
   "execution_count": 1,
   "id": "00b87ec7-2990-4bb8-a637-1c5c6f7e3a06",
   "metadata": {},
   "outputs": [],
   "source": [
    "# BioPython library for collecting the sequences from cif files\n",
    "from Bio.PDB import PDBList\n",
    "from Bio.PDB.MMCIFParser import MMCIFParser"
   ]
  },
  {
   "cell_type": "code",
   "execution_count": 2,
   "id": "69cf507f-7791-4b9b-899b-0433a31fa609",
   "metadata": {},
   "outputs": [],
   "source": [
    "# Data manipulation libraries\n",
    "import os\n",
    "import io\n",
    "from collections import Counter\n",
    "import pandas as pd\n",
    "import numpy as np\n",
    "import matplotlib.pyplot as plt\n",
    "\n",
    "# Pyspark libraries\n",
    "from pyspark.sql import SparkSession\n",
    "from pyspark.sql import functions as F\n",
    "from pyspark.sql import Row\n",
    "from pyspark.sql.types import ArrayType, DoubleType, MapType, FloatType\n",
    "from pyspark.ml.linalg import DenseVector, VectorUDT\n",
    "from pyspark.ml.functions import vector_to_array\n"
   ]
  },
  {
   "cell_type": "code",
   "execution_count": 3,
   "id": "700fe0d1-c9ef-41b3-b363-961b9fe463b4",
   "metadata": {},
   "outputs": [
    {
     "name": "stderr",
     "output_type": "stream",
     "text": [
      "Setting default log level to \"WARN\".\n",
      "To adjust logging level use sc.setLogLevel(newLevel). For SparkR, use setLogLevel(newLevel).\n",
      "25/02/08 11:00:29 WARN NativeCodeLoader: Unable to load native-hadoop library for your platform... using builtin-java classes where applicable\n"
     ]
    }
   ],
   "source": [
    "# Creating the spark session\n",
    "spark = SparkSession.builder \\\n",
    "    .master(\"spark://master:7077\")\\\n",
    "    .appName(\"Proteindata spark application\")\\\n",
    "    .config(\"spark.dynamicAllocation.enabled\", \"false\")\\\n",
    "    .config(\"spark.driver.host\", \"10.67.22.219\") \\\n",
    "    .config(\"spark.driver.port\",\"6066\")\\\n",
    "    .config(\"spark.executor.memory\", \"4g\")\\\n",
    "    .config(\"spark.executor.cores\",\"4\")\\\n",
    "    .config(\"spark.sql.optimizer.enableRangeJoin\", \"true\")\\\n",
    "    .getOrCreate()"
   ]
  },
  {
   "cell_type": "code",
   "execution_count": 4,
   "id": "1c1c570a-199d-4c57-b6d7-2173f3c763aa",
   "metadata": {},
   "outputs": [],
   "source": [
    "# Creating the spark context\n",
    "sc = spark.sparkContext"
   ]
  },
  {
   "cell_type": "markdown",
   "id": "0654db69-75b0-466d-b46b-a9cdfb0fa4ae",
   "metadata": {},
   "source": [
    "### Getting the file paths"
   ]
  },
  {
   "cell_type": "code",
   "execution_count": 5,
   "id": "66a6ea2c-43a1-4fcd-be8c-5cc26a6df9c7",
   "metadata": {},
   "outputs": [],
   "source": [
    "# Getting the file paths\n",
    "base_path = '/data_files/pdb_files'\n",
    "base_path_edit = '/data_files/pdb_files/{}'\n",
    "file_names = os.listdir(base_path)\n",
    "file_list = [base_path_edit.format(i) for i in file_names][:400]\n",
    "files_rdd = sc.parallelize(file_list)#numSlices=12"
   ]
  },
  {
   "cell_type": "code",
   "execution_count": 6,
   "id": "8c16b181-ef99-4972-8f03-188894c60d34",
   "metadata": {
    "scrolled": true
   },
   "outputs": [
    {
     "name": "stderr",
     "output_type": "stream",
     "text": [
      "                                                                                \r"
     ]
    },
    {
     "data": {
      "text/plain": [
       "400"
      ]
     },
     "execution_count": 6,
     "metadata": {},
     "output_type": "execute_result"
    }
   ],
   "source": [
    "# Counting all of the paths to see if there are any errors\n",
    "files_rdd.count()"
   ]
  },
  {
   "cell_type": "code",
   "execution_count": 7,
   "id": "40ea865f-353a-4265-86ec-233b9c6c2aaa",
   "metadata": {},
   "outputs": [
    {
     "data": {
      "text/plain": [
       "12"
      ]
     },
     "execution_count": 7,
     "metadata": {},
     "output_type": "execute_result"
    }
   ],
   "source": [
    "#files_rdd.coalesce(12)\n",
    "files_rdd.getNumPartitions()"
   ]
  },
  {
   "cell_type": "markdown",
   "id": "b7cafcc4-1a5b-49ec-8425-b2524ebfe077",
   "metadata": {},
   "source": [
    "### Parsing the file\n",
    "\n",
    "#### Parsing the files using the Biopython library to get the sequence. The output of this function is the id of the protein, sequence and the length. "
   ]
  },
  {
   "cell_type": "code",
   "execution_count": 8,
   "id": "de1a7fe6-05a7-487c-a79c-0892a18fd302",
   "metadata": {},
   "outputs": [],
   "source": [
    "def parse_file(file):\n",
    "\n",
    "    cif_parser = MMCIFParser(QUIET=True) # CIF file parser\n",
    "    length = 0 # Setting the length initially to 0 for error correction\n",
    "    name = file.split('/')[3].split('.')[0] # Getting the id of the protein\n",
    "    structure = cif_parser.get_structure(\"protein\", file) # getting structure ? try \"protein\"\n",
    "\n",
    "    # Dictionary for residue names\n",
    "    d3to1 = {'CYS': 'C', 'ASP': 'D', 'SER': 'S', 'GLN': 'Q', 'LYS': 'K',\n",
    "    'ILE': 'I', 'PRO': 'P', 'THR': 'T', 'PHE': 'F', 'ASN': 'N',\n",
    "    'GLY': 'G', 'HIS': 'H', 'LEU': 'L', 'ARG': 'R', 'TRP': 'W',\n",
    "    'ALA': 'A', 'VAL':'V', 'GLU': 'E', 'TYR': 'Y', 'MET': 'M'}\n",
    "\n",
    "    # Creating the sequence   \n",
    "    for model in structure:\n",
    "        for chain in model:\n",
    "            sequence = [d3to1.get(residue.get_resname(), 'X') for residue in chain.get_residues()]\n",
    "            length = len(sequence)\n",
    "    \n",
    "    return name,sequence,length"
   ]
  },
  {
   "cell_type": "markdown",
   "id": "6121fa2a-1c87-4f9c-9ef6-8658be829e52",
   "metadata": {},
   "source": [
    "### Creating a dataframe \n",
    "#### A dataframe containing the id, length and the token of the each sequence"
   ]
  },
  {
   "cell_type": "code",
   "execution_count": 9,
   "id": "1d984795-af10-4d5e-ba73-a4859a88a078",
   "metadata": {},
   "outputs": [
    {
     "name": "stderr",
     "output_type": "stream",
     "text": [
      "                                                                                \r"
     ]
    }
   ],
   "source": [
    "# Creating an RDD for the tokens\n",
    "def tokens_df_creator(file_path):\n",
    "\n",
    "    data = []\n",
    "    name, sequence, length = parse_file(file_path)\n",
    "    row_value = {\n",
    "        'id':name,\n",
    "        'length':length,\n",
    "        'tokens':sequence, # sequence is tokenized like [\"A\",\"B\",\"K\",...] (each residue is a token)\n",
    "    }\n",
    "    data.append(Row(**row_value)) # Creating rows containing id, length and the sequence of each file in the folder\n",
    "    \n",
    "    return data\n",
    "\n",
    "# Turning the RDD into a DF for easier usage\n",
    "tokens_rdd = files_rdd.flatMap(tokens_df_creator) # FlatMap applied to the RDD\n",
    "tokens_df = tokens_rdd.toDF()"
   ]
  },
  {
   "cell_type": "markdown",
   "id": "e92198f8-0468-448d-98b9-98071c3a23cc",
   "metadata": {},
   "source": [
    "#### Checking output"
   ]
  },
  {
   "cell_type": "code",
   "execution_count": null,
   "id": "5d70ed89-ee64-4a40-aaa0-7b1f83c34f4f",
   "metadata": {
    "scrolled": true
   },
   "outputs": [],
   "source": [
    "tokens_df.take(1)"
   ]
  },
  {
   "cell_type": "code",
   "execution_count": null,
   "id": "232aae94-6aca-495f-af07-00184aebea12",
   "metadata": {
    "scrolled": true
   },
   "outputs": [],
   "source": [
    "#Checking if there is any missing data\n",
    "tokens_df.where(tokens_df.length==0).show()"
   ]
  },
  {
   "cell_type": "markdown",
   "id": "85b78c37-1fc4-49ea-88bd-7115c12075c4",
   "metadata": {},
   "source": [
    "### Creating the .vec file using ProtBert\n",
    "\n",
    "#### Here I shortly showed what I did in order to achieve the .vec file. Since the ProtBert model didn't have such file I looped through the residues and created the vocabulary. \n",
    "\n",
    "```python\n",
    "import numpy as np\n",
    "#transformer model for embedding space creation\n",
    "from transformers import BertModel, BertTokenizer\n",
    "import torch\n",
    "\n",
    "tokenizer = BertTokenizer.from_pretrained(\"Rostlab/prot_bert\", do_lower_case=False ) # change model and tokenizer to t5\n",
    "model_embedd = BertModel.from_pretrained(\"Rostlab/prot_bert\")\n",
    "\n",
    "vocab = ['L','A','G','V','E','S','I','K','R','D','T','P','N','Q','F','Y','M','H','C','W','X','U','B','Z','O']\n",
    "# Path to save the .vec file\n",
    "vec_file_path = 'prot_bert.vec'\n",
    "\n",
    "# Open the file in write mode\n",
    "with open(vec_file_path, 'w') as f:\n",
    "    # Write the header (vocab size and vector dimension)\n",
    "    f.write(f\"{len(vocab)} {outputs.last_hidden_state.size()[2]}\\n\")\n",
    "    \n",
    "    # Write each word and its corresponding vector\n",
    "    for letter in vocab:\n",
    "        encoded_input = tokenizer.encode(letter,return_tensors='pt').to(device)\n",
    "        outputs = model_embedd(input_ids=encoded_input)\n",
    "        vector = outputs.last_hidden_state[0,0].detach().numpy()\n",
    "        vector_str = ' '.join(map(str, vector))  # Convert the vector to a string\n",
    "        f.write(f\"{letter} {vector_str}\\n\")\n",
    "```\n",
    "\n",
    "#### The problem with this implementation is that all the semantic information between the residues in a sequence is lost since the .vec file is created for each residue. This is highly affecting our output since this semantic knowledge contain ancestoral, functional, structural and many more information."
   ]
  },
  {
   "cell_type": "markdown",
   "id": "e47d80f9-3b93-40c2-a025-7dc434951990",
   "metadata": {},
   "source": [
    "### Loading the embedding pre_trained model\n",
    "\n",
    "#### We loaded the .vec file as a standard python dictionary which is at first only available in the driver node. But using the Pyspark's broadcast function this dictionary can be broadcasted to all of the nodes which enables the executors to have the dictionaries in their local environment."
   ]
  },
  {
   "cell_type": "code",
   "execution_count": 10,
   "id": "d8911f26-292c-401d-bfdf-b24db40f27bb",
   "metadata": {},
   "outputs": [],
   "source": [
    "# Creating the dictionary from the .vec file\n",
    "# .vec file contains the keys (residues) and their corresponding embedding with size 1024\n",
    "def load_vectors(fname):\n",
    "    fin = io.open(fname, 'r', encoding='utf-8', newline='\\n', errors='ignore')\n",
    "    data = {}\n",
    "    for line in fin:\n",
    "        letter_token = line.rstrip().split()\n",
    "        # For each residue creating a DenseVector containing the embedding obtained from the .vec file\n",
    "        data[letter_token[0]] = DenseVector([float(letter) for letter in letter_token[1:]]) \n",
    "    return data\n",
    "\n",
    "vec_dict = load_vectors('/data_files/prot_bert.vec')"
   ]
  },
  {
   "cell_type": "markdown",
   "id": "8fcb9600-24d3-4368-b404-06691ad1354d",
   "metadata": {},
   "source": [
    "### Broadcasting\n",
    "Using the broadcast from the SparkContext created dictionary (containing the information coming from the .vec file) is broadcasted through the cluster. With this broadcasting during the action where the transformation to create the embedding occurs, each executor can use their local dictionary to create the embeddings. "
   ]
  },
  {
   "cell_type": "code",
   "execution_count": 11,
   "id": "0f4f32d9",
   "metadata": {},
   "outputs": [],
   "source": [
    "# Broadcasting the dictionary\n",
    "vec_broadcast = sc.broadcast(vec_dict)"
   ]
  },
  {
   "cell_type": "markdown",
   "id": "4cf9d5d4-4004-4ee6-b0b9-e75bc7731e30",
   "metadata": {},
   "source": [
    "### Creating list of vectors"
   ]
  },
  {
   "cell_type": "code",
   "execution_count": 12,
   "id": "2a58f139-a70e-4f4a-980c-45f8ed2da280",
   "metadata": {},
   "outputs": [],
   "source": [
    "# Embedding the sequence\n",
    "# The embedding is done using a UDF\n",
    "@F.udf(ArrayType(VectorUDT()))\n",
    "def embed_sequence(tokens_list):\n",
    "    return [vec_broadcast.value[token] for token in tokens_list if token in vec_dict]\n"
   ]
  },
  {
   "cell_type": "code",
   "execution_count": 13,
   "id": "49fa4d1e-bcec-4fbd-b7b4-f1b1869f8411",
   "metadata": {},
   "outputs": [],
   "source": [
    "# The embeddings are added as a new column (UDF applied to the DataFrame)\n",
    "tokens_df = tokens_df.withColumn(\"embeddings\",embed_sequence(tokens_df.tokens))"
   ]
  },
  {
   "cell_type": "markdown",
   "id": "136782b4-e261-4f6e-840a-bb45bba11f41",
   "metadata": {},
   "source": [
    "##### The size of the embeddings are 1024 x len(seq)"
   ]
  },
  {
   "cell_type": "markdown",
   "id": "0a6ad938-f91f-4aa8-b9f1-69c3d117bec0",
   "metadata": {},
   "source": [
    "#### Output check"
   ]
  },
  {
   "cell_type": "code",
   "execution_count": null,
   "id": "bdc6224e-4736-4330-8e3b-beb08c0f38dd",
   "metadata": {},
   "outputs": [],
   "source": [
    "tokens_df.where(tokens_df.embeddings == None).show()"
   ]
  },
  {
   "cell_type": "code",
   "execution_count": null,
   "id": "259ee491-fe98-4d92-a8f3-c6cdac2e1d2a",
   "metadata": {
    "scrolled": true
   },
   "outputs": [],
   "source": [
    "tokens_df.take(1)\n",
    "#  mins"
   ]
  },
  {
   "cell_type": "markdown",
   "id": "b6a1109f-c220-41e9-80be-318759647139",
   "metadata": {},
   "source": [
    "### Taking the mean of the list of the vectors (len(sequence) x 1024) to achieve one vector with length 1024\n",
    "\n",
    "##### To reduce the dimensions of the embeddings we used the same aproach as Rostlab did, in order to achieve an embedding for the protein sequence.\n"
   ]
  },
  {
   "cell_type": "code",
   "execution_count": 14,
   "id": "b8a6634a-e0de-4cb2-9963-4499b602d05d",
   "metadata": {
    "scrolled": true
   },
   "outputs": [],
   "source": [
    "# Creating another udf to get the mean of each embedding row\n",
    "@F.udf(VectorUDT())\n",
    "def mean_calculator(embedding,length):\n",
    "    mean_embedding = sum(embedding)/length # getting the mean of the embeddings in axis=0\n",
    "    return mean_embedding   \n",
    "\n",
    "# Created mean embedding is added as a new column\n",
    "tokens_df = tokens_df.withColumn(\"mean_embed\",mean_calculator(tokens_df.embeddings,tokens_df.length))"
   ]
  },
  {
   "cell_type": "code",
   "execution_count": 15,
   "id": "c1c9cc88-3b24-4e26-9c56-ca0f8077bff2",
   "metadata": {
    "scrolled": true
   },
   "outputs": [],
   "source": [
    "# Selecting a subset of the tokens_df\n",
    "mean_embed_df = tokens_df.select(\"id\",\"mean_embed\")"
   ]
  },
  {
   "cell_type": "markdown",
   "id": "b81840f1-b98e-48c4-974e-e399098300c7",
   "metadata": {},
   "source": [
    "#### Checking output"
   ]
  },
  {
   "cell_type": "code",
   "execution_count": null,
   "id": "51076f0f-31b0-45c6-af1d-7fb73f1cd90e",
   "metadata": {},
   "outputs": [],
   "source": [
    "mean_embed_df.filter(F.col(\"mean_embed\").isNull()).show()"
   ]
  },
  {
   "cell_type": "code",
   "execution_count": null,
   "id": "ab0a51cf-d017-48a1-8fc0-3dc878f2628c",
   "metadata": {},
   "outputs": [],
   "source": [
    "take5 = mean_embed_df.take(5)"
   ]
  },
  {
   "cell_type": "code",
   "execution_count": null,
   "id": "2691f950-ccfd-426e-b0b1-3c2aa7fab3b8",
   "metadata": {},
   "outputs": [],
   "source": [
    "print(len(take5[3][1]))"
   ]
  },
  {
   "cell_type": "code",
   "execution_count": null,
   "id": "88adaf2f-4bc6-43ee-a773-7657b1b9c2f3",
   "metadata": {},
   "outputs": [],
   "source": [
    "print(take5[1][0])"
   ]
  },
  {
   "cell_type": "markdown",
   "id": "fde1ceab-e196-4688-ad1d-af989e22c95d",
   "metadata": {},
   "source": [
    "### Cosine similarity\n",
    "\n",
    "#### Here we created another udf for the calculation of the cosine similarity for each protein sequence. With this we can see if there are any similarities between protein sequences."
   ]
  },
  {
   "cell_type": "code",
   "execution_count": 16,
   "id": "b92f7e3d-b478-4921-9b08-c5343107f216",
   "metadata": {},
   "outputs": [],
   "source": [
    "# Creating 2 views from the same mean_embed_df\n",
    "mean_embed_df.withColumnRenamed('id', 'id1').withColumnRenamed('mean_embed', 'embed_1').createOrReplaceTempView(\"df1\")\n",
    "\n",
    "mean_embed_df.withColumnRenamed('id', 'id2').withColumnRenamed('mean_embed', 'embed_2').createOrReplaceTempView(\"df2\")\n",
    "\n",
    "# Using sql to join the dfs using a condition which reduces the number of unnecessary calculation\n",
    "# caused by the joining 2 dfs to create all the possible pairs\n",
    "joined_df = spark.sql(\n",
    "\"\"\"SELECT *\n",
    "FROM df1, df2\n",
    "WHERE df1.id1 < df2.id2\"\"\") # using this condition we are creating only the upper triangle of the expected cross joined \"matrix\""
   ]
  },
  {
   "cell_type": "code",
   "execution_count": null,
   "id": "511f694f-b850-4fb4-97f8-22e6de15f7fa",
   "metadata": {},
   "outputs": [],
   "source": [
    "joined_df.take(1)"
   ]
  },
  {
   "cell_type": "code",
   "execution_count": 17,
   "id": "20cd727d-ad48-4c0b-bc40-1d6d0d6d7d31",
   "metadata": {},
   "outputs": [],
   "source": [
    "# Convert DenseVector to an array\n",
    "joined_df = joined_df.withColumn(\"embed_1\", vector_to_array(F.col(\"embed_1\")))\n",
    "joined_df = joined_df.withColumn(\"embed_2\", vector_to_array(F.col(\"embed_2\")))"
   ]
  },
  {
   "cell_type": "code",
   "execution_count": null,
   "id": "d322b447-0268-4b88-be1d-fc0fc222b177",
   "metadata": {},
   "outputs": [],
   "source": [
    "joined_df = joined_df.coalesce(144)"
   ]
  },
  {
   "cell_type": "code",
   "execution_count": 18,
   "id": "f2dc0ab3-7ce9-4020-8a72-70ce9f5f6833",
   "metadata": {},
   "outputs": [],
   "source": [
    "# Compute dot product, norms, and cosine similarity directly\n",
    "df_cos_sim = (\n",
    "    joined_df.withColumn(\"dot_prod\", F.expr(\"aggregate(zip_with(embed_1, embed_2, (x, y) -> x * y), 0D, (acc, v) -> acc + v)\"))\n",
    "      .withColumn(\"norm_1\", F.expr(\"sqrt(aggregate(embed_1, 0D, (acc, v) -> acc + v * v))\"))\n",
    "      .withColumn(\"norm_2\", F.expr(\"sqrt(aggregate(embed_2, 0D, (acc, v) -> acc + v * v))\"))\n",
    "      .withColumn(\"cosine_similarity\", F.col(\"dot_prod\") / (F.col(\"norm_1\") * F.col(\"norm_2\")))\n",
    "      .drop(\"dot_prod\", \"norm_1\", \"norm_2\",\"embed_1\",\"embed_2\")\n",
    ")"
   ]
  },
  {
   "cell_type": "code",
   "execution_count": null,
   "id": "1a42a654-9cb9-464a-bfcc-d6dbe322eb54",
   "metadata": {},
   "outputs": [],
   "source": [
    "def cos_sim(a,b):\n",
    "    return float(np.dot(a, b) / (np.linalg.norm(a) * np.linalg.norm(b)))\n",
    "\n",
    "# apply the UDF to the column\n",
    "joined_df = joined_df.withColumn(\"coSim\", F.udf(cos_sim, FloatType())(F.col(\"embed_1\"), F.col(\"embed_2\"))"
   ]
  },
  {
   "cell_type": "code",
   "execution_count": 19,
   "id": "46be2cc8-546e-409e-9f9e-2d7513256b25",
   "metadata": {},
   "outputs": [
    {
     "name": "stderr",
     "output_type": "stream",
     "text": [
      "                                                                                \r"
     ]
    },
    {
     "data": {
      "text/plain": [
       "[Row(id1='2kgj', id2='7csq', cosine_similarity=0.9953106710572059),\n",
       " Row(id1='2kgj', id2='2msx', cosine_similarity=0.9981249358863621)]"
      ]
     },
     "execution_count": 19,
     "metadata": {},
     "output_type": "execute_result"
    }
   ],
   "source": [
    "df_cos_sim.persist()\n",
    "df_cos_sim.take(2)"
   ]
  },
  {
   "cell_type": "code",
   "execution_count": null,
   "id": "0ba8526d-2f34-4112-a224-e1c3f1e843d8",
   "metadata": {},
   "outputs": [],
   "source": [
    "df_cos_sim.explain(True)"
   ]
  },
  {
   "cell_type": "code",
   "execution_count": 20,
   "id": "2875727e-da0f-44de-b1ba-a45f89e085f5",
   "metadata": {},
   "outputs": [],
   "source": [
    "# Filtering the data since being really close to 1 is not surprising\n",
    "filtered_df = df_cos_sim.filter(\"cosine_similarity < 0.969\")\n",
    "#F.col(\"cosine_similarity\").isNotNull() &"
   ]
  },
  {
   "cell_type": "code",
   "execution_count": null,
   "id": "d03beee7-1634-4ea8-b51c-4fc582648a83",
   "metadata": {},
   "outputs": [],
   "source": []
  },
  {
   "cell_type": "code",
   "execution_count": 21,
   "id": "318144a8-5fb4-48bd-aa5c-6715ebbffcba",
   "metadata": {},
   "outputs": [
    {
     "data": {
      "text/plain": [
       "33"
      ]
     },
     "execution_count": 21,
     "metadata": {},
     "output_type": "execute_result"
    }
   ],
   "source": [
    "filtered_df.count()\n"
   ]
  },
  {
   "cell_type": "code",
   "execution_count": null,
   "id": "4450fef2-ec53-4729-b04d-22415966e273",
   "metadata": {},
   "outputs": [],
   "source": [
    "filtered_df = filtered_df.coalesce(12)"
   ]
  },
  {
   "cell_type": "markdown",
   "id": "adce6ec3-6a89-4148-9f24-260662e14efd",
   "metadata": {},
   "source": [
    "Getting the unique ids to create the heatmap"
   ]
  },
  {
   "cell_type": "markdown",
   "id": "62eb403b-ce62-4fbf-b1a9-3f52d908c8da",
   "metadata": {},
   "source": [
    "#### Creating the matrix for creating the heatmap easily with filtered data"
   ]
  },
  {
   "cell_type": "code",
   "execution_count": 22,
   "id": "65646eaa-be76-439f-884a-6f3fbd1cd0ca",
   "metadata": {},
   "outputs": [
    {
     "name": "stderr",
     "output_type": "stream",
     "text": [
      "                                                                                \r"
     ]
    }
   ],
   "source": [
    "# Using Spark DataFrame operations for efficiency\n",
    "idx_df = filtered_df.select('id1').union(filtered_df.select('id2')).distinct()\n",
    "\n",
    "# Collecting the unique IDs\n",
    "idx = [row['id1'] for row in idx_df.collect()]\n"
   ]
  },
  {
   "cell_type": "code",
   "execution_count": 23,
   "id": "73046389-3dfe-4891-9821-0bf5db43e982",
   "metadata": {},
   "outputs": [
    {
     "data": {
      "text/plain": [
       "18"
      ]
     },
     "execution_count": 23,
     "metadata": {},
     "output_type": "execute_result"
    }
   ],
   "source": [
    "len(idx)"
   ]
  },
  {
   "cell_type": "code",
   "execution_count": null,
   "id": "10d97c28-0f29-4a7e-aaec-791c69817936",
   "metadata": {},
   "outputs": [],
   "source": [
    "# Collecting unique id values\n",
    "row_idx1 = filtered_df.select('id1').distinct().rdd.map(lambda r: r[0]).collect()\n",
    "row_idx2 = filtered_df.select('id2').distinct().rdd.map(lambda r: r[0]).collect()\n",
    "idx = list(set(row_idx1 + row_idx2))"
   ]
  },
  {
   "cell_type": "code",
   "execution_count": 24,
   "id": "896cb189-0e05-4ccc-9e50-9f84c5562105",
   "metadata": {},
   "outputs": [],
   "source": [
    "# Collecting the embeddings of the unique id's and creating a new dataframe containing only these id's\n",
    "filtered_mean_embed_df = mean_embed_df.filter(mean_embed_df[\"id\"].isin(idx) == True)"
   ]
  },
  {
   "cell_type": "code",
   "execution_count": 25,
   "id": "7eebd45d-066c-4259-a61e-7e450697807f",
   "metadata": {
    "scrolled": true
   },
   "outputs": [
    {
     "name": "stderr",
     "output_type": "stream",
     "text": [
      "                                                                                \r"
     ]
    },
    {
     "data": {
      "text/plain": [
       "[Row(id='2lg4', mean_embed=DenseVector([0.0371, 0.0334, -0.0552, -0.2191, 0.1597, -0.0712, -0.0279, -0.0631, -0.0677, -0.0275, 0.0325, 0.0699, -0.0359, 0.0677, 0.064, -0.1091, -0.029, 0.0862, -0.0058, -0.0393, 0.0514, 0.114, -0.0619, -0.0503, 0.0332, 0.0219, -0.0417, 0.0084, 0.0575, -0.0402, -0.043, 0.0829, -0.0506, -0.0194, 0.0545, -0.0325, 0.0302, 0.0727, -0.1125, -0.109, 0.0879, 0.124, 0.0771, 0.0374, 0.0399, -0.2272, 0.0902, -0.0471, 0.0471, 0.0406, 0.0111, -0.0781, -0.0378, -0.1437, 0.0037, 0.0303, 0.0004, -0.1402, -0.0391, -0.0351, -0.0855, -0.0724, 0.0585, -0.0211, -0.0669, -0.0448, -0.0339, -0.0004, 0.1307, -0.0536, -0.1381, 0.042, -0.0291, -0.052, 0.0498, -0.0567, -0.0814, 0.0231, 0.0488, 0.0378, 0.0101, 0.0729, 0.0276, 0.0446, 0.0664, -0.093, -0.0801, -0.1257, 0.2141, -0.0417, -0.0035, -0.0923, -0.0143, -0.1036, -0.0189, 0.109, 0.2846, 0.0095, 0.1202, 0.0338, -0.0563, 0.0079, -0.0561, 0.0381, 0.0222, -0.1538, -0.0001, -0.0608, -0.0087, 0.0566, -0.0629, 0.0081, 0.0551, 0.0374, -0.095, -0.0353, 0.0374, 0.1514, 0.0143, -0.279, 0.0211, 0.042, -0.0261, 0.0345, 0.0471, 0.027, 0.094, 0.0318, -0.0967, -0.0055, -0.1155, 0.0202, 0.0644, 0.0937, -0.0372, -0.0024, -0.0054, 0.0899, -0.0375, -0.0173, -0.0227, 0.0392, 0.0247, -0.1827, -0.003, 0.168, -0.1459, 0.1249, -0.013, 0.0268, -0.009, 0.0572, 0.0399, -0.0463, -0.0314, -0.0228, -0.0244, -0.0469, -0.1127, 0.0755, -0.0844, 0.1038, 0.1386, -0.0644, 0.0225, 0.0268, -0.0521, 0.0261, -0.0215, -0.046, -0.163, -0.0006, -0.0547, -0.0216, 0.0006, 0.0304, -0.0309, -0.1648, -0.0242, 0.0263, -0.0265, -0.138, 0.0134, -0.05, -0.0488, 0.0639, -0.0915, 0.0338, 0.0577, 0.0805, 0.0014, -0.0437, 0.0028, 0.0898, 0.077, 0.0555, 0.2393, 0.0994, -0.0501, 0.005, -0.0977, 0.087, 0.0682, -0.0336, 0.0829, -0.0315, -0.0662, 0.1382, -0.1533, -0.0424, -0.1314, 0.0816, -0.1122, -0.0602, -0.0948, -0.0295, 0.0583, 0.1439, -0.0655, 0.0497, 0.3507, -0.0333, 0.0417, -0.0514, -0.1717, 0.1903, 0.0755, 0.1813, -0.0055, -0.0082, -0.0088, -0.0426, 0.0304, -0.1396, -0.1002, 0.1085, -0.2539, -0.0959, -0.0437, -0.0089, -0.0223, -0.0003, 0.0013, 0.0353, 0.1011, -0.0006, -0.0873, 0.0775, 0.1338, -0.081, -0.0153, -0.0776, 0.0304, 0.1471, -0.0117, -0.0063, -0.0406, -0.1074, 0.0622, 0.02, -0.1007, -0.0786, -0.054, 0.0871, 0.0569, 0.0339, -0.0615, 0.0313, 0.0352, -0.1971, -0.1329, 0.0026, -0.0384, -0.0065, -0.0323, 0.1853, -0.1971, -0.066, 0.0369, 0.0802, -0.0383, -0.0616, 0.026, -0.0438, 0.0034, 0.1811, -0.0107, 0.0303, 0.1063, 0.1606, 0.0724, 0.2422, 0.0912, 0.0061, -0.0858, -0.0171, 0.2001, 0.0673, -0.1467, -0.1389, -0.0273, -0.0186, 0.0585, -0.015, -0.1327, 0.0275, -0.0828, 0.1126, -0.0528, 0.0711, -0.0349, -0.0256, -0.0259, 0.076, -0.1, 0.0129, -0.072, -0.1344, 0.0334, -0.0398, 0.0127, -0.0097, 0.0265, -0.2003, -0.0411, -0.0131, -0.0417, 0.0051, 0.2533, 0.0229, -0.0725, 0.0328, 0.033, -0.0214, -0.1003, 0.0858, 0.057, -0.0969, 0.0211, -0.0653, 0.0347, 0.125, -0.0078, 0.0858, -0.0036, 0.0306, -0.0786, 0.049, 0.0958, 0.0352, -0.041, -0.1007, -0.0681, -0.0619, -0.1181, -0.0277, -0.0847, 0.0486, -0.1536, -0.0015, 0.0253, -0.0508, 0.0558, 0.1552, 0.0249, -0.0685, 0.0514, 0.0287, -0.0048, -0.0958, 0.2771, 0.0531, 0.0378, 0.0065, -0.0523, -0.0008, -0.0584, 0.0228, 0.058, 0.0125, -0.0237, 0.0571, -0.0775, -0.0533, 0.0281, -0.0723, 0.0558, -0.0454, -0.0385, 0.0037, 0.0621, -0.0258, -0.0386, 0.1156, 0.0187, 0.0649, -0.0254, 0.1478, 0.0144, 0.0035, -0.0665, 0.0723, -0.0912, 0.046, -0.0375, -0.0079, 0.0016, -0.2246, 0.1269, -0.0091, 0.0207, 0.0659, -0.0344, -0.0764, 0.0746, -0.0851, 0.0503, -0.0654, 0.0172, -0.119, -0.0413, -0.0891, -0.1168, -0.0333, -0.1144, -0.0429, 0.0578, 0.0989, 0.1286, 0.054, 0.0073, 0.0563, 0.0579, 0.0556, -0.0967, -0.3462, -0.1347, -0.1204, -0.0876, 0.087, -0.064, 0.0438, 0.0144, 0.0305, 0.0136, -0.04, 0.0509, 0.0886, 0.0568, 0.0184, 0.0626, -0.0255, -0.0044, 0.0381, 0.0569, 0.0405, 0.1502, -0.0112, -0.0796, 0.0132, -0.004, 0.0674, 0.0779, -0.0014, 0.0891, -0.0315, -0.0452, -0.0688, 0.0507, 0.0701, 0.0618, -0.0053, -0.0846, 0.0138, -0.0178, 0.1114, 0.1015, -0.0866, 0.1434, 0.0219, -0.0154, -0.0765, 0.0278, -0.0585, 0.04, -0.0141, 0.0952, 0.086, 0.0679, -0.0886, -0.0707, 0.0429, -0.099, -0.0565, 0.1173, 0.0435, 0.0313, -0.0665, -0.0732, 0.2614, 0.0528, -0.0139, -0.0668, -0.068, 0.015, -0.0065, 0.0501, -0.0334, 0.0034, -0.001, 0.0412, -0.0136, -0.0406, -0.0954, 0.0723, -0.1441, 0.0837, 0.0188, 0.0478, -0.0366, -0.0163, 0.0449, -0.0018, -0.1033, 0.0596, 0.1008, 0.0165, 0.0839, 0.0106, 0.0288, -0.0838, -0.0583, 0.0979, -0.2178, 0.0735, -0.0377, -0.0832, 0.0767, 0.0879, 0.0398, 0.0542, 0.0601, -0.0728, 0.0839, 0.0795, 0.1147, 0.0142, -0.1762, 0.0421, 0.012, 0.0844, 0.0998, 0.0292, -0.0598, 0.067, 0.0463, -0.0137, 0.0057, 0.1194, -0.1235, -0.1894, 0.0484, -0.1412, -0.0212, 0.0794, -0.2371, 0.1252, -0.0565, -0.1154, 0.0076, 0.027, 0.0452, -0.0253, -0.025, -0.0632, 0.0662, 0.0226, 0.0708, -0.0213, 0.1242, 0.0114, 0.119, 0.0919, -0.0143, 0.1235, -0.1006, -0.0134, -0.1114, -0.0168, -0.0382, 0.0645, -0.0745, 0.0806, 0.0402, 0.0194, -0.0833, -0.0409, -0.1958, -0.0711, -0.0227, 0.0933, 0.0046, 0.057, -0.0732, -0.0125, 0.1056, 0.026, -0.0093, -0.0422, -0.0316, -0.0607, 0.0457, 0.1278, -0.0362, 0.042, -0.0608, -0.1005, 0.0465, -0.1143, 0.0017, 0.0918, 0.0294, 0.0112, -0.0511, 0.0313, -0.0404, -0.0858, 0.0276, -0.0165, 0.0616, -0.0032, -0.1546, 0.0642, 0.0759, 0.1143, 0.0622, 0.1162, -0.115, 0.0845, -0.0248, 0.0199, -0.0558, 0.0416, 0.0666, 0.0031, -0.0069, 0.0601, 0.0898, -0.0595, 0.0396, 0.081, -0.1134, -0.0449, 0.0559, 0.0125, -0.0639, -0.0312, -0.0164, 0.07, -0.006, 0.0543, 0.0083, 0.0138, -0.1169, -0.0317, 0.0215, 0.0431, 0.0822, -0.1043, 0.0506, -0.0674, 0.0779, -0.0231, -0.0206, -0.039, 0.0605, 0.0865, 0.0764, -0.0954, 0.0682, -0.035, 0.0537, 0.1532, -0.0435, 0.235, -0.0286, 0.123, -0.0111, -0.0876, -0.0334, -0.0767, -0.0716, -0.0023, 0.1186, 0.1181, -0.0192, -0.0219, -0.0705, -0.0234, -0.0242, -0.0092, -0.043, -0.0735, 0.047, -0.1181, -0.0494, 0.0355, 0.0067, 0.0636, 0.0711, -0.1394, -0.1001, -0.0355, -0.0226, 0.0186, -0.1056, -0.454, 0.0829, 0.0517, -0.0326, 0.0567, 0.1215, -0.0998, -0.0005, 0.1117, 0.0697, -0.0161, 0.0221, -0.0079, -0.0951, -0.0485, 0.0619, 0.0682, -0.0651, -0.1811, -0.0116, -0.0479, 0.1014, 0.1711, -0.1079, 0.1052, 0.032, 0.107, -0.0063, -0.0887, -0.0146, -0.1407, 0.0622, 0.0127, 0.0203, 0.0076, -0.0089, -0.0254, 0.0067, -0.1014, -0.0237, -0.0893, -0.0263, -0.0828, 0.0614, -0.0636, -0.0177, 0.0176, 0.1932, 0.0193, 0.0044, -0.0097, 0.0183, -0.0979, 3.6631, -0.0762, 0.1263, -0.0041, -0.0173, -0.0393, 0.1009, 0.0681, 0.1954, -0.0701, 0.03, 0.061, 0.0432, -0.0747, 0.0558, 0.1246, -0.0581, 0.0469, 0.0197, 0.1598, 0.6319, 0.0703, 0.0518, 0.0662, -0.116, -0.08, -0.0356, -0.0661, 0.1061, 0.1476, -0.1643, -0.0445, 0.0709, -0.1411, -0.127, -0.0987, 0.0059, -0.0862, 0.1062, -0.0414, 0.0584, -0.0398, 0.0094, -0.0326, 0.0045, 0.0556, -0.3055, -0.0315, -0.0366, 0.1122, -0.0735, -0.0117, -0.0226, 0.1616, 0.262, -0.8966, -0.0427, -0.0753, -0.1491, -0.0279, 0.058, -0.1138, -0.0197, 0.1291, -0.0231, 0.0237, -0.0221, -0.0251, 0.1499, -0.0822, -0.0174, -0.2146, -0.0506, 0.0687, 0.0394, 0.1163, -0.0142, -0.0282, -0.0435, 0.0592, 0.0461, 0.03, 0.0131, 0.0221, -0.0711, 0.0246, 0.0864, -0.1517, -0.0242, 0.0096, -0.0101, -0.0596, 0.0711, -0.0695, 0.0224, 0.039, 0.0183, 0.0405, -0.0165, 0.0278, -0.1243, -0.0696, -0.0331, -0.0196, -0.0279, 0.0634, 0.0498, 0.1284, -0.0681, 0.0672, 0.0699, -0.0582, -0.1352, 0.0669, 0.1925, 0.1638, 0.0134, 0.0794, 0.0993, -0.0129, 0.0499, 0.061, 0.0334, 0.0279, -0.0128, -0.0081, 0.008, -0.0939, -0.0804, 0.0512, 0.0539, -0.0187, 0.0186, -0.07, -0.1682, 0.0327, -0.04, -0.0155, 0.008, -0.0231, 0.0294, 0.0194, 0.0502, 0.0282, -0.0127, -0.1092, 0.1008, -0.0868, -0.0432, -0.1059, 0.0196, -0.0516, -0.0278, 0.0849, 0.0039, -0.0097, 0.0351, 0.0116, 0.0325, 0.0499, -0.0618, -0.0913, -0.034, -0.0017, 0.1495, 0.0049, 0.0321, -0.0269, -0.0293, -0.0179, -0.0198, -0.15, -0.0096, -0.1304, 0.0706, -0.0467, -0.0702, -0.0558, 0.0211, -0.013, -0.0961, -0.001, -0.0962, -0.1188, 0.0959, 0.0, 0.0087, -0.0523, 0.0335, 0.0359, 0.0134, -0.037, -0.08, 0.0411, -0.1645, 0.0039, 0.0512, -0.0697, -0.0517, 0.0428, 0.0431, -0.0369, -0.1013, -0.1372, 0.0556, 0.0924, 0.0687, 0.0443, -0.0369, -0.0542, -0.0855, -0.0329, 0.0953, -0.0104, -0.0326, 0.1059, 0.0219, -0.0396, 0.0416, 0.0689, -0.0676, 0.0149, -0.037, 0.0443, -0.1342, 0.0592, 0.0024, -0.0004, 0.012, -0.0822, 0.0342, 0.1225, -0.117, 0.0294, -0.1088, 0.0298, -0.105, -0.0602, -0.0393, -0.0452, -0.0031, -0.095, 0.0601, 0.0022, 0.1745, 0.0448, -0.0385, 0.0388, -0.1389, 0.0765, -0.0664, -0.1188, 0.0381, -0.0505, 0.0824])),\n",
       " Row(id='1ss3', mean_embed=DenseVector([0.0506, 0.0416, -0.0476, -0.2198, 0.1744, -0.0705, -0.0391, -0.0661, -0.0568, -0.0376, 0.0197, 0.064, -0.0297, 0.0951, 0.0699, -0.1128, -0.0425, 0.0943, -0.0013, -0.0373, 0.0565, 0.1044, -0.0693, -0.0526, 0.016, 0.0121, -0.0287, 0.0103, 0.0683, -0.0554, -0.0435, 0.0877, -0.0741, -0.0316, 0.065, -0.0366, 0.0343, 0.0733, -0.1133, -0.1231, 0.0958, 0.1267, 0.0831, 0.0294, 0.0384, -0.2459, 0.1019, -0.0423, 0.0554, 0.0231, 0.0085, -0.082, -0.0348, -0.161, -0.01, 0.0276, 0.0056, -0.1368, -0.0351, -0.0291, -0.0978, -0.083, 0.0718, -0.0204, -0.0731, -0.0437, -0.0344, -0.0049, 0.1402, -0.0583, -0.1324, 0.0457, -0.0271, -0.0574, 0.059, -0.0465, -0.0831, 0.0152, 0.0665, 0.0465, 0.009, 0.0736, 0.0142, 0.0478, 0.0674, -0.0956, -0.0849, -0.1216, 0.2339, -0.0358, -0.0128, -0.1014, -0.0146, -0.1242, -0.0106, 0.1081, 0.3048, -0.005, 0.1265, 0.0453, -0.0586, 0.0062, -0.0761, 0.0451, 0.0255, -0.1685, -0.0122, -0.0665, 0.0004, 0.0567, -0.0638, 0.0177, 0.0612, 0.0451, -0.1078, -0.0353, 0.0488, 0.1787, 0.0153, -0.2903, 0.0274, 0.0467, -0.0299, 0.0442, 0.0394, 0.0297, 0.0913, 0.0442, -0.0866, -0.003, -0.1161, 0.0275, 0.0704, 0.1001, -0.0348, -0.0126, -0.0034, 0.087, -0.0419, -0.017, -0.0316, 0.049, 0.0429, -0.1784, 0.0057, 0.1582, -0.1688, 0.1305, -0.0118, 0.0226, -0.0004, 0.0455, 0.0522, -0.0492, -0.035, -0.0363, -0.0243, -0.0453, -0.1156, 0.0862, -0.0913, 0.1094, 0.1421, -0.0728, 0.0334, 0.0344, -0.0481, 0.0236, -0.0282, -0.0572, -0.1683, -0.0127, -0.0524, -0.0178, 0.0019, 0.0291, -0.0333, -0.1824, -0.0202, 0.0295, -0.0273, -0.1441, 0.0107, -0.0711, -0.046, 0.064, -0.0908, 0.0465, 0.0314, 0.1001, 0.0015, -0.0303, 0.0035, 0.0976, 0.0831, 0.0596, 0.2479, 0.0952, -0.0594, -0.0012, -0.1123, 0.0697, 0.0661, -0.0313, 0.0869, -0.025, -0.0672, 0.1484, -0.1576, -0.044, -0.1363, 0.0852, -0.1189, -0.0673, -0.1027, -0.0226, 0.0561, 0.1361, -0.058, 0.0388, 0.384, -0.0331, 0.0419, -0.0404, -0.1569, 0.2018, 0.0679, 0.1925, -0.0037, -0.0105, -0.0152, -0.0408, 0.0382, -0.1417, -0.1016, 0.1166, -0.2904, -0.0865, -0.0417, -0.0156, -0.0103, 0.0091, 0.0198, 0.0314, 0.1034, 0.0118, -0.0921, 0.0868, 0.1372, -0.0911, -0.0208, -0.0877, 0.0379, 0.1377, -0.0139, -0.0077, -0.0364, -0.1003, 0.0714, 0.0249, -0.1158, -0.0891, -0.0619, 0.0751, 0.0475, 0.0381, -0.0684, 0.0238, 0.0341, -0.1984, -0.1305, -0.0015, -0.0411, -0.0058, -0.0346, 0.1731, -0.201, -0.0706, 0.0427, 0.088, -0.0506, -0.079, 0.0122, -0.0497, -0.0084, 0.2117, -0.0263, 0.0281, 0.1157, 0.1596, 0.0696, 0.2332, 0.0869, 0.0117, -0.0876, -0.0206, 0.1979, 0.0623, -0.1482, -0.143, -0.0206, -0.017, 0.072, -0.0209, -0.1319, 0.0236, -0.0863, 0.1151, -0.0507, 0.0735, -0.0385, -0.029, -0.0267, 0.0746, -0.0985, 0.0064, -0.0664, -0.1293, 0.0321, -0.0453, 0.0139, -0.0002, 0.0425, -0.1925, -0.0451, -0.0168, -0.0352, 0.0076, 0.2803, 0.0389, -0.0772, 0.0381, 0.049, -0.0229, -0.0947, 0.1038, 0.0729, -0.0889, 0.0151, -0.0613, 0.0396, 0.1335, -0.018, 0.0964, 0.0119, 0.0309, -0.0815, 0.0519, 0.1078, 0.0257, -0.0476, -0.112, -0.0738, -0.0754, -0.1178, -0.0304, -0.0852, 0.0539, -0.1503, 0.0177, 0.0318, -0.0497, 0.0577, 0.1535, 0.0318, -0.0654, 0.067, 0.0372, -0.0002, -0.1003, 0.2915, 0.0437, 0.0351, 0.0195, -0.0604, -0.002, -0.0755, 0.0272, 0.0407, 0.0087, -0.0305, 0.0446, -0.073, -0.0727, 0.0309, -0.0714, 0.0653, -0.0251, -0.0425, 0.0029, 0.0526, -0.0167, -0.0449, 0.1223, 0.0306, 0.0721, -0.0324, 0.1636, 0.0154, 0.0092, -0.0549, 0.0714, -0.1088, 0.0599, -0.0403, 0.0073, 0.0185, -0.23, 0.1381, -0.0081, 0.0198, 0.0658, -0.0386, -0.0687, 0.0802, -0.0965, 0.0531, -0.0574, 0.0215, -0.1151, -0.0366, -0.0941, -0.116, -0.0204, -0.1234, -0.0605, 0.0558, 0.0983, 0.1312, 0.0626, -0.0012, 0.0736, 0.0677, 0.0515, -0.0856, -0.3763, -0.1301, -0.1231, -0.0939, 0.09, -0.067, 0.0392, 0.0221, 0.0258, 0.0077, -0.0364, 0.0394, 0.0955, 0.0522, 0.0087, 0.0625, -0.0221, -0.0117, 0.0386, 0.0623, 0.0258, 0.1632, -0.0027, -0.0923, 0.0175, 0.0047, 0.0661, 0.0954, 0.0118, 0.0916, -0.0166, -0.038, -0.0793, 0.0518, 0.0625, 0.0655, -0.0019, -0.089, 0.0206, -0.0184, 0.1116, 0.1134, -0.0772, 0.1225, 0.0141, -0.0089, -0.0808, 0.0352, -0.0661, 0.0284, -0.014, 0.1118, 0.101, 0.077, -0.1012, -0.0701, 0.0356, -0.0891, -0.0536, 0.1191, 0.0438, 0.0365, -0.0792, -0.0811, 0.303, 0.0344, -0.0047, -0.0644, -0.0529, 0.0014, 0.0025, 0.0477, -0.0421, 0.0111, 0.0045, 0.0293, -0.0246, -0.0455, -0.0967, 0.079, -0.1473, 0.0888, 0.0138, 0.0509, -0.0311, -0.0091, 0.0361, -0.013, -0.1022, 0.0549, 0.0968, 0.012, 0.0855, 0.0076, 0.0333, -0.0817, -0.0484, 0.1007, -0.2422, 0.0661, -0.0405, -0.0894, 0.0896, 0.0922, 0.0333, 0.0561, 0.0653, -0.0733, 0.0802, 0.0889, 0.1292, 0.012, -0.182, 0.0411, 0.0059, 0.0981, 0.1063, 0.0291, -0.0592, 0.0791, 0.047, -0.0067, -0.0118, 0.1159, -0.1257, -0.1812, 0.0316, -0.1507, -0.0123, 0.0926, -0.2647, 0.136, -0.0651, -0.1114, -0.0014, 0.0249, 0.0494, -0.0375, -0.0221, -0.0595, 0.0829, 0.0185, 0.0683, -0.0537, 0.1299, 0.0092, 0.1226, 0.0941, -0.0116, 0.1278, -0.0871, -0.0203, -0.1078, -0.0107, -0.0445, 0.0648, -0.0728, 0.0696, 0.0308, 0.0187, -0.0814, -0.0386, -0.2066, -0.0896, -0.0272, 0.0969, 0.0098, 0.0587, -0.0812, -0.0261, 0.1108, 0.0335, -0.0126, -0.0441, -0.0294, -0.072, 0.0518, 0.1265, -0.0469, 0.042, -0.0654, -0.1081, 0.0549, -0.1342, 0.0069, 0.0931, 0.0219, 0.0133, -0.0572, 0.0314, -0.0399, -0.0768, 0.0263, -0.0135, 0.0689, 0.0022, -0.1528, 0.0784, 0.0771, 0.1034, 0.069, 0.1184, -0.1239, 0.0949, -0.0331, 0.0369, -0.0664, 0.0413, 0.0728, -0.0053, -0.0041, 0.0392, 0.0721, -0.0689, 0.038, 0.0824, -0.1166, -0.0413, 0.0497, 0.0035, -0.0859, -0.0336, -0.0232, 0.0798, -0.0163, 0.0575, -0.0106, 0.0175, -0.114, -0.0225, 0.0279, 0.0544, 0.098, -0.105, 0.0683, -0.0694, 0.079, -0.0184, -0.0278, -0.05, 0.0577, 0.0785, 0.0738, -0.1087, 0.0643, -0.0461, 0.0602, 0.1796, -0.0342, 0.2238, -0.0169, 0.1335, -0.0198, -0.0977, -0.0452, -0.0879, -0.0833, 0.0011, 0.123, 0.116, -0.0063, -0.0078, -0.0702, -0.0276, -0.0261, -0.0043, -0.0421, -0.0762, 0.0666, -0.1395, -0.0373, 0.0475, 0.0091, 0.0801, 0.0631, -0.1383, -0.1284, -0.0388, -0.0291, 0.029, -0.1159, -0.467, 0.0751, 0.0447, -0.0226, 0.0684, 0.1211, -0.1008, 0.0051, 0.1184, 0.0582, -0.0214, 0.0253, -0.0013, -0.0959, -0.0348, 0.0563, 0.0644, -0.0682, -0.1961, -0.0137, -0.0508, 0.1003, 0.1822, -0.1126, 0.1215, 0.0363, 0.1034, -0.0103, -0.1058, -0.0197, -0.1378, 0.066, 0.017, 0.0192, 0.0123, 0.0058, -0.0245, 0.0061, -0.1053, -0.0129, -0.0961, -0.029, -0.0935, 0.0607, -0.0603, -0.0244, 0.0192, 0.1918, 0.0182, 0.0158, -0.0064, 0.0343, -0.1091, 3.631, -0.0646, 0.1316, -0.0015, -0.0112, -0.0481, 0.0965, 0.0788, 0.1883, -0.0714, 0.0431, 0.049, 0.0339, -0.0799, 0.0522, 0.1485, -0.0626, 0.0447, 0.0174, 0.1653, 0.6446, 0.0776, 0.0601, 0.0638, -0.123, -0.0815, -0.0369, -0.0739, 0.0984, 0.1561, -0.1618, -0.0502, 0.0592, -0.1558, -0.1288, -0.0904, 0.0, -0.093, 0.0983, -0.0419, 0.0637, -0.0562, 0.0163, -0.0369, 0.0094, 0.0572, -0.3125, -0.0355, -0.0528, 0.1045, -0.0745, -0.004, -0.0337, 0.1578, 0.256, -0.9538, -0.03, -0.0746, -0.1479, -0.0355, 0.0694, -0.1181, -0.0202, 0.135, -0.0078, 0.0326, -0.0109, -0.0354, 0.1507, -0.0926, -0.019, -0.21, -0.0548, 0.0759, 0.0373, 0.1079, -0.0241, -0.0392, -0.0356, 0.0588, 0.0347, 0.028, -0.0008, 0.0262, -0.0729, 0.0239, 0.0868, -0.1592, -0.0149, 0.0209, 0.0012, -0.0613, 0.0688, -0.0749, 0.0189, 0.0312, 0.0169, 0.0439, -0.0151, 0.0229, -0.0824, -0.0702, -0.0324, -0.0209, -0.0321, 0.0589, 0.0494, 0.139, -0.0684, 0.069, 0.0681, -0.0601, -0.1529, 0.07, 0.193, 0.1732, 0.0056, 0.0804, 0.1094, -0.012, 0.048, 0.0697, 0.0296, 0.0324, -0.0184, -0.0129, 0.0139, -0.0953, -0.0983, 0.0723, 0.0561, -0.0232, 0.0163, -0.0625, -0.1926, 0.0361, -0.0304, -0.0132, 0.0215, -0.0285, 0.0375, 0.0163, 0.0633, 0.034, -0.0147, -0.1058, 0.1118, -0.0861, -0.0485, -0.1106, 0.0272, -0.0502, -0.0197, 0.0849, 0.01, -0.0214, 0.039, 0.0071, 0.0363, 0.0507, -0.0786, -0.0829, -0.0334, -0.0066, 0.1535, 0.0153, 0.046, -0.0277, -0.0361, -0.0062, -0.0174, -0.1764, -0.0034, -0.1283, 0.0858, -0.0433, -0.0721, -0.0554, 0.0146, -0.025, -0.1021, -0.0148, -0.1039, -0.1214, 0.0969, 0.0138, -0.0008, -0.0463, 0.0243, 0.041, 0.0185, -0.0489, -0.0948, 0.052, -0.1741, -0.0076, 0.0352, -0.0767, -0.055, 0.0473, 0.0486, -0.0403, -0.1013, -0.1562, 0.0631, 0.0964, 0.0593, 0.0551, -0.0306, -0.0433, -0.096, -0.0532, 0.0976, -0.001, -0.0384, 0.1116, 0.0252, -0.0557, 0.0503, 0.0611, -0.0626, 0.012, -0.0316, 0.0528, -0.1409, 0.0515, 0.0185, 0.0005, 0.0106, -0.0834, 0.0283, 0.1282, -0.1209, 0.0174, -0.1287, 0.0373, -0.1044, -0.0499, -0.0451, -0.0462, 0.0003, -0.0798, 0.0594, 0.0138, 0.1824, 0.033, -0.0472, 0.0351, -0.144, 0.0872, -0.0743, -0.1289, 0.0345, -0.0636, 0.0782])),\n",
       " Row(id='2jvg', mean_embed=DenseVector([0.0541, 0.0515, -0.0512, -0.2284, 0.1632, -0.0496, -0.0401, -0.0576, -0.0758, -0.0541, 0.027, 0.0668, -0.0318, 0.0889, 0.0676, -0.1005, -0.0403, 0.0887, -0.0082, -0.056, 0.0655, 0.1021, -0.0779, -0.0527, -0.0074, 0.0142, -0.0406, 0.0312, 0.0651, -0.0484, -0.0429, 0.1112, -0.0866, -0.048, 0.0581, -0.0301, 0.0432, 0.0682, -0.118, -0.1254, 0.1061, 0.1465, 0.0853, 0.0155, 0.0395, -0.2349, 0.1274, -0.0325, 0.0524, 0.0078, 0.0104, -0.0894, -0.0233, -0.1491, -0.0105, 0.0164, 0.0011, -0.137, -0.0463, -0.0286, -0.0987, -0.0904, 0.0837, -0.0361, -0.0771, -0.0314, -0.0194, -0.0102, 0.1435, -0.064, -0.1339, 0.0527, -0.0487, -0.0592, 0.0577, -0.0534, -0.0923, 0.0197, 0.0677, 0.0514, 0.0016, 0.0802, 0.0084, 0.0591, 0.0708, -0.1041, -0.0848, -0.1284, 0.2339, -0.0417, -0.0137, -0.1013, -0.0091, -0.1324, -0.0213, 0.1122, 0.3154, 0.006, 0.1331, 0.0499, -0.0697, -0.0176, -0.061, 0.051, 0.0274, -0.1778, -0.0367, -0.0697, 0.0055, 0.0593, -0.0639, 0.021, 0.0468, 0.0468, -0.1077, -0.0288, 0.0398, 0.1776, 0.0092, -0.2914, 0.0375, 0.0295, -0.0141, 0.0393, 0.0509, 0.0155, 0.1004, 0.0284, -0.0866, -0.005, -0.1291, 0.0369, 0.0693, 0.1029, -0.0167, 0.004, 0.0054, 0.0744, -0.035, -0.0264, -0.0268, 0.0345, 0.0495, -0.14, 0.0131, 0.1053, -0.1541, 0.1319, 0.0073, 0.025, -0.002, 0.0484, 0.0506, -0.0402, -0.0422, -0.0354, -0.0253, -0.0316, -0.1227, 0.102, -0.0875, 0.1178, 0.1301, -0.0725, 0.0347, 0.0089, -0.0497, 0.0044, -0.0321, -0.0546, -0.1756, -0.0145, -0.0654, -0.016, -0.0096, 0.0402, -0.0186, -0.1813, -0.0196, 0.0305, -0.0311, -0.1384, 0.0187, -0.0784, -0.0161, 0.0649, -0.0854, 0.0531, 0.0435, 0.0989, 0.0003, -0.055, 0.0085, 0.1013, 0.0859, 0.0644, 0.2311, 0.0909, -0.0666, -0.0024, -0.1095, 0.0641, 0.0657, -0.0236, 0.0915, -0.016, -0.0736, 0.1461, -0.163, -0.0365, -0.1443, 0.0872, -0.1171, -0.0814, -0.1187, -0.0229, 0.0529, 0.1448, -0.0645, 0.0468, 0.3791, -0.0195, 0.0419, -0.0238, -0.1454, 0.1928, 0.0746, 0.2096, -0.0096, -0.0174, -0.0154, -0.0501, 0.0476, -0.1346, -0.1026, 0.1199, -0.2524, -0.0932, -0.0551, -0.0154, -0.0154, 0.0278, 0.0261, 0.0424, 0.1133, 0.0046, -0.0839, 0.0855, 0.1358, -0.0995, -0.0236, -0.101, 0.0248, 0.1247, -0.0117, 0.0069, -0.0446, -0.09, 0.0862, 0.0356, -0.1259, -0.0833, -0.0643, 0.0708, 0.0553, 0.0444, -0.058, 0.0235, 0.0476, -0.1895, -0.145, 0.0014, -0.0353, -0.0089, -0.0286, 0.1703, -0.2108, -0.0769, 0.0503, 0.0911, -0.0618, -0.0772, 0.0155, -0.0534, -0.0118, 0.2309, -0.0102, 0.0336, 0.1089, 0.1518, 0.0732, 0.2491, 0.0839, -0.0079, -0.0784, -0.0179, 0.1981, 0.0718, -0.1625, -0.144, -0.0148, -0.0241, 0.0722, -0.012, -0.1334, 0.0323, -0.0979, 0.1165, -0.0547, 0.0771, -0.0604, -0.0342, -0.0242, 0.079, -0.0913, -0.0056, -0.0784, -0.1229, 0.0264, -0.0504, 0.0194, 0.0003, 0.0405, -0.1837, -0.0441, -0.0222, -0.0255, -0.0025, 0.2339, 0.0535, -0.0673, 0.0462, 0.0505, -0.0125, -0.0955, 0.1088, 0.0612, -0.092, 0.006, -0.0508, 0.0387, 0.1351, -0.0276, 0.1077, -0.0005, 0.0341, -0.0841, 0.048, 0.0976, 0.0294, -0.058, -0.1008, -0.0707, -0.0898, -0.1278, -0.0312, -0.1014, 0.0552, -0.1519, 0.0296, 0.0298, -0.0557, 0.0401, 0.1552, 0.0369, -0.0656, 0.0679, 0.0575, -0.0032, -0.1037, 0.3031, 0.0473, 0.0283, 0.0264, -0.0644, 0.0134, -0.0787, 0.0234, 0.0313, 0.0137, -0.016, 0.0387, -0.0759, -0.0769, 0.0475, -0.0735, 0.0675, -0.0177, -0.0583, 0.0029, 0.0522, -0.0202, -0.0448, 0.1219, 0.0343, 0.0753, -0.0302, 0.1691, 0.0182, 0.0145, -0.0499, 0.0766, -0.1116, 0.0517, -0.0482, 0.0197, 0.0135, -0.2372, 0.1531, -0.0042, 0.0137, 0.0688, -0.0279, -0.0701, 0.0704, -0.0833, 0.0433, -0.0664, 0.0133, -0.1145, -0.0229, -0.1075, -0.1252, -0.0216, -0.1287, -0.0479, 0.0536, 0.0998, 0.1298, 0.0598, -0.003, 0.0668, 0.0842, 0.0574, -0.0806, -0.3698, -0.1313, -0.1317, -0.105, 0.0973, -0.0735, 0.0395, 0.0296, 0.0187, 0.0095, -0.0263, 0.0611, 0.0847, 0.0437, 0.0047, 0.0602, -0.0165, -0.0011, 0.0398, 0.0771, 0.0149, 0.1571, -0.0014, -0.0946, 0.0161, 0.0054, 0.069, 0.0951, 0.0019, 0.0923, -0.0047, -0.032, -0.0811, 0.0376, 0.09, 0.0769, -0.0137, -0.0928, 0.0271, -0.0116, 0.1189, 0.1047, -0.0784, 0.1246, -0.0021, 0.0007, -0.0841, 0.0363, -0.0624, 0.0304, -0.0265, 0.1056, 0.0855, 0.0698, -0.1082, -0.0649, 0.0438, -0.0826, -0.0552, 0.1328, 0.046, 0.0493, -0.0887, -0.0878, 0.3149, 0.0436, -0.0031, -0.0659, -0.0779, -0.0111, -0.0016, 0.0496, -0.0439, 0.0191, 0.0168, 0.0315, -0.0178, -0.0514, -0.091, 0.0803, -0.1512, 0.0855, 0.0267, 0.0523, -0.0356, -0.004, 0.0471, -0.0062, -0.1118, 0.0594, 0.0992, 0.0248, 0.0803, 0.0034, 0.0311, -0.0784, -0.0489, 0.1011, -0.2004, 0.0692, -0.0443, -0.0917, 0.1031, 0.1111, 0.0484, 0.057, 0.0649, -0.0724, 0.074, 0.0998, 0.1324, 0.0096, -0.186, 0.0465, 0.0229, 0.0953, 0.1017, 0.0288, -0.0615, 0.0791, 0.0394, -0.0077, -0.0081, 0.1217, -0.1222, -0.1962, 0.0384, -0.1532, -0.0223, 0.0901, -0.2815, 0.1296, -0.0481, -0.1269, -0.0074, 0.0429, 0.052, -0.0527, -0.0305, -0.0704, 0.0811, 0.0324, 0.0646, -0.0351, 0.1391, 0.0172, 0.1318, 0.0844, -0.0069, 0.1321, -0.0961, -0.0239, -0.1073, -0.0217, -0.0457, 0.0723, -0.0853, 0.0735, 0.024, 0.0241, -0.0812, -0.039, -0.2276, -0.0954, -0.0185, 0.1033, 0.0116, 0.0558, -0.0805, -0.0108, 0.1203, 0.0417, -0.0061, -0.0461, -0.0347, -0.0755, 0.0571, 0.1274, -0.0544, 0.0239, -0.0536, -0.1107, 0.0562, -0.1366, 0.0099, 0.0909, 0.0219, 0.0046, -0.0559, 0.0417, -0.0325, -0.0717, 0.0182, -0.0064, 0.0681, -0.0086, -0.151, 0.0644, 0.0951, 0.1233, 0.0711, 0.113, -0.1348, 0.1007, -0.0482, 0.042, -0.0864, 0.0378, 0.0642, -0.0114, -0.0141, 0.0259, 0.0558, -0.0553, 0.0442, 0.0746, -0.1174, -0.0506, 0.0581, 0.0064, -0.079, -0.0388, -0.0241, 0.0958, -0.017, 0.0556, -0.0002, 0.0232, -0.1129, -0.0245, 0.0278, 0.0576, 0.1036, -0.1298, 0.0695, -0.0665, 0.0787, -0.0199, -0.0306, -0.0511, 0.0615, 0.1024, 0.0724, -0.109, 0.0732, -0.0445, 0.0637, 0.1804, -0.0226, 0.2126, -0.013, 0.136, -0.0126, -0.1061, -0.036, -0.0935, -0.0877, 0.0099, 0.1209, 0.1174, 0.0032, -0.0189, -0.0843, -0.035, -0.0313, 0.0109, -0.0451, -0.0935, 0.0667, -0.1256, -0.039, 0.0563, -0.0011, 0.0895, 0.0518, -0.1438, -0.1341, -0.0374, -0.0237, 0.018, -0.1217, -0.4893, 0.082, 0.0499, -0.0368, 0.0722, 0.1344, -0.108, 0.0181, 0.129, 0.0773, -0.0164, 0.0098, -0.0082, -0.1113, -0.0376, 0.0505, 0.0575, -0.0721, -0.2028, -0.0105, -0.0733, 0.1052, 0.1883, -0.1001, 0.1161, 0.0358, 0.1116, -0.0144, -0.109, -0.029, -0.1455, 0.0714, 0.0215, 0.0318, 0.0153, 0.0068, -0.0181, 0.0053, -0.1057, -0.0179, -0.0964, -0.0222, -0.1042, 0.0733, -0.0801, -0.0382, 0.001, 0.1877, 0.0204, 0.0213, -0.0083, 0.0355, -0.1071, 3.5437, -0.0676, 0.1336, -0.0004, -0.0174, -0.0467, 0.08, 0.0776, 0.1846, -0.0806, 0.0489, 0.0438, 0.0472, -0.0629, 0.0523, 0.1393, -0.093, 0.0498, 0.0076, 0.1674, 0.6531, 0.0872, 0.0545, 0.0643, -0.1272, -0.0899, -0.0415, -0.0703, 0.1082, 0.1737, -0.1453, -0.046, 0.0664, -0.1695, -0.1307, -0.0859, 0.0032, -0.0948, 0.0868, -0.0343, 0.0615, -0.041, 0.0226, -0.0425, 0.0147, 0.0702, -0.3381, -0.0327, -0.0646, 0.1178, -0.0675, -0.0016, -0.0348, 0.1619, 0.2352, -0.7901, -0.0289, -0.0755, -0.1513, -0.0399, 0.0624, -0.1212, -0.0093, 0.1346, -0.0026, 0.0386, -0.0137, -0.0386, 0.1572, -0.0989, -0.0246, -0.2035, -0.0566, 0.0828, 0.0279, 0.111, -0.0182, -0.0417, -0.0477, 0.0442, 0.032, 0.0308, 0.0131, 0.0131, -0.0752, 0.0281, 0.0889, -0.1601, -0.0119, 0.0143, -0.0113, -0.0609, 0.0792, -0.0909, 0.0117, 0.026, 0.0145, 0.0349, -0.0218, 0.0315, -0.0794, -0.0823, -0.0573, -0.0153, -0.0402, 0.0597, 0.0374, 0.1324, -0.0623, 0.0603, 0.0756, -0.0592, -0.1523, 0.0634, 0.1993, 0.1745, -0.0006, 0.0764, 0.1069, -0.0019, 0.0572, 0.071, 0.0466, 0.0285, -0.0103, -0.0169, 0.0075, -0.093, -0.0887, 0.0789, 0.0598, -0.0313, 0.0225, -0.0807, -0.198, 0.0381, -0.0373, -0.016, 0.0118, -0.0251, 0.0494, 0.0078, 0.0733, 0.0189, -0.0211, -0.1086, 0.1155, -0.0915, -0.0484, -0.1051, 0.0164, -0.04, -0.0314, 0.0843, 0.01, -0.0248, 0.0388, 0.0154, 0.0342, 0.0505, -0.0817, -0.0861, -0.0463, -0.002, 0.144, 0.0187, 0.0504, -0.0323, -0.0451, -0.0149, -0.0089, -0.1739, 0.0036, -0.1335, 0.0991, -0.032, -0.0848, -0.0656, 0.0256, -0.0167, -0.1036, -0.0152, -0.1106, -0.124, 0.1022, 0.0053, 0.0007, -0.0494, 0.0323, 0.0475, 0.0288, -0.044, -0.0734, 0.0552, -0.1724, 0.0004, 0.0368, -0.0876, -0.0539, 0.049, 0.0555, -0.0604, -0.0893, -0.1558, 0.0596, 0.085, 0.0554, 0.0606, -0.0319, -0.0476, -0.1059, -0.0522, 0.0896, 0.0135, -0.0449, 0.117, 0.0369, -0.0556, 0.0534, 0.0537, -0.0731, -0.0071, -0.0301, 0.0436, -0.1337, 0.0547, 0.0223, 0.0052, 0.0094, -0.0925, 0.0301, 0.1214, -0.1175, 0.0346, -0.1296, 0.0452, -0.0938, -0.0546, -0.0441, -0.0404, -0.0034, -0.0808, 0.065, 0.0188, 0.1734, 0.0397, -0.0525, 0.0206, -0.1382, 0.0845, -0.0852, -0.1399, 0.0332, -0.0563, 0.0817])),\n",
       " Row(id='2ofq', mean_embed=DenseVector([0.0219, 0.0606, -0.0872, -0.2243, 0.1586, -0.0701, -0.0336, -0.1011, -0.052, -0.0616, 0.0491, 0.0574, -0.0337, 0.0868, 0.0471, -0.0736, -0.0593, 0.0998, 0.0069, -0.0494, 0.059, 0.0453, -0.0621, -0.0235, -0.085, 0.015, -0.0505, 0.0383, 0.097, -0.0154, -0.1185, 0.1086, -0.0601, -0.1279, 0.063, -0.002, 0.0325, 0.0659, -0.1173, -0.1356, 0.1041, 0.1334, 0.1087, 0.0038, 0.0014, -0.2375, 0.1256, -0.0187, 0.0567, 0.064, 0.0197, -0.0907, -0.0321, -0.0945, -0.0147, 0.0263, 0.0069, -0.138, -0.0432, -0.0325, -0.0769, -0.0711, 0.0976, -0.0466, -0.0846, -0.0349, -0.0446, -0.0155, 0.1199, -0.0704, -0.1725, 0.0733, -0.0406, -0.1344, 0.0845, -0.0185, -0.0832, 0.0484, 0.008, 0.0271, -0.0041, 0.112, -0.0081, 0.054, 0.0982, -0.0909, -0.0621, -0.0199, 0.275, -0.0246, -0.0008, -0.1495, 0.0084, -0.1217, 0.0153, 0.1168, 0.3694, 0.0279, 0.1091, 0.0371, -0.078, 0.0199, -0.0516, 0.0309, 0.0277, -0.1851, -0.0021, -0.0458, 0.0113, 0.0787, -0.0741, 0.0073, 0.0702, 0.0259, -0.0891, -0.0183, 0.047, 0.1852, 0.0094, -0.2998, 0.0488, 0.03, 0.0075, 0.0403, 0.0593, 0.0553, 0.1372, -0.001, -0.1316, 0.0193, -0.1034, 0.0395, 0.0619, 0.0877, -0.0266, 0.0356, 0.0316, 0.0495, -0.0449, -0.0065, -0.0367, 0.0284, 0.0196, -0.1659, 0.0242, -0.0306, -0.1684, 0.1158, -0.011, 0.027, -0.0157, 0.0457, 0.0403, -0.026, -0.082, -0.0638, -0.0721, -0.0655, -0.1072, 0.0713, -0.1071, 0.1261, 0.1484, -0.0781, 0.0506, -0.0135, -0.0364, 0.0127, -0.0539, -0.0373, -0.1967, 0.0021, -0.0644, 0.0481, 0.0189, 0.016, 0.0011, -0.1955, -0.012, 0.0082, -0.0481, -0.1328, 0.0154, -0.0796, -0.0225, 0.0911, -0.045, 0.0702, 0.0253, 0.0869, -0.0055, -0.0853, -0.0039, 0.1012, 0.0594, 0.063, 0.2239, 0.0626, -0.093, -0.042, -0.0831, 0.1054, 0.0953, -0.0339, 0.1069, -0.0259, -0.0702, 0.1369, -0.1989, -0.0896, -0.1252, 0.0844, -0.1214, -0.057, -0.1168, -0.0083, 0.1032, 0.141, -0.0993, 0.0384, 0.2895, -0.0504, 0.0208, -0.0387, -0.1059, 0.2066, 0.0443, 0.2251, -0.0332, -0.0081, -0.0371, -0.0436, 0.0484, -0.0804, -0.1352, 0.1317, -0.1573, -0.0741, -0.0765, -0.0188, -0.0158, 0.0054, 0.0518, 0.0038, 0.1087, 0.0172, -0.0585, 0.0722, 0.1363, -0.0955, -0.0206, -0.0592, -0.0228, 0.1451, -0.008, 0.0177, -0.0388, -0.0783, 0.0813, 0.0089, -0.0768, -0.0688, -0.068, 0.0709, 0.0965, 0.0629, -0.0392, 0.0411, 0.0824, -0.1824, -0.1623, -0.0073, -0.0156, -0.0121, -0.0053, 0.1093, -0.2542, -0.1016, 0.0433, 0.075, -0.0879, -0.0926, 0.0006, -0.0566, 0.0736, 0.2296, -0.0099, 0.0408, 0.0928, 0.1517, 0.0979, 0.2702, 0.08, 0.0354, -0.0857, 0.0068, 0.2468, 0.1298, -0.1328, -0.149, -0.0286, -0.0078, 0.0619, 0.0067, -0.2139, 0.0061, -0.0811, 0.1195, -0.0486, 0.0467, -0.101, -0.0537, -0.0705, 0.1255, -0.1214, 0.0079, -0.0812, -0.1329, 0.0219, -0.0219, -0.01, -0.0025, 0.0112, -0.1631, -0.0925, 0.0232, -0.0171, 0.0015, 0.2764, 0.0502, -0.0444, 0.0404, 0.0457, -0.0101, -0.1239, 0.1005, 0.0767, -0.1182, 0.0116, -0.0451, 0.0377, 0.1259, -0.0003, 0.0978, -0.0224, 0.015, -0.0704, 0.0546, 0.0858, 0.0514, -0.0465, -0.0905, -0.081, -0.0865, -0.1331, -0.0402, -0.0904, 0.063, -0.1598, 0.0094, 0.0179, -0.039, 0.0054, 0.1271, 0.0611, -0.0886, 0.0634, 0.04, 0.0094, -0.0533, 0.2665, 0.0523, 0.0426, -0.0065, -0.0658, 0.021, -0.0931, 0.0466, 0.0498, 0.0672, 0.0117, 0.0671, -0.081, -0.1118, 0.0799, -0.1175, 0.0987, 0.0126, -0.0526, 0.0072, 0.0566, -0.0167, -0.0723, 0.1707, 0.0159, 0.1086, -0.0419, 0.1454, 0.0395, 0.0093, -0.0436, 0.0907, -0.1192, 0.0541, -0.062, 0.0274, 0.0214, -0.2184, 0.1611, -0.0268, 0.0883, 0.0604, -0.0174, -0.0906, 0.049, -0.0861, 0.033, -0.0094, 0.0153, -0.1583, 0.0142, -0.08, -0.1307, -0.0005, -0.1597, -0.0374, 0.0766, 0.0737, 0.1238, 0.0694, 0.0338, 0.0863, 0.0864, 0.0593, -0.0811, -0.3247, -0.0982, -0.147, -0.11, 0.0827, -0.071, 0.0477, 0.0389, 0.0094, -0.0006, -0.0167, 0.0801, 0.0663, 0.0313, 0.0162, 0.0316, -0.0429, 0.0322, 0.0723, 0.0518, 0.0176, 0.1129, -0.0155, -0.0976, 0.0261, -0.0151, 0.0529, 0.133, -0.0024, 0.0825, -0.0047, -0.0176, -0.1114, 0.009, 0.0542, 0.0495, -0.0019, -0.119, 0.0473, -0.0348, 0.1198, 0.1006, -0.0617, 0.129, 0.0215, 0.0435, -0.0982, 0.0461, -0.0844, 0.0288, -0.0058, 0.1398, 0.0563, 0.0885, -0.1214, -0.0929, 0.0383, -0.0928, -0.0495, 0.1506, 0.0509, 0.0351, -0.0509, -0.0697, 0.3307, 0.0415, 0.0208, -0.1325, -0.0784, 0.0129, -0.0046, 0.0608, -0.0377, 0.0522, 0.0365, 0.0101, -0.006, -0.0395, -0.0925, 0.1051, -0.1498, 0.087, 0.0365, 0.0581, -0.0565, -0.0063, 0.0297, -0.0247, -0.1188, 0.0871, 0.0788, 0.0593, 0.0888, 0.024, 0.0188, -0.0486, -0.0193, 0.0997, -0.0102, 0.0502, -0.0372, -0.0814, 0.1545, 0.1077, 0.0687, 0.1077, 0.0816, -0.0887, 0.0432, 0.0797, 0.1132, 0.0313, -0.164, 0.0646, 0.0365, 0.1126, 0.0561, 0.0228, -0.0747, 0.0629, 0.0531, -0.042, -0.0284, 0.1417, -0.0939, -0.2056, 0.034, -0.1707, 0.0277, 0.0792, -0.2821, 0.154, -0.0585, -0.0955, 0.031, 0.0203, 0.0079, -0.0864, -0.0391, -0.0888, 0.0445, 0.0344, 0.1125, -0.0621, 0.1907, 0.0049, 0.1771, 0.0588, -0.0064, 0.1208, -0.0993, -0.0146, -0.0884, -0.0049, -0.0762, 0.0483, -0.1352, 0.0759, 0.0182, 0.0207, -0.098, 0.008, -0.2113, -0.1054, -0.0245, 0.0889, 0.0108, 0.0778, -0.1159, -0.0324, 0.0866, 0.0112, -0.0504, -0.0694, -0.0397, -0.087, 0.0954, 0.1174, -0.0478, 0.0167, -0.0453, -0.1395, 0.0555, -0.1409, 0.0452, 0.107, 0.0184, 0.0006, -0.0788, -0.022, -0.0645, -0.0979, 0.0254, 0.0202, 0.0868, -0.0317, -0.1483, 0.0587, 0.1083, 0.0924, 0.0691, 0.0827, -0.1431, 0.092, -0.0336, 0.0268, -0.0716, 0.0098, 0.0292, -0.0095, -0.0406, 0.081, 0.0536, -0.0884, 0.0768, 0.0843, -0.1516, -0.0304, 0.0752, -0.0075, -0.1221, -0.0248, -0.0811, 0.0997, -0.007, 0.0538, 0.0076, 0.024, -0.1017, -0.0284, 0.0408, 0.024, 0.0624, -0.1351, 0.0355, -0.0586, 0.062, 0.005, -0.0288, -0.0323, 0.0537, 0.1062, 0.1023, -0.1258, 0.0559, 0.0029, 0.0913, 0.1952, -0.0215, 0.164, -0.0457, 0.0972, -0.0357, -0.0968, -0.0264, -0.1211, -0.0706, 0.0159, 0.0915, 0.1101, -0.0345, -0.0266, -0.0759, -0.0676, -0.0159, -0.0111, -0.036, -0.0574, 0.0341, -0.1434, -0.03, 0.0778, 0.0216, 0.1317, 0.1058, -0.091, -0.0967, -0.0233, -0.0473, 0.0156, -0.168, -0.521, 0.0666, 0.0848, -0.1411, 0.0482, 0.1295, -0.1149, -0.0423, 0.106, 0.0694, -0.0374, 0.0025, -0.0213, -0.1094, 0.019, 0.0422, 0.0282, -0.0528, -0.1834, -0.0156, -0.0844, 0.1038, 0.1565, -0.112, 0.1308, 0.0173, 0.0813, 0.0198, -0.1145, -0.0363, -0.16, 0.0837, 0.0464, 0.0269, -0.0222, 0.0197, -0.0378, 0.0635, -0.1309, -0.0554, -0.0644, -0.0501, -0.08, 0.1169, -0.0768, -0.0514, 0.0083, 0.2135, 0.043, 0.0408, -0.0122, 0.0771, -0.108, 3.0083, -0.0477, 0.1261, -0.0138, -0.0072, -0.04, 0.0811, 0.0431, 0.1188, -0.1283, 0.0312, 0.0684, 0.0572, -0.1019, 0.0298, 0.1764, -0.069, 0.0741, 0.0054, 0.1985, 0.6032, 0.079, 0.0644, 0.1016, -0.181, -0.0917, -0.0359, -0.099, 0.1096, 0.1766, -0.2181, -0.0742, 0.0817, -0.1292, -0.1602, -0.146, 0.0453, -0.0744, 0.095, -0.0181, 0.0667, -0.0684, 0.0215, -0.0362, -0.0115, 0.0983, -0.3211, -0.0415, -0.0956, 0.1415, -0.0711, -0.003, -0.0137, 0.1799, 0.2518, -0.4694, -0.0295, -0.1039, -0.1706, -0.006, 0.0325, -0.1308, 0.0093, 0.1466, 0.0263, 0.0307, -0.0063, -0.0197, 0.1571, -0.0754, -0.0331, -0.1963, -0.0213, 0.0704, 0.0042, 0.0654, -0.0155, -0.0758, -0.0629, 0.07, 0.0391, -0.0047, 0.0019, -0.0003, -0.0461, 0.0513, 0.097, -0.1343, 0.0078, 0.0189, 0.0018, -0.0207, 0.0726, -0.0572, 0.0562, 0.004, 0.0166, 0.0636, -0.0181, -0.0223, -0.1504, -0.0469, -0.0882, 0.0057, -0.0364, 0.0645, 0.0674, 0.0998, -0.0816, 0.0904, -0.0126, -0.0359, -0.1498, 0.0617, 0.1616, 0.1556, 0.0728, 0.0802, 0.0831, -0.0141, 0.0563, 0.0788, 0.0254, 0.0115, -0.0136, -0.0234, 0.0233, -0.1, -0.0175, 0.067, 0.0882, 0.0067, 0.0169, -0.0464, -0.1708, 0.0369, 0.0308, -0.0026, 0.0041, -0.0279, 0.0068, 0.0315, 0.0545, 0.0252, 0.0112, -0.1069, 0.1207, -0.1141, -0.0424, -0.1181, 0.0084, -0.0377, 0.0021, 0.1013, 0.0149, -0.0328, 0.0903, 0.0498, 0.0549, 0.0558, -0.0593, -0.094, -0.0453, 0.0342, 0.13, 0.0465, 0.0617, -0.0758, -0.049, -0.0232, 0.0187, -0.1231, 0.005, -0.1723, 0.0837, -0.0363, -0.0604, -0.0848, 0.0373, -0.0211, -0.0975, 0.0279, -0.1121, -0.1787, 0.0904, 0.0075, 0.0002, -0.0606, -0.0183, 0.0251, -0.0203, -0.0337, -0.0691, 0.0196, -0.1702, 0.0023, 0.04, -0.0853, -0.0599, 0.0261, 0.0505, -0.0664, -0.0489, -0.2225, 0.0776, 0.0643, 0.061, 0.0366, -0.036, -0.0518, -0.1022, -0.0221, 0.0875, -0.0051, -0.0168, 0.1472, 0.0241, -0.0629, 0.0605, 0.0879, -0.0631, -0.0018, -0.0228, 0.0234, -0.1768, 0.0355, -0.0002, 0.0178, -0.0304, -0.038, 0.0546, 0.1121, -0.104, 0.0386, -0.1273, 0.0803, -0.1192, -0.0399, -0.0359, -0.0513, 0.0137, -0.0358, 0.0606, 0.0039, 0.1803, 0.0336, -0.0682, 0.0401, -0.1529, 0.0855, -0.0088, -0.1472, 0.0191, -0.0543, 0.0393])),\n",
       " Row(id='5ml1', mean_embed=DenseVector([0.0184, 0.0332, -0.0703, -0.2114, 0.1533, -0.0941, -0.0251, -0.081, -0.068, -0.0269, 0.033, 0.0696, -0.0301, 0.053, 0.0507, -0.1023, -0.0254, 0.0931, 0.0141, -0.0314, 0.0421, 0.0973, -0.0487, -0.0436, 0.0367, 0.0218, -0.049, 0.0064, 0.0643, -0.0339, -0.0725, 0.0616, -0.0514, -0.0224, 0.0605, -0.0317, 0.0226, 0.072, -0.1083, -0.1025, 0.0862, 0.1027, 0.0909, 0.05, 0.0331, -0.2229, 0.0749, -0.05, 0.0469, 0.0615, 0.0096, -0.0495, -0.0556, -0.1266, 0.01, 0.031, -0.0079, -0.1382, -0.036, -0.0382, -0.0774, -0.0561, 0.0418, -0.0173, -0.0602, -0.0479, -0.0336, 0.0188, 0.1185, -0.0672, -0.1416, 0.0246, -0.027, -0.0529, 0.0536, -0.0524, -0.0764, 0.0249, 0.0358, 0.0196, 0.0045, 0.067, 0.0432, 0.0397, 0.0578, -0.089, -0.0682, -0.0966, 0.208, -0.0423, -0.0017, -0.1033, -0.008, -0.0843, -0.0078, 0.1037, 0.2761, 0.0136, 0.1142, 0.027, -0.0388, 0.0221, -0.0543, 0.021, 0.0265, -0.1435, 0.0294, -0.0445, -0.0004, 0.0613, -0.0787, 0.0027, 0.0542, 0.0236, -0.0905, -0.0398, 0.0395, 0.1505, 0.011, -0.278, 0.0101, 0.0496, -0.025, 0.0333, 0.0374, 0.0353, 0.0978, 0.0246, -0.1122, 0.0048, -0.1057, 0.0214, 0.0489, 0.086, -0.0461, 0.0018, 0.0029, 0.0827, -0.0377, -0.0073, -0.0301, 0.0457, 0.004, -0.1353, -0.004, 0.1205, -0.1529, 0.1154, -0.0304, 0.0282, -0.0281, 0.0591, 0.0399, -0.0482, -0.0119, -0.027, -0.0404, -0.053, -0.0949, 0.057, -0.0823, 0.0953, 0.141, -0.0564, 0.0203, 0.0332, -0.0485, 0.0407, -0.0128, -0.045, -0.1463, 0.019, -0.0572, -0.0063, 0.0144, 0.0167, -0.0613, -0.1654, -0.0242, 0.0111, -0.0242, -0.1352, 0.0167, -0.0486, -0.052, 0.065, -0.0887, 0.0157, 0.0511, 0.0721, -0.0032, -0.0288, -0.0068, 0.0792, 0.0709, 0.0594, 0.2348, 0.088, -0.0496, 0.0047, -0.0876, 0.0913, 0.0751, -0.0409, 0.0758, -0.0606, -0.0615, 0.1326, -0.151, -0.0458, -0.1285, 0.076, -0.1143, -0.0459, -0.0826, -0.0293, 0.09, 0.1435, -0.0748, 0.0475, 0.3286, -0.0512, 0.0218, -0.0632, -0.1629, 0.1976, 0.0744, 0.1758, -0.0073, -0.0003, -0.0105, -0.0312, 0.0156, -0.117, -0.1051, 0.109, -0.22, -0.0747, -0.0471, -0.0167, -0.0217, -0.018, 0.0095, 0.0282, 0.1, -0.0059, -0.0835, 0.0666, 0.1332, -0.0763, -0.0022, -0.054, 0.014, 0.1703, -0.0115, -0.0038, -0.0326, -0.1053, 0.0535, 0.0123, -0.0703, -0.0787, -0.0445, 0.0929, 0.0698, 0.0333, -0.0686, 0.0316, 0.0384, -0.1947, -0.1318, 0.0086, -0.0464, 0.0074, -0.0275, 0.1942, -0.2058, -0.0718, 0.026, 0.0901, -0.0432, -0.0674, 0.0141, -0.0428, 0.0425, 0.1653, -0.0184, 0.0361, 0.1057, 0.1632, 0.0758, 0.1818, 0.093, 0.0311, -0.0964, 0.0024, 0.2108, 0.0848, -0.125, -0.1251, -0.0335, -0.0041, 0.0589, -0.0154, -0.1465, 0.0098, -0.0778, 0.1043, -0.0319, 0.059, -0.0353, -0.034, -0.0393, 0.0623, -0.1084, 0.0223, -0.0689, -0.1372, 0.0399, -0.0387, 0.0036, -0.0186, 0.0145, -0.1977, -0.0485, 0.0021, -0.0468, 0.0019, 0.2553, 0.0139, -0.0584, 0.0199, 0.0214, -0.034, -0.1079, 0.0765, 0.055, -0.1065, 0.0297, -0.068, 0.0365, 0.1157, 0.0199, 0.0693, -0.0085, 0.0231, -0.0832, 0.0601, 0.0953, 0.0482, -0.0311, -0.0954, -0.0794, -0.0415, -0.1228, -0.0223, -0.0618, 0.0398, -0.1675, -0.006, 0.0247, -0.0388, 0.0288, 0.1388, 0.0293, -0.0648, 0.0353, 0.0157, 0.0008, -0.0782, 0.2472, 0.058, 0.0375, -0.0205, -0.0402, -0.0211, -0.0488, 0.0294, 0.0667, 0.0237, -0.0143, 0.0725, -0.0679, -0.0558, 0.0357, -0.0949, 0.0589, -0.0426, -0.0313, -0.0034, 0.0651, -0.0248, -0.0476, 0.1381, 0.0187, 0.1002, -0.0253, 0.1294, 0.0136, -0.0075, -0.076, 0.0736, -0.0962, 0.0434, -0.048, -0.0091, -0.0037, -0.202, 0.116, -0.0246, 0.0535, 0.0504, -0.0367, -0.0879, 0.067, -0.0806, 0.0516, -0.0412, 0.0222, -0.1377, -0.03, -0.0696, -0.111, -0.0374, -0.1168, -0.0367, 0.0656, 0.078, 0.134, 0.0571, 0.0335, 0.0545, 0.0351, 0.053, -0.1179, -0.3302, -0.1163, -0.1184, -0.077, 0.0767, -0.0539, 0.0347, 0.0118, 0.0367, 0.0131, -0.0349, 0.0431, 0.0932, 0.0478, 0.0307, 0.0506, -0.0304, 0.0072, 0.0432, 0.045, 0.0513, 0.1291, -0.0185, -0.0739, 0.0253, -0.0099, 0.0445, 0.0765, 0.0046, 0.0824, -0.0639, -0.0288, -0.071, 0.051, 0.0557, 0.0443, 0.0035, -0.0919, 0.0264, -0.0182, 0.1054, 0.1017, -0.0903, 0.1307, 0.0321, 0.002, -0.0847, 0.0235, -0.0712, 0.0386, -0.0145, 0.096, 0.0772, 0.0764, -0.0747, -0.0865, 0.0399, -0.0937, -0.0624, 0.125, 0.0433, 0.0134, -0.0536, -0.1088, 0.2368, 0.051, -0.0131, -0.0705, -0.0714, 0.0279, -0.0037, 0.0437, -0.0279, 0.0082, 0.0072, 0.0353, -0.0056, -0.0312, -0.0832, 0.0758, -0.1435, 0.0864, 0.0176, 0.0492, -0.0313, -0.0166, 0.0348, -0.0099, -0.0921, 0.0635, 0.0887, 0.0268, 0.0793, 0.0236, 0.0247, -0.0759, -0.0583, 0.0997, -0.1674, 0.0713, -0.0231, -0.0816, 0.0946, 0.0797, 0.0372, 0.0845, 0.0628, -0.0872, 0.085, 0.0623, 0.1109, 0.0279, -0.1572, 0.0365, 0.0076, 0.0825, 0.0715, 0.031, -0.0581, 0.058, 0.0647, -0.0147, 0.0025, 0.1328, -0.125, -0.1911, 0.0547, -0.1419, -0.0046, 0.0651, -0.2065, 0.1241, -0.0571, -0.0797, 0.017, 0.0248, 0.0363, -0.0167, -0.021, -0.0667, 0.0477, 0.0246, 0.0942, -0.0179, 0.1314, -0.0037, 0.121, 0.0931, -0.015, 0.1069, -0.1192, -0.0074, -0.1114, -0.0074, -0.0414, 0.0416, -0.083, 0.0766, 0.0485, 0.021, -0.0879, -0.0246, -0.1774, -0.0628, -0.0423, 0.0846, -0.0085, 0.0548, -0.0854, -0.0175, 0.0921, 0.0095, -0.0224, -0.0512, -0.0102, -0.0449, 0.0423, 0.1112, -0.026, 0.05, -0.0668, -0.1056, 0.0376, -0.1266, 0.0037, 0.0834, 0.0273, 0.015, -0.0542, 0.0039, -0.0425, -0.101, 0.0387, -0.02, 0.062, -0.0118, -0.1407, 0.0642, 0.0787, 0.1033, 0.065, 0.1173, -0.1148, 0.0709, -0.015, 0.0054, -0.056, 0.0345, 0.0642, 0.0121, 0.0093, 0.0851, 0.0812, -0.0687, 0.0408, 0.0816, -0.1171, -0.0357, 0.0717, 0.0065, -0.072, -0.0136, -0.0304, 0.0506, -0.0174, 0.0456, 0.0232, 0.0051, -0.1196, -0.0438, 0.0281, 0.0415, 0.06, -0.0961, 0.0349, -0.0599, 0.0758, -0.0218, -0.012, -0.0232, 0.0536, 0.079, 0.0802, -0.0988, 0.0522, -0.0148, 0.0563, 0.146, -0.0362, 0.234, -0.0455, 0.1039, -0.0209, -0.0794, -0.0283, -0.08, -0.0581, -0.0097, 0.1029, 0.1132, -0.024, -0.0229, -0.0619, -0.0256, -0.0225, -0.0369, -0.0464, -0.0452, 0.0259, -0.1171, -0.0551, 0.0314, 0.0225, 0.0634, 0.1056, -0.1175, -0.0769, -0.0237, -0.0292, 0.0176, -0.1113, -0.471, 0.0737, 0.0668, -0.0588, 0.0471, 0.1221, -0.0918, -0.033, 0.0912, 0.0936, -0.0285, 0.0393, -0.0151, -0.0895, -0.0357, 0.0604, 0.0606, -0.0632, -0.1795, -0.008, -0.0504, 0.1035, 0.1522, -0.1038, 0.1196, 0.0177, 0.0992, -0.0028, -0.0826, 0.0018, -0.136, 0.072, 0.0132, 0.0138, 0.0085, -0.0143, -0.0337, 0.0242, -0.1051, -0.0408, -0.0809, -0.0402, -0.0717, 0.0682, -0.0621, -0.0149, 0.0209, 0.2001, 0.0201, -0.0044, -0.0154, 0.0251, -0.0808, 3.6354, -0.0704, 0.1155, -0.0177, -0.0093, -0.0284, 0.103, 0.0635, 0.1973, -0.0744, 0.0382, 0.0753, 0.0381, -0.0919, 0.0483, 0.1136, -0.0401, 0.0454, 0.0248, 0.1677, 0.5933, 0.0618, 0.0492, 0.0838, -0.1146, -0.0769, -0.0384, -0.0886, 0.1005, 0.1321, -0.1796, -0.0477, 0.0706, -0.1322, -0.1276, -0.1203, 0.0209, -0.0645, 0.1069, -0.042, 0.0502, -0.0404, 0.0079, -0.0254, -0.0005, 0.0647, -0.2744, -0.0424, -0.0297, 0.1249, -0.0624, -0.0266, -0.0124, 0.1607, 0.2918, -0.8222, -0.0478, -0.0825, -0.1542, -0.0211, 0.0512, -0.124, -0.0098, 0.1332, -0.0134, 0.0267, -0.0218, -0.0101, 0.1409, -0.0555, -0.0145, -0.2279, -0.0309, 0.0583, 0.0426, 0.121, -0.0201, -0.0323, -0.0424, 0.0742, 0.0459, 0.0283, 0.0155, 0.011, -0.0662, 0.0252, 0.1003, -0.1337, -0.0359, 0.0171, -0.0067, -0.0467, 0.066, -0.0408, 0.0384, 0.0202, 0.0154, 0.0504, -0.0071, 0.0091, -0.1394, -0.0634, -0.0189, -0.0101, -0.0286, 0.0706, 0.0592, 0.1188, -0.0752, 0.0801, 0.0377, -0.0414, -0.1349, 0.0705, 0.1719, 0.1492, 0.017, 0.0892, 0.0902, -0.0226, 0.0533, 0.0626, 0.0238, 0.031, -0.0276, -0.0207, 0.0085, -0.0828, -0.0579, 0.0541, 0.0547, -0.0086, 0.02, -0.0618, -0.1425, 0.0236, -0.014, -0.0106, -0.0029, -0.0362, 0.0255, 0.0377, 0.0343, 0.0403, 0.0007, -0.1063, 0.0928, -0.0859, -0.0425, -0.107, 0.0174, -0.0452, -0.0236, 0.0819, -0.0085, -0.0078, 0.04, 0.0182, 0.0333, 0.0486, -0.0362, -0.0906, -0.0136, 0.0162, 0.151, 0.0088, 0.0255, -0.0303, -0.0131, -0.0122, -0.0228, -0.1277, -0.0136, -0.1306, 0.0495, -0.0592, -0.0631, -0.0533, 0.025, -0.0041, -0.0873, 0.019, -0.0852, -0.138, 0.0693, 0.0013, 0.0051, -0.0511, 0.0148, 0.0187, -0.0054, -0.0284, -0.0791, 0.033, -0.1658, 0.0045, 0.0537, -0.0706, -0.0558, 0.0303, 0.0499, -0.0219, -0.0941, -0.1534, 0.0501, 0.0891, 0.056, 0.0406, -0.0342, -0.0584, -0.072, -0.0191, 0.112, -0.0299, -0.0189, 0.0971, 0.0079, -0.0385, 0.0402, 0.0844, -0.0485, 0.0213, -0.0237, 0.0431, -0.1518, 0.0437, -0.0154, 0.0058, 0.0096, -0.0659, 0.0558, 0.1072, -0.111, 0.0257, -0.1092, 0.027, -0.1139, -0.0673, -0.0331, -0.0503, -0.0042, -0.0932, 0.0607, -0.01, 0.1666, 0.0446, -0.0521, 0.0539, -0.1517, 0.0756, -0.0528, -0.1134, 0.0311, -0.0478, 0.0607])),\n",
       " Row(id='1ujx', mean_embed=DenseVector([-0.0137, 0.0504, -0.0863, -0.2218, 0.135, -0.069, -0.0154, -0.0803, -0.0675, -0.0417, 0.0468, 0.0702, -0.0379, 0.0608, 0.0314, -0.0552, -0.0368, 0.0796, -0.0023, -0.0527, 0.0509, 0.0522, -0.0489, -0.001, -0.0746, 0.0312, -0.0792, 0.0426, 0.0677, -0.0013, -0.0878, 0.0908, -0.0354, -0.0934, 0.0439, -0.0108, 0.0239, 0.0703, -0.1435, -0.1074, 0.0917, 0.0969, 0.0861, 0.022, 0.0132, -0.2167, 0.1289, -0.006, 0.0372, 0.0853, 0.0207, -0.0721, -0.0172, -0.0761, 0.0182, 0.0286, -0.0106, -0.1216, -0.0621, -0.0336, -0.0789, -0.0625, 0.0695, -0.0565, -0.0747, -0.0237, -0.035, -0.0242, 0.1201, -0.0829, -0.1836, 0.0783, -0.0322, -0.119, 0.0756, -0.0307, -0.0675, 0.0487, -0.0177, 0.0369, -0.0118, 0.11, 0.0326, 0.0593, 0.0815, -0.0825, -0.0442, -0.0568, 0.2195, -0.0403, 0.0029, -0.1255, 0.0088, -0.1041, 0.0054, 0.1154, 0.3138, 0.0498, 0.089, 0.0128, -0.0637, 0.0229, -0.0421, 0.0333, 0.0119, -0.1591, 0.0261, -0.0544, -0.0058, 0.0677, -0.0553, 0.0012, 0.0572, 0.0257, -0.0758, -0.0223, 0.0301, 0.1464, -0.0017, -0.3056, 0.0512, 0.0197, 0.0138, 0.0258, 0.0646, 0.0297, 0.1156, -0.0189, -0.1602, 0.0169, -0.1096, 0.025, 0.0583, 0.0678, -0.0421, 0.0245, 0.0237, 0.054, -0.0355, -0.0096, -0.0141, 0.0255, -0.0051, -0.1516, 0.014, -0.0525, -0.1384, 0.1035, -0.0061, 0.0327, -0.0213, 0.0653, 0.0239, -0.0258, -0.0835, -0.03, -0.0687, -0.0561, -0.0962, 0.0675, -0.091, 0.0998, 0.1436, -0.0678, 0.0324, -0.0147, -0.0502, 0.0167, -0.042, -0.039, -0.209, 0.0016, -0.0773, 0.0362, 0.0049, 0.0259, -0.0022, -0.1774, -0.0261, 0.0133, -0.0405, -0.1135, 0.0119, -0.0583, -0.0291, 0.0845, -0.0486, 0.0327, 0.0589, 0.0523, 0.0055, -0.0909, -0.0143, 0.0677, 0.0648, 0.0608, 0.1875, 0.0691, -0.0726, -0.0346, -0.0855, 0.1071, 0.0938, -0.0289, 0.0776, -0.0265, -0.0524, 0.124, -0.1677, -0.0743, -0.1223, 0.0865, -0.117, -0.0456, -0.099, -0.0085, 0.0901, 0.1488, -0.1089, 0.0559, 0.2612, -0.0522, 0.0476, -0.0583, -0.1413, 0.193, 0.0483, 0.2191, -0.0229, -0.0069, -0.025, -0.0497, 0.0361, -0.0697, -0.1279, 0.1229, -0.0906, -0.105, -0.0511, -0.0187, -0.0286, 0.0104, 0.0146, 0.0088, 0.0945, 0.0103, -0.0635, 0.0471, 0.1389, -0.077, -0.0162, -0.0494, -0.0324, 0.1288, 0.0006, -0.0172, -0.0562, -0.0928, 0.0703, 0.0208, -0.0777, -0.0287, -0.0574, 0.0763, 0.0945, 0.0525, -0.0388, 0.0614, 0.0648, -0.1882, -0.1423, 0.0123, -0.022, -0.0089, -0.0171, 0.1138, -0.2333, -0.1015, 0.0396, 0.0796, -0.0736, -0.0474, 0.0142, -0.0398, 0.07, 0.1691, 0.0208, 0.0509, 0.0883, 0.1435, 0.085, 0.3112, 0.083, 0.0132, -0.0728, -0.0026, 0.2467, 0.1348, -0.1274, -0.1407, -0.0173, -0.014, 0.0315, 0.0146, -0.1706, 0.0122, -0.07, 0.1208, -0.0473, 0.0332, -0.0927, -0.0413, -0.0485, 0.1137, -0.1448, -0.0161, -0.0786, -0.1257, 0.0328, -0.0183, -0.0111, -0.0025, -0.0086, -0.1676, -0.0824, 0.0136, -0.0483, 0.0125, 0.1773, 0.0427, -0.0562, 0.0236, 0.0407, -0.0233, -0.1082, 0.0809, 0.0318, -0.1199, 0.0172, -0.0468, 0.038, 0.1181, 0.0035, 0.0829, -0.0208, 0.0322, -0.0734, 0.0363, 0.0739, 0.058, -0.0538, -0.0572, -0.0723, -0.0552, -0.134, -0.0343, -0.0729, 0.0541, -0.1689, -0.0178, 0.0079, -0.049, 0.0036, 0.123, 0.0723, -0.0888, 0.0309, 0.0431, -0.0008, -0.0474, 0.269, 0.062, 0.0463, -0.0241, -0.0466, 0.0271, -0.0676, 0.0293, 0.0654, 0.0759, 0.0286, 0.0837, -0.0741, -0.0737, 0.0735, -0.1067, 0.0539, -0.0224, -0.0613, 0.0224, 0.0737, -0.051, -0.0658, 0.1642, -0.0109, 0.0951, -0.0219, 0.1338, 0.022, 0.0109, -0.0547, 0.0811, -0.0876, 0.0385, -0.0519, 0.0139, -0.0127, -0.2027, 0.1269, -0.0161, 0.0811, 0.0519, -0.0131, -0.081, 0.0448, -0.067, 0.0233, -0.0274, 0.0042, -0.1612, -0.0024, -0.0763, -0.1322, -0.0092, -0.1351, -0.0039, 0.0547, 0.0682, 0.1262, 0.0553, 0.0203, 0.0685, 0.0589, 0.0649, -0.0848, -0.2408, -0.0995, -0.132, -0.0937, 0.0856, -0.0743, 0.0646, 0.0342, 0.0232, 0.0117, -0.0092, 0.0822, 0.0674, 0.0302, 0.0221, 0.0363, -0.0361, 0.0306, 0.0451, 0.0571, 0.013, 0.0992, -0.0225, -0.0721, 0.0271, -0.0085, 0.0406, 0.0792, -0.0358, 0.0721, -0.0269, -0.0257, -0.0744, 0.0246, 0.0796, 0.035, -0.0172, -0.1001, 0.0225, -0.0297, 0.1105, 0.0944, -0.0607, 0.1491, 0.0215, 0.0096, -0.0971, 0.0413, -0.0613, 0.036, -0.0103, 0.1249, 0.0528, 0.0659, -0.0933, -0.0955, 0.0473, -0.0958, -0.0515, 0.1269, 0.0587, 0.0285, -0.0652, -0.0599, 0.2705, 0.0807, 0.0121, -0.1108, -0.0918, 0.0458, -0.0126, 0.056, -0.0205, 0.0421, 0.035, 0.0377, 0.0102, -0.0382, -0.0883, 0.0961, -0.1515, 0.0715, 0.0438, 0.0367, -0.0612, -0.0215, 0.0493, 0.0184, -0.1165, 0.0748, 0.0736, 0.0522, 0.0823, 0.0446, 0.0209, -0.0579, -0.0594, 0.1042, 0.0536, 0.0801, -0.0151, -0.0763, 0.1132, 0.0949, 0.0659, 0.0836, 0.0858, -0.0705, 0.0608, 0.074, 0.0833, 0.0129, -0.1593, 0.0746, 0.0472, 0.1007, 0.0546, 0.0287, -0.0666, 0.052, 0.035, -0.0313, -0.0115, 0.1355, -0.0821, -0.1999, 0.0502, -0.1656, 0.0124, 0.0634, -0.2491, 0.1395, -0.0542, -0.0951, 0.0272, 0.0308, 0.0213, -0.0597, -0.0429, -0.0877, 0.0333, 0.0369, 0.103, 0.0029, 0.1703, 0.0101, 0.1778, 0.0521, -0.0059, 0.1133, -0.1295, -0.0195, -0.0885, -0.0327, -0.0707, 0.053, -0.1189, 0.0825, 0.0219, 0.0288, -0.074, -0.0082, -0.1919, -0.0906, 0.0058, 0.083, 0.0026, 0.0746, -0.0862, -0.0187, 0.0723, 0.0017, -0.036, -0.068, -0.0458, -0.0917, 0.0602, 0.1151, -0.0368, 0.0273, -0.0364, -0.1295, 0.0554, -0.1206, 0.0306, 0.1155, 0.0237, 0.0069, -0.0556, -0.0173, -0.06, -0.0912, 0.0245, 0.0167, 0.077, -0.0223, -0.1363, 0.0416, 0.1061, 0.1067, 0.0718, 0.1055, -0.1263, 0.0705, -0.017, 0.0158, -0.0565, 0.0189, 0.0156, 0.029, -0.0454, 0.1278, 0.0827, -0.0595, 0.0732, 0.0929, -0.1451, -0.0418, 0.0877, 0.0062, -0.0845, -0.0272, -0.0655, 0.0787, 0.008, 0.0309, 0.0414, 0.0155, -0.1143, -0.0491, 0.0208, -0.0062, 0.0559, -0.1226, 0.0221, -0.0635, 0.0509, -0.005, -0.0226, -0.0213, 0.0374, 0.1356, 0.0975, -0.0932, 0.0778, 0.013, 0.082, 0.1806, -0.0356, 0.1664, -0.0631, 0.0969, -0.0064, -0.0897, 0.0013, -0.0891, -0.0683, 0.0046, 0.0809, 0.1152, -0.0448, -0.0465, -0.0834, -0.0489, -0.018, -0.0162, -0.042, -0.06, 0.0115, -0.1077, -0.0426, 0.0605, 0.024, 0.1134, 0.0965, -0.0847, -0.0706, -0.0286, -0.0374, 0.0173, -0.141, -0.5036, 0.0631, 0.0894, -0.1384, 0.0391, 0.1424, -0.1151, -0.0407, 0.1023, 0.0771, -0.0397, 0.0114, -0.0368, -0.103, -0.0081, 0.0525, 0.0368, -0.0572, -0.1594, 0.0071, -0.0784, 0.0994, 0.1379, -0.0822, 0.089, 0.0186, 0.0742, 0.0121, -0.08, -0.0321, -0.146, 0.0844, 0.0311, 0.0378, -0.0401, -0.0046, -0.0352, 0.0703, -0.1149, -0.0823, -0.0564, -0.0337, -0.0621, 0.1196, -0.0899, -0.023, -0.0102, 0.2099, 0.035, 0.0258, -0.0065, 0.0637, -0.0836, 3.1117, -0.0745, 0.1315, -0.0128, 0.006, 0.0013, 0.0804, 0.0509, 0.101, -0.1189, 0.0281, 0.0729, 0.0608, -0.1033, 0.0579, 0.0988, -0.0602, 0.0843, 0.003, 0.1849, 0.582, 0.069, 0.0572, 0.0931, -0.1628, -0.0778, -0.0431, -0.088, 0.1159, 0.1544, -0.193, -0.0536, 0.0953, -0.1218, -0.142, -0.1473, 0.0449, -0.0842, 0.1309, -0.0085, 0.0712, -0.0358, 0.0164, -0.0433, -0.0136, 0.1022, -0.3135, -0.0504, -0.0582, 0.1453, -0.0591, -0.0066, -0.006, 0.1825, 0.2465, -0.2817, -0.0519, -0.0975, -0.1649, -0.01, 0.008, -0.14, -0.0105, 0.1353, 0.0098, 0.0238, -0.0209, -0.0191, 0.1451, -0.0527, -0.0136, -0.213, -0.0119, 0.0623, -0.0154, 0.0844, -0.0088, -0.0434, -0.0829, 0.0661, 0.0516, 0.0181, 0.0189, 0.0069, -0.046, 0.0424, 0.1014, -0.1192, -0.0102, -0.0048, -0.0199, -0.0139, 0.0742, -0.0567, 0.0416, 0.0126, 0.0301, 0.0324, -0.0212, -0.0018, -0.1976, -0.0631, -0.0913, -0.0061, -0.038, 0.0729, 0.0636, 0.1013, -0.0748, 0.0822, -0.0032, -0.0497, -0.1387, 0.0537, 0.1617, 0.1513, 0.0771, 0.0736, 0.0824, -0.0102, 0.0635, 0.0625, 0.0394, 0.0086, -0.01, -0.0199, -0.0002, -0.0928, 0.0144, 0.0486, 0.0648, 0.0295, 0.0289, -0.0858, -0.1401, 0.0281, 0.0065, -0.0066, -0.006, -0.0313, 0.0136, 0.0239, 0.0412, 0.0144, -0.0025, -0.1374, 0.0993, -0.1081, -0.0259, -0.1227, -0.0226, -0.0378, -0.0018, 0.0995, 0.0199, -0.0158, 0.0653, 0.0302, 0.0274, 0.0571, -0.0445, -0.0999, -0.0495, 0.0325, 0.1122, 0.0446, 0.0229, -0.0735, -0.0319, -0.0384, 0.0054, -0.0852, -0.0009, -0.1613, 0.0704, -0.0457, -0.0578, -0.0866, 0.031, -0.0044, -0.0919, 0.0349, -0.1037, -0.146, 0.0708, -0.0069, 0.0214, -0.0733, 0.0142, 0.0131, -0.0176, -0.0196, -0.0537, -0.0001, -0.1504, 0.0144, 0.0678, -0.0898, -0.0486, 0.0426, 0.0235, -0.0598, -0.0559, -0.1765, 0.0485, 0.0506, 0.0813, 0.0309, -0.0228, -0.0765, -0.0868, 0.0099, 0.0619, -0.0235, -0.0265, 0.1112, 0.0256, -0.0448, 0.05, 0.0938, -0.0779, -0.015, -0.015, 0.0175, -0.1602, 0.0623, -0.0169, 0.0083, -0.032, -0.0452, 0.0586, 0.0931, -0.1102, 0.0391, -0.0761, 0.0696, -0.1021, -0.0617, -0.0271, -0.0251, 0.0036, -0.0697, 0.0597, -0.0066, 0.1512, 0.0446, -0.05, 0.0354, -0.1585, 0.0716, -0.0122, -0.1218, 0.0397, -0.0425, 0.0624])),\n",
       " Row(id='2rts', mean_embed=DenseVector([-0.0098, 0.0469, -0.0827, -0.2216, 0.1444, -0.073, -0.0229, -0.0858, -0.0569, -0.0407, 0.0432, 0.0672, -0.0278, 0.0723, 0.0382, -0.0612, -0.0433, 0.0828, 0.0019, -0.0458, 0.0544, 0.0546, -0.0579, 0.0007, -0.0706, 0.0215, -0.0758, 0.0412, 0.0698, -0.0123, -0.0871, 0.0877, -0.0476, -0.0925, 0.0481, -0.0191, 0.0312, 0.0708, -0.1414, -0.1098, 0.0937, 0.0964, 0.0879, 0.0231, 0.0145, -0.228, 0.132, -0.0114, 0.0374, 0.0761, 0.0183, -0.0697, -0.0246, -0.0849, 0.0165, 0.0267, -0.0068, -0.1141, -0.0554, -0.036, -0.0898, -0.0665, 0.0675, -0.057, -0.0766, -0.0248, -0.0406, -0.0264, 0.1137, -0.09, -0.1754, 0.0747, -0.0248, -0.1173, 0.0755, -0.0242, -0.0658, 0.0551, -0.0053, 0.0337, -0.0138, 0.1131, 0.0275, 0.0565, 0.0868, -0.0763, -0.0463, -0.062, 0.2314, -0.0359, 0.004, -0.128, 0.0141, -0.112, 0.0132, 0.1185, 0.324, 0.0383, 0.0907, 0.0192, -0.0669, 0.0214, -0.0564, 0.0401, 0.0186, -0.1643, 0.0299, -0.056, -0.0084, 0.0702, -0.0542, 0.0046, 0.0684, 0.0195, -0.0837, -0.0169, 0.0373, 0.1615, 0.0013, -0.3225, 0.0578, 0.0268, 0.0072, 0.03, 0.0576, 0.0283, 0.1076, -0.0054, -0.1542, 0.0141, -0.1161, 0.0228, 0.0608, 0.0688, -0.0472, 0.0147, 0.0301, 0.0547, -0.0303, -0.0039, -0.0173, 0.0344, -0.0011, -0.1406, 0.0126, -0.0518, -0.164, 0.1052, -0.0063, 0.0278, -0.0199, 0.0614, 0.0307, -0.0343, -0.0791, -0.0368, -0.0597, -0.0575, -0.0993, 0.0699, -0.0962, 0.1028, 0.1488, -0.0747, 0.0377, -0.0058, -0.0528, 0.0213, -0.0489, -0.0434, -0.2162, -0.0032, -0.0701, 0.038, 0.0037, 0.0228, -0.0058, -0.1873, -0.022, 0.0086, -0.0412, -0.1177, 0.0, -0.0605, -0.037, 0.085, -0.0467, 0.0379, 0.0459, 0.072, 0.0133, -0.0781, -0.0192, 0.0773, 0.0736, 0.057, 0.1976, 0.0703, -0.0757, -0.0368, -0.0924, 0.1104, 0.0916, -0.026, 0.0857, -0.0285, -0.0515, 0.1315, -0.1692, -0.075, -0.1359, 0.0893, -0.1227, -0.0557, -0.0957, -0.0028, 0.0913, 0.1462, -0.1121, 0.0515, 0.284, -0.0585, 0.0453, -0.0534, -0.1354, 0.2058, 0.041, 0.2158, -0.0212, -0.0051, -0.0299, -0.0538, 0.0377, -0.0715, -0.1293, 0.13, -0.1147, -0.1125, -0.0486, -0.0249, -0.0267, 0.0081, 0.0227, 0.0011, 0.0888, 0.0224, -0.0667, 0.0557, 0.143, -0.0851, -0.0133, -0.0515, -0.0223, 0.1311, -0.0038, -0.0145, -0.0527, -0.0874, 0.07, 0.0229, -0.0923, -0.0377, -0.0563, 0.0764, 0.0825, 0.0556, -0.0435, 0.0582, 0.0652, -0.2008, -0.1377, 0.0067, -0.0242, -0.0101, -0.0207, 0.1174, -0.2355, -0.1096, 0.0454, 0.087, -0.0849, -0.0558, 0.0053, -0.0404, 0.0658, 0.1852, 0.0136, 0.0536, 0.0948, 0.1551, 0.0825, 0.2931, 0.0842, 0.0089, -0.0722, -0.0003, 0.2504, 0.1352, -0.1314, -0.1398, -0.0174, -0.0144, 0.0402, 0.0087, -0.1544, 0.0084, -0.0674, 0.1235, -0.0439, 0.0416, -0.0927, -0.0444, -0.0478, 0.1202, -0.1414, -0.0181, -0.081, -0.115, 0.0414, -0.0215, -0.0126, 0.0069, -0.0018, -0.1643, -0.0819, 0.01, -0.0497, 0.0223, 0.2167, 0.0421, -0.0551, 0.0255, 0.0538, -0.0255, -0.1097, 0.0917, 0.0354, -0.1108, 0.0207, -0.0499, 0.0357, 0.1217, 0.0057, 0.0856, -0.0094, 0.0369, -0.0732, 0.0499, 0.0811, 0.0543, -0.0595, -0.0674, -0.0819, -0.0617, -0.1277, -0.0358, -0.0718, 0.0596, -0.1676, -0.0158, 0.014, -0.0444, 0.0116, 0.1264, 0.0781, -0.0827, 0.0347, 0.0376, -0.002, -0.0529, 0.2793, 0.0539, 0.0445, -0.0157, -0.0487, 0.0321, -0.0768, 0.029, 0.053, 0.064, 0.0167, 0.0811, -0.0643, -0.0868, 0.0699, -0.106, 0.0606, -0.0201, -0.0565, 0.0262, 0.0777, -0.0392, -0.0658, 0.1716, -0.013, 0.101, -0.0214, 0.142, 0.0225, 0.0124, -0.0516, 0.0813, -0.0936, 0.045, -0.0498, 0.0244, -0.0045, -0.2079, 0.129, -0.0131, 0.0887, 0.0536, -0.0085, -0.0714, 0.0466, -0.0801, 0.0316, -0.0271, 0.0007, -0.1672, -0.0075, -0.0804, -0.1358, -0.0107, -0.1426, -0.0127, 0.0527, 0.0671, 0.1318, 0.0604, 0.0171, 0.0709, 0.0556, 0.0622, -0.0894, -0.2583, -0.0903, -0.1275, -0.0919, 0.0922, -0.0706, 0.0658, 0.0315, 0.0219, 0.0174, -0.0139, 0.0733, 0.0737, 0.0308, 0.0193, 0.0384, -0.0409, 0.0227, 0.0423, 0.056, 0.0067, 0.1064, -0.0209, -0.0775, 0.033, -0.0035, 0.0388, 0.0896, -0.0261, 0.0755, -0.0249, -0.0311, -0.0826, 0.0298, 0.0673, 0.0307, -0.0159, -0.1049, 0.0231, -0.0451, 0.1063, 0.104, -0.0536, 0.148, 0.0286, 0.0114, -0.0958, 0.0338, -0.0714, 0.0315, -0.0044, 0.136, 0.065, 0.0739, -0.0941, -0.0941, 0.0428, -0.098, -0.0585, 0.1215, 0.0555, 0.0256, -0.0671, -0.0625, 0.3022, 0.0668, 0.02, -0.1117, -0.0842, 0.0428, -0.0039, 0.059, -0.0289, 0.0475, 0.031, 0.0391, 0.0, -0.0487, -0.0894, 0.1063, -0.162, 0.0714, 0.0443, 0.0398, -0.0558, -0.0156, 0.0453, 0.0042, -0.117, 0.0707, 0.07, 0.0427, 0.0887, 0.0452, 0.0241, -0.0631, -0.0525, 0.1047, 0.0201, 0.0852, -0.0151, -0.0867, 0.1261, 0.0871, 0.0625, 0.0811, 0.0865, -0.0707, 0.0604, 0.0739, 0.0911, 0.0137, -0.1573, 0.0753, 0.0352, 0.1202, 0.0636, 0.0271, -0.0708, 0.0615, 0.0392, -0.0286, -0.0212, 0.1359, -0.0918, -0.1932, 0.0498, -0.1695, 0.0088, 0.0666, -0.2663, 0.1377, -0.0683, -0.0976, 0.0269, 0.0273, 0.0263, -0.0593, -0.0383, -0.0798, 0.0472, 0.0302, 0.1106, -0.0228, 0.1733, 0.0089, 0.1795, 0.0521, -0.0045, 0.1144, -0.1224, -0.026, -0.0958, -0.0279, -0.0652, 0.0599, -0.1091, 0.0775, 0.0264, 0.0253, -0.077, -0.0119, -0.205, -0.1024, 0.0077, 0.081, 0.0065, 0.0824, -0.0899, -0.0281, 0.0805, -0.0031, -0.0388, -0.078, -0.0429, -0.1027, 0.0524, 0.1171, -0.0432, 0.0329, -0.0377, -0.1353, 0.0565, -0.1296, 0.0331, 0.1191, 0.0158, 0.0106, -0.0533, -0.0249, -0.0601, -0.1001, 0.0251, 0.0109, 0.0735, -0.014, -0.132, 0.0444, 0.1044, 0.0959, 0.0796, 0.105, -0.1283, 0.0833, -0.0101, 0.0219, -0.0573, 0.0226, 0.0214, 0.0275, -0.0409, 0.1184, 0.0819, -0.0739, 0.0674, 0.0888, -0.1524, -0.0389, 0.0844, -0.008, -0.0948, -0.0306, -0.0654, 0.0779, 0.0028, 0.0328, 0.0229, 0.0128, -0.1116, -0.0401, 0.0245, -0.0063, 0.0633, -0.1184, 0.0365, -0.0624, 0.0567, -0.0086, -0.0314, -0.0222, 0.0334, 0.1339, 0.0901, -0.1019, 0.0826, 0.003, 0.0783, 0.1926, -0.0286, 0.1657, -0.0564, 0.1007, -0.0257, -0.0849, -0.0084, -0.091, -0.0678, -0.0017, 0.0865, 0.108, -0.0409, -0.0424, -0.0846, -0.0486, -0.0156, -0.0203, -0.0391, -0.0541, 0.0251, -0.1264, -0.0348, 0.0619, 0.0276, 0.1147, 0.0991, -0.0929, -0.0845, -0.0313, -0.038, 0.036, -0.1538, -0.5052, 0.0634, 0.087, -0.1184, 0.0411, 0.1363, -0.1097, -0.0402, 0.1051, 0.07, -0.0497, 0.0162, -0.036, -0.1024, -0.0101, 0.0487, 0.0359, -0.0529, -0.1653, 0.0073, -0.0745, 0.1047, 0.1474, -0.09, 0.0848, 0.0124, 0.0716, 0.0066, -0.0878, -0.0362, -0.1409, 0.0798, 0.0308, 0.0405, -0.0419, -0.0034, -0.0347, 0.0667, -0.1105, -0.0786, -0.0617, -0.0341, -0.065, 0.1147, -0.0815, -0.0177, -0.0123, 0.2157, 0.035, 0.0324, -0.0045, 0.0633, -0.0896, 3.1281, -0.0726, 0.1345, -0.019, 0.0064, -0.0075, 0.0869, 0.0522, 0.1009, -0.1208, 0.04, 0.0672, 0.0535, -0.1109, 0.057, 0.0962, -0.0561, 0.084, 0.0079, 0.1935, 0.5923, 0.0644, 0.0625, 0.0904, -0.1678, -0.0761, -0.0404, -0.0916, 0.1078, 0.1591, -0.2059, -0.053, 0.0901, -0.1252, -0.1396, -0.1463, 0.0475, -0.0899, 0.1351, -0.015, 0.0776, -0.0393, 0.0141, -0.0473, -0.0117, 0.1093, -0.3099, -0.0494, -0.0572, 0.1391, -0.0606, 0.0027, -0.0127, 0.183, 0.2541, -0.3179, -0.0488, -0.0951, -0.1699, -0.0066, 0.0228, -0.145, -0.0141, 0.1439, 0.0134, 0.0275, -0.0182, -0.0209, 0.1509, -0.0589, -0.0166, -0.2125, -0.017, 0.0659, -0.0138, 0.081, -0.0129, -0.0468, -0.0713, 0.0683, 0.0452, 0.019, 0.0106, 0.0094, -0.0507, 0.0382, 0.0987, -0.1231, -0.0049, 0.0043, -0.0091, -0.0061, 0.071, -0.0629, 0.0413, 0.0146, 0.0331, 0.0328, -0.0183, -0.0032, -0.1597, -0.066, -0.0841, -0.014, -0.0442, 0.0736, 0.0723, 0.1113, -0.079, 0.0855, -0.006, -0.0568, -0.1442, 0.0557, 0.1636, 0.154, 0.0638, 0.0877, 0.0906, -0.0121, 0.0622, 0.0643, 0.0332, 0.0167, -0.0168, -0.0237, 0.001, -0.0897, -0.0016, 0.0483, 0.0604, 0.0387, 0.0282, -0.0808, -0.1499, 0.033, 0.0155, -0.0033, 0.0055, -0.035, 0.0151, 0.0244, 0.0393, 0.0172, -0.005, -0.1332, 0.1039, -0.1117, -0.0275, -0.1314, -0.0136, -0.0394, 0.0081, 0.1039, 0.0263, -0.0106, 0.0633, 0.0263, 0.0348, 0.0589, -0.0528, -0.0995, -0.0506, 0.0319, 0.1193, 0.0502, 0.024, -0.0776, -0.0344, -0.0279, 0.0102, -0.093, 0.007, -0.165, 0.0787, -0.0504, -0.0595, -0.0893, 0.0328, -0.0065, -0.0899, 0.0251, -0.1006, -0.1488, 0.0647, 0.0005, 0.0151, -0.0725, 0.0091, 0.0122, -0.0155, -0.0295, -0.064, -0.0038, -0.1597, 0.0095, 0.0628, -0.0914, -0.0521, 0.0455, 0.0238, -0.0651, -0.0541, -0.1853, 0.0498, 0.0563, 0.0844, 0.0389, -0.0212, -0.0785, -0.0833, 0.0003, 0.0659, -0.027, -0.0219, 0.1115, 0.0313, -0.0548, 0.0468, 0.0881, -0.0725, -0.0152, -0.0193, 0.0261, -0.1696, 0.0565, -0.0121, 0.0028, -0.0282, -0.047, 0.0548, 0.1033, -0.111, 0.0314, -0.0812, 0.0736, -0.1049, -0.0566, -0.0355, -0.0325, 0.0054, -0.0676, 0.0562, 0.007, 0.1702, 0.0419, -0.0543, 0.0369, -0.1648, 0.0775, -0.0137, -0.1266, 0.0383, -0.0505, 0.0654])),\n",
       " Row(id='6e8w', mean_embed=DenseVector([0.034, 0.0309, -0.0697, -0.2361, 0.1346, -0.0596, -0.0208, -0.0809, -0.0665, -0.0366, 0.0709, 0.0614, -0.0421, 0.0771, 0.0425, -0.0722, -0.0413, 0.0763, -0.0143, -0.0605, 0.0658, 0.0869, -0.0385, -0.0248, -0.0802, 0.0231, -0.0484, 0.0403, 0.0593, 0.0103, -0.0773, 0.1099, -0.0172, -0.0817, 0.0316, -0.0, 0.0353, 0.0495, -0.1361, -0.1109, 0.1076, 0.125, 0.0832, -0.0047, 0.014, -0.2013, 0.115, -0.0221, 0.0374, 0.0643, 0.0107, -0.1265, -0.0216, -0.0874, 0.0174, 0.0277, -0.0017, -0.1567, -0.0546, -0.0183, -0.076, -0.0746, 0.0951, -0.0529, -0.0892, -0.037, -0.0501, -0.0275, 0.1247, -0.0627, -0.1714, 0.0883, -0.046, -0.1381, 0.0713, -0.0523, -0.0895, 0.0564, -0.0041, 0.0585, -0.0064, 0.1436, -0.0029, 0.0678, 0.0902, -0.0895, -0.0699, -0.0921, 0.237, -0.0535, 0.0172, -0.117, -0.0047, -0.103, -0.0229, 0.1306, 0.3163, 0.0585, 0.0953, 0.0285, -0.0833, 0.0165, -0.0217, 0.0447, 0.0028, -0.1755, -0.0104, -0.0657, -0.0115, 0.0748, -0.0712, -0.006, 0.0446, 0.0252, -0.0671, -0.0221, 0.0264, 0.1462, 0.0019, -0.3042, 0.0454, 0.0192, 0.0112, 0.023, 0.0811, 0.0263, 0.1235, -0.017, -0.1417, 0.0221, -0.0982, 0.0436, 0.0784, 0.098, -0.0513, 0.0389, 0.0161, 0.0686, -0.0384, -0.0179, -0.028, 0.0034, -0.0089, -0.2161, 0.0207, 0.0111, -0.0978, 0.1136, 0.0049, 0.0167, -0.0084, 0.071, 0.0202, -0.0144, -0.0992, -0.0271, -0.0532, -0.0718, -0.0989, 0.0701, -0.079, 0.1051, 0.1484, -0.0734, 0.0295, -0.0289, -0.0453, 0.0156, -0.052, -0.0242, -0.2239, 0.0105, -0.0823, 0.0168, -0.0, 0.0452, 0.0443, -0.1634, -0.0145, 0.0263, -0.0345, -0.1264, 0.019, -0.0463, -0.0178, 0.0831, -0.058, 0.0704, 0.0689, 0.0522, -0.0058, -0.1144, 0.0069, 0.0757, 0.0526, 0.0551, 0.2112, 0.0853, -0.0673, -0.0371, -0.0699, 0.1247, 0.0774, -0.0196, 0.106, -0.0073, -0.0596, 0.129, -0.1923, -0.0861, -0.1268, 0.0974, -0.1082, -0.0527, -0.1252, -0.015, 0.0685, 0.1693, -0.101, 0.0502, 0.2538, -0.0244, 0.0546, -0.0574, -0.1565, 0.16, 0.0665, 0.2083, -0.0452, -0.0156, -0.0333, -0.0511, 0.0448, -0.104, -0.1176, 0.1097, -0.1174, -0.1268, -0.0475, -0.0027, -0.0358, 0.0084, 0.012, 0.0234, 0.1158, -0.0051, -0.0551, 0.0844, 0.1382, -0.0673, -0.0161, -0.0623, -0.0088, 0.1194, -0.0012, -0.0069, -0.0592, -0.0804, 0.0663, 0.0133, -0.0861, -0.0449, -0.0518, 0.0838, 0.0852, 0.0601, -0.0426, 0.0301, 0.0879, -0.1855, -0.1658, -0.0142, -0.0164, -0.0282, -0.0229, 0.1177, -0.2383, -0.0851, 0.0335, 0.0534, -0.0598, -0.0463, 0.0555, -0.0512, 0.0468, 0.1878, 0.036, 0.0369, 0.0914, 0.1514, 0.0886, 0.4114, 0.0816, -0.0195, -0.0688, -0.0155, 0.2393, 0.1147, -0.1571, -0.1426, -0.0158, -0.0219, 0.0303, 0.0206, -0.1858, 0.0426, -0.0903, 0.1117, -0.1088, 0.0579, -0.079, -0.013, -0.0559, 0.1383, -0.1121, -0.0006, -0.0909, -0.1488, 0.0081, -0.0141, 0.013, -0.0115, -0.0038, -0.1682, -0.0667, 0.0009, -0.0323, 0.0011, 0.1629, 0.0445, -0.0759, 0.0313, 0.033, -0.0116, -0.1182, 0.0627, 0.0588, -0.1146, 0.0224, -0.0395, 0.0393, 0.1143, -0.0162, 0.0887, -0.0352, 0.0277, -0.0675, 0.0458, 0.0636, 0.0584, -0.0469, -0.0648, -0.0558, -0.0692, -0.1321, -0.0351, -0.1154, 0.0646, -0.152, -0.0145, 0.0118, -0.0565, 0.0074, 0.1521, 0.0391, -0.0974, 0.0436, 0.0547, 0.0012, -0.0677, 0.2714, 0.0696, 0.0432, 0.0139, -0.0726, 0.0505, -0.0802, 0.0367, 0.0646, 0.0516, 0.0091, 0.0723, -0.1003, -0.0621, 0.0549, -0.1025, 0.0589, -0.0367, -0.0543, 0.0231, 0.0779, -0.0418, -0.0475, 0.15, -0.0063, 0.0578, -0.0153, 0.133, 0.0282, 0.0146, -0.0583, 0.0886, -0.0739, 0.0376, -0.0572, 0.0074, -0.0025, -0.2297, 0.1545, -0.0072, 0.0484, 0.0699, -0.0263, -0.0991, 0.0639, -0.0695, 0.0243, -0.0665, -0.0096, -0.1463, -0.009, -0.1014, -0.1482, -0.0276, -0.1563, -0.0102, 0.0839, 0.0906, 0.1121, 0.0523, 0.0021, 0.0557, 0.0905, 0.0674, -0.0732, -0.2802, -0.1183, -0.1435, -0.1197, 0.0939, -0.0902, 0.073, 0.0489, 0.008, 0.0153, -0.0261, 0.1257, 0.0484, 0.0556, 0.0183, 0.0471, -0.0304, 0.0177, 0.0479, 0.0518, 0.03, 0.1221, -0.0268, -0.0925, 0.0004, -0.0163, 0.0798, 0.0852, -0.0294, 0.0887, 0.012, -0.022, -0.093, 0.0105, 0.0958, 0.066, 0.0043, -0.1139, 0.0062, -0.0192, 0.1261, 0.097, -0.0517, 0.174, 0.0244, 0.0132, -0.0824, 0.0483, -0.0427, 0.0649, -0.0077, 0.1234, 0.0233, 0.0703, -0.107, -0.0708, 0.0372, -0.1192, -0.0304, 0.1274, 0.0493, 0.0441, -0.063, -0.0353, 0.2549, 0.0859, 0.017, -0.1071, -0.1097, 0.0232, -0.0226, 0.066, -0.0295, 0.0263, 0.029, 0.047, 0.022, -0.0506, -0.1048, 0.0892, -0.1379, 0.0835, 0.0392, 0.044, -0.0766, -0.0281, 0.0536, 0.0286, -0.1394, 0.0991, 0.1039, 0.0773, 0.1084, 0.0226, 0.0129, -0.0751, -0.0592, 0.1014, -0.0114, 0.067, -0.0571, -0.0599, 0.1005, 0.115, 0.0799, 0.0687, 0.0825, -0.0687, 0.0563, 0.0907, 0.0963, 0.0033, -0.1818, 0.0625, 0.0495, 0.0944, 0.0667, 0.0207, -0.0779, 0.0459, 0.0382, -0.0299, 0.0026, 0.1194, -0.0798, -0.2285, 0.0387, -0.1402, -0.0013, 0.0794, -0.2698, 0.1557, -0.044, -0.1299, 0.0223, 0.017, 0.0331, -0.0649, -0.0583, -0.0949, 0.0426, 0.0371, 0.0872, 0.0002, 0.1713, 0.0188, 0.1757, 0.0527, -0.0095, 0.1387, -0.1123, -0.0225, -0.0984, -0.0347, -0.0649, 0.087, -0.1216, 0.1111, 0.0158, 0.0421, -0.0811, -0.0186, -0.2142, -0.0744, 0.0101, 0.1011, 0.0103, 0.0782, -0.0825, -0.0134, 0.0895, 0.0199, -0.0176, -0.0638, -0.0567, -0.0758, 0.0774, 0.1442, -0.0382, 0.023, -0.0371, -0.1168, 0.0525, -0.0821, 0.0379, 0.1007, 0.0408, 0.0069, -0.0608, 0.0125, -0.0594, -0.0828, -0.0079, 0.0203, 0.0827, -0.0226, -0.1557, 0.0331, 0.0924, 0.1123, 0.0566, 0.1029, -0.1207, 0.0767, -0.0323, 0.0117, -0.0461, 0.0156, 0.021, 0.0114, -0.0721, 0.0861, 0.0796, -0.0549, 0.0846, 0.0871, -0.1438, -0.0253, 0.0661, 0.0211, -0.0709, -0.0581, -0.0681, 0.0993, 0.0387, 0.0557, 0.036, 0.0262, -0.0941, -0.0439, 0.0141, -0.0205, 0.0531, -0.1542, 0.0213, -0.075, 0.0561, 0.0127, -0.0165, -0.0352, 0.0471, 0.1216, 0.1082, -0.0905, 0.0708, 0.0146, 0.08, 0.1869, -0.0226, 0.1764, -0.058, 0.1254, 0.004, -0.0946, 0.0156, -0.0941, -0.0769, 0.0023, 0.0884, 0.1358, -0.0563, -0.0611, -0.0886, -0.0542, -0.0102, 0.0166, -0.0398, -0.0978, 0.034, -0.0985, -0.0437, 0.0616, -0.0139, 0.1302, 0.0642, -0.1139, -0.0681, -0.0177, -0.0262, 0.0137, -0.1471, -0.4328, 0.1092, 0.0733, -0.0995, 0.0373, 0.1347, -0.1192, -0.0127, 0.1177, 0.0497, -0.0156, -0.0007, -0.0251, -0.1014, -0.0199, 0.0576, 0.0437, -0.0553, -0.1621, -0.0013, -0.0922, 0.0988, 0.1499, -0.0955, 0.089, 0.0418, 0.098, 0.0163, -0.09, -0.0366, -0.1818, 0.0754, 0.0169, 0.0326, -0.0572, -0.008, -0.0201, 0.0492, -0.1395, -0.0587, -0.0712, -0.0105, -0.0737, 0.1146, -0.0921, -0.0296, 0.0104, 0.2182, 0.0356, 0.0153, 0.0025, 0.0415, -0.1026, 3.0757, -0.067, 0.1234, -0.0021, -0.0102, -0.029, 0.0607, 0.0133, 0.1018, -0.1246, 0.0344, 0.0968, 0.0896, -0.1034, 0.0508, 0.1415, -0.0829, 0.0962, 0.0049, 0.1783, 0.6249, 0.0698, 0.061, 0.0851, -0.1677, -0.1102, -0.0269, -0.0491, 0.144, 0.1756, -0.1924, -0.0581, 0.0979, -0.1167, -0.151, -0.1295, 0.0353, -0.0974, 0.1144, -0.019, 0.0889, -0.0426, 0.0126, -0.045, -0.0174, 0.0751, -0.328, -0.023, -0.0833, 0.1483, -0.0931, 0.0188, -0.0043, 0.1998, 0.2505, -0.4441, -0.0571, -0.0959, -0.1591, 0.0152, 0.0055, -0.1295, -0.0075, 0.145, -0.0093, 0.0164, -0.0303, -0.0257, 0.1564, -0.0793, -0.0263, -0.1754, -0.0295, 0.076, -0.0168, 0.0668, 0.0132, -0.067, -0.0898, 0.0666, 0.0638, 0.0011, 0.0409, 0.012, -0.0655, 0.0739, 0.0921, -0.1539, 0.0097, -0.0211, -0.0419, -0.0275, 0.0787, -0.0725, 0.0232, 0.0268, 0.0124, 0.054, -0.0353, 0.0133, -0.1914, -0.0459, -0.1185, 0.0048, -0.006, 0.0741, 0.0591, 0.1037, -0.0783, 0.0625, 0.0213, -0.0599, -0.1266, 0.0381, 0.1854, 0.1498, 0.0562, 0.0622, 0.0701, -0.0159, 0.0433, 0.0779, 0.0447, -0.0091, 0.0119, 0.0111, 0.0154, -0.1373, 0.0077, 0.0321, 0.0695, 0.005, 0.0268, -0.0867, -0.1657, 0.0452, -0.0251, -0.0013, -0.0208, -0.0042, 0.021, 0.0033, 0.0606, -0.0053, -0.0072, -0.1328, 0.0929, -0.1014, -0.0312, -0.1078, -0.0015, -0.0348, -0.0129, 0.1055, 0.0329, -0.0175, 0.0731, 0.0461, 0.0304, 0.0553, -0.0687, -0.1307, -0.061, 0.0154, 0.1161, 0.0412, 0.045, -0.0756, -0.0683, -0.0596, 0.0043, -0.1116, -0.0098, -0.1638, 0.083, -0.0209, -0.0595, -0.1039, 0.0305, 0.0042, -0.1096, 0.0245, -0.115, -0.1445, 0.1256, -0.0068, 0.0222, -0.0862, 0.0321, 0.0374, -0.0078, -0.0322, -0.0411, 0.0007, -0.1526, 0.0056, 0.0569, -0.073, -0.0405, 0.0429, 0.0205, -0.08, -0.0769, -0.1708, 0.0683, 0.0569, 0.0732, 0.0386, -0.0568, -0.083, -0.0878, 0.0068, 0.0448, -0.0019, -0.0433, 0.1458, 0.0247, -0.0205, 0.049, 0.0931, -0.0875, -0.0085, -0.0204, 0.0224, -0.1251, 0.0874, -0.0192, -0.0095, -0.0302, -0.052, 0.0326, 0.0944, -0.1067, 0.0691, -0.0827, 0.0687, -0.1025, -0.0483, -0.0338, -0.0348, -0.0079, -0.0637, 0.0702, 0.0119, 0.1628, 0.0423, -0.0422, 0.0328, -0.1593, 0.0697, -0.0224, -0.1396, 0.0418, -0.0084, 0.0762])),\n",
       " Row(id='1wis', mean_embed=DenseVector([-0.0121, 0.0482, -0.0853, -0.2213, 0.1438, -0.0711, -0.0162, -0.0868, -0.0588, -0.0408, 0.0451, 0.0676, -0.0373, 0.0601, 0.0329, -0.0619, -0.0407, 0.0857, 0.0009, -0.0492, 0.0488, 0.0504, -0.0537, -0.0023, -0.0742, 0.0301, -0.0761, 0.0458, 0.0675, -0.008, -0.0895, 0.0927, -0.0381, -0.0969, 0.0539, -0.0124, 0.0256, 0.0704, -0.1345, -0.1114, 0.089, 0.098, 0.0915, 0.0219, 0.0094, -0.2274, 0.12, -0.012, 0.0363, 0.0862, 0.0239, -0.0699, -0.0185, -0.0857, 0.0111, 0.0291, -0.0061, -0.1219, -0.0508, -0.0375, -0.0813, -0.0587, 0.0696, -0.0531, -0.0679, -0.0314, -0.0331, -0.0208, 0.1194, -0.0801, -0.1787, 0.0728, -0.031, -0.1122, 0.0747, -0.0312, -0.0673, 0.05, -0.0146, 0.0342, -0.0091, 0.1047, 0.024, 0.0557, 0.0859, -0.0797, -0.0498, -0.0354, 0.235, -0.033, -0.0025, -0.1308, 0.0082, -0.1059, 0.0125, 0.1181, 0.3267, 0.0434, 0.0922, 0.0173, -0.0636, 0.0211, -0.0478, 0.0331, 0.0168, -0.1589, 0.0244, -0.0515, -0.002, 0.0732, -0.0576, 0.0039, 0.065, 0.0246, -0.0825, -0.0132, 0.037, 0.1551, 0.0001, -0.3054, 0.0459, 0.0203, 0.0137, 0.0231, 0.061, 0.0332, 0.1102, -0.0133, -0.1504, 0.0215, -0.1076, 0.0214, 0.0569, 0.0697, -0.0412, 0.0219, 0.0257, 0.053, -0.0378, -0.0072, -0.0146, 0.0281, -0.0, -0.1363, 0.0147, -0.0532, -0.1541, 0.1047, -0.0088, 0.0279, -0.0204, 0.0588, 0.0275, -0.029, -0.0721, -0.0409, -0.0619, -0.0598, -0.1016, 0.0655, -0.0977, 0.1059, 0.1432, -0.0732, 0.0371, -0.014, -0.0481, 0.018, -0.0429, -0.0362, -0.2108, 0.0074, -0.0686, 0.0395, 0.008, 0.0182, -0.0038, -0.1864, -0.0248, 0.0073, -0.0439, -0.1132, 0.0081, -0.0547, -0.0338, 0.0838, -0.0544, 0.0349, 0.0536, 0.0682, 0.0047, -0.0848, -0.0188, 0.0781, 0.0711, 0.058, 0.1963, 0.0697, -0.0767, -0.0332, -0.0857, 0.1124, 0.0921, -0.0305, 0.0804, -0.0295, -0.0595, 0.1279, -0.1702, -0.0765, -0.1256, 0.0847, -0.1187, -0.0492, -0.0952, -0.0081, 0.0874, 0.1457, -0.1095, 0.0515, 0.2724, -0.0523, 0.038, -0.0584, -0.1317, 0.1965, 0.042, 0.2242, -0.0225, -0.007, -0.0248, -0.0529, 0.0338, -0.0725, -0.1277, 0.1251, -0.1156, -0.0982, -0.0575, -0.022, -0.0279, 0.0028, 0.0203, 0.0042, 0.096, 0.0169, -0.0606, 0.0538, 0.1374, -0.0827, -0.0133, -0.0479, -0.0256, 0.1328, 0.0033, -0.0119, -0.0522, -0.0897, 0.072, 0.0174, -0.0788, -0.0399, -0.053, 0.074, 0.0907, 0.0565, -0.0361, 0.0612, 0.0679, -0.1892, -0.1392, 0.0102, -0.024, -0.0077, -0.015, 0.1061, -0.2332, -0.1058, 0.042, 0.0789, -0.0741, -0.0579, 0.0116, -0.0409, 0.0713, 0.1816, 0.0122, 0.0504, 0.0885, 0.1518, 0.0877, 0.2826, 0.0856, 0.0159, -0.0742, -0.0037, 0.2518, 0.1384, -0.1291, -0.1413, -0.0239, -0.0133, 0.042, 0.0064, -0.1723, 0.0091, -0.069, 0.1209, -0.0418, 0.0346, -0.0915, -0.0454, -0.0491, 0.1121, -0.1394, -0.0114, -0.0764, -0.1231, 0.0338, -0.0159, -0.0122, 0.0039, -0.0058, -0.1695, -0.0828, 0.0133, -0.0461, 0.0116, 0.2099, 0.0419, -0.0538, 0.0276, 0.0457, -0.0171, -0.1131, 0.0862, 0.0362, -0.1132, 0.0192, -0.0542, 0.0334, 0.122, 0.0121, 0.082, -0.0188, 0.0274, -0.0713, 0.0426, 0.0802, 0.0592, -0.0526, -0.0701, -0.0779, -0.0608, -0.1294, -0.0397, -0.0697, 0.0552, -0.1663, -0.013, 0.0118, -0.0485, 0.006, 0.1185, 0.0705, -0.0864, 0.0315, 0.0367, 0.001, -0.0507, 0.2702, 0.0547, 0.047, -0.0207, -0.0456, 0.03, -0.073, 0.0301, 0.0611, 0.0699, 0.0214, 0.081, -0.0691, -0.0779, 0.075, -0.1081, 0.0629, -0.0137, -0.059, 0.0192, 0.0758, -0.0434, -0.0655, 0.1677, -0.0112, 0.1033, -0.0227, 0.1314, 0.0214, 0.0135, -0.0528, 0.0772, -0.0948, 0.0413, -0.0507, 0.0121, -0.0106, -0.2024, 0.133, -0.0231, 0.0811, 0.0531, -0.0087, -0.0789, 0.0442, -0.0719, 0.0272, -0.0208, 0.004, -0.1664, 0.0017, -0.0769, -0.1286, -0.0095, -0.1364, -0.0127, 0.0591, 0.0693, 0.1287, 0.06, 0.0216, 0.0691, 0.055, 0.0627, -0.0887, -0.2532, -0.1014, -0.1307, -0.0941, 0.0886, -0.069, 0.0583, 0.0333, 0.0218, 0.016, -0.0167, 0.0753, 0.0729, 0.0289, 0.0214, 0.0333, -0.0377, 0.0349, 0.0471, 0.0561, 0.014, 0.0969, -0.0251, -0.0753, 0.0298, -0.0076, 0.0392, 0.0881, -0.0288, 0.072, -0.0302, -0.0333, -0.0775, 0.0259, 0.068, 0.0357, -0.0183, -0.1075, 0.0271, -0.036, 0.1072, 0.0966, -0.0623, 0.1404, 0.0248, 0.0151, -0.0979, 0.0364, -0.0684, 0.0365, -0.0064, 0.1272, 0.0579, 0.0684, -0.0974, -0.0984, 0.0532, -0.0963, -0.0478, 0.1241, 0.0556, 0.0251, -0.0587, -0.0614, 0.2796, 0.0698, 0.0118, -0.1144, -0.0905, 0.0431, -0.0082, 0.0549, -0.0265, 0.0399, 0.0365, 0.0321, -0.0008, -0.0404, -0.0898, 0.1043, -0.1517, 0.0734, 0.0422, 0.0381, -0.0571, -0.0169, 0.0509, 0.0042, -0.1117, 0.0732, 0.0746, 0.0487, 0.079, 0.0379, 0.018, -0.0617, -0.0511, 0.1066, 0.0454, 0.0737, -0.0161, -0.0811, 0.1284, 0.087, 0.0638, 0.0908, 0.0832, -0.0755, 0.054, 0.0743, 0.0874, 0.0204, -0.1446, 0.0729, 0.0399, 0.0996, 0.0538, 0.0274, -0.0659, 0.0604, 0.042, -0.0357, -0.0158, 0.1387, -0.0837, -0.191, 0.0527, -0.1698, 0.0175, 0.0638, -0.2495, 0.136, -0.0562, -0.0913, 0.0298, 0.0311, 0.0196, -0.0642, -0.0358, -0.0828, 0.0376, 0.0389, 0.1116, -0.0203, 0.1757, 0.0142, 0.1728, 0.0528, -0.009, 0.1097, -0.1246, -0.0172, -0.0869, -0.0249, -0.0654, 0.0493, -0.1221, 0.0829, 0.0251, 0.0228, -0.0735, -0.007, -0.1968, -0.0919, -0.0063, 0.0859, 0.0057, 0.0733, -0.0905, -0.0198, 0.0781, -0.0013, -0.0414, -0.0702, -0.0392, -0.0937, 0.0656, 0.1158, -0.0369, 0.0251, -0.0364, -0.1277, 0.0546, -0.1249, 0.0303, 0.1152, 0.0201, 0.0054, -0.0616, -0.0204, -0.0584, -0.0994, 0.0266, 0.0137, 0.0716, -0.0214, -0.1358, 0.0418, 0.1057, 0.0966, 0.0665, 0.1015, -0.1257, 0.0744, -0.0139, 0.0126, -0.0497, 0.0199, 0.0243, 0.0199, -0.038, 0.1266, 0.0816, -0.0698, 0.0703, 0.0881, -0.1432, -0.0429, 0.0851, -0.0009, -0.0941, -0.0211, -0.0642, 0.0789, 0.0015, 0.0295, 0.0334, 0.0166, -0.1171, -0.0434, 0.0234, -0.0042, 0.0583, -0.1248, 0.0289, -0.0637, 0.0553, -0.0098, -0.0246, -0.0185, 0.0389, 0.13, 0.092, -0.1054, 0.0748, 0.0056, 0.0804, 0.1788, -0.0317, 0.1628, -0.061, 0.0924, -0.0164, -0.0865, -0.0064, -0.096, -0.0647, 0.0071, 0.0869, 0.1082, -0.0429, -0.0415, -0.0777, -0.0448, -0.0162, -0.0189, -0.0414, -0.0541, 0.0144, -0.1121, -0.0381, 0.0605, 0.0291, 0.1085, 0.1025, -0.0879, -0.074, -0.0277, -0.0417, 0.0212, -0.1488, -0.5117, 0.0627, 0.0855, -0.1376, 0.04, 0.139, -0.1085, -0.0497, 0.096, 0.0725, -0.0441, 0.0071, -0.0333, -0.1029, -0.0054, 0.0516, 0.0332, -0.0545, -0.167, 0.0024, -0.0707, 0.1007, 0.1432, -0.0927, 0.0939, 0.0119, 0.0752, 0.0099, -0.0891, -0.0353, -0.1428, 0.0851, 0.0307, 0.0319, -0.0301, -0.0042, -0.0374, 0.0681, -0.1149, -0.0795, -0.0527, -0.0387, -0.0647, 0.1126, -0.0856, -0.0243, -0.0061, 0.2153, 0.0339, 0.0312, -0.0058, 0.0597, -0.0846, 3.1227, -0.0747, 0.13, -0.0157, 0.0049, -0.0087, 0.0867, 0.0555, 0.1, -0.1157, 0.0279, 0.0758, 0.0582, -0.106, 0.0563, 0.1046, -0.0551, 0.0797, 0.0063, 0.1813, 0.5722, 0.0683, 0.0566, 0.0873, -0.1662, -0.083, -0.0452, -0.0913, 0.1095, 0.1565, -0.2035, -0.0514, 0.0943, -0.1204, -0.1413, -0.1464, 0.0473, -0.0848, 0.1221, -0.014, 0.0689, -0.0377, 0.0147, -0.0353, -0.0151, 0.1016, -0.312, -0.0493, -0.0615, 0.1412, -0.0586, -0.0096, -0.0058, 0.1814, 0.2474, -0.3273, -0.0476, -0.0977, -0.1666, -0.0109, 0.018, -0.1392, -0.0085, 0.1365, 0.0162, 0.0292, -0.0191, -0.0207, 0.1523, -0.0581, -0.0178, -0.2149, -0.0181, 0.0598, -0.0104, 0.0817, -0.0051, -0.048, -0.0752, 0.0655, 0.0543, 0.0129, 0.0133, 0.0019, -0.0432, 0.0402, 0.1033, -0.1213, -0.0093, 0.0015, -0.0121, -0.0154, 0.071, -0.057, 0.0455, 0.0127, 0.0283, 0.0352, -0.0142, -0.007, -0.1844, -0.0633, -0.08, -0.0032, -0.0373, 0.0699, 0.073, 0.0978, -0.0757, 0.0891, -0.0048, -0.0492, -0.1398, 0.0559, 0.1539, 0.1484, 0.0861, 0.0754, 0.0832, -0.0067, 0.0618, 0.0606, 0.032, 0.0147, -0.009, -0.0168, 0.0094, -0.0874, 0.0019, 0.0443, 0.0686, 0.0268, 0.0263, -0.0759, -0.1402, 0.026, 0.0155, -0.0043, -0.0028, -0.0305, 0.0094, 0.0267, 0.0379, 0.0241, 0.0003, -0.1294, 0.1032, -0.1058, -0.031, -0.1286, -0.0178, -0.0386, 0.0017, 0.0991, 0.0185, -0.016, 0.072, 0.0331, 0.0313, 0.0551, -0.044, -0.1026, -0.048, 0.0332, 0.1147, 0.0424, 0.0202, -0.0696, -0.0276, -0.0277, 0.009, -0.0862, 0.0047, -0.1591, 0.0745, -0.0487, -0.0577, -0.0806, 0.0338, -0.0061, -0.0854, 0.036, -0.1046, -0.1549, 0.0718, -0.0043, 0.0201, -0.0723, 0.0055, 0.0185, -0.0204, -0.0192, -0.0584, 0.0015, -0.1527, 0.011, 0.0636, -0.0922, -0.057, 0.0384, 0.0266, -0.0562, -0.0509, -0.1892, 0.0583, 0.0536, 0.08, 0.0295, -0.0221, -0.0734, -0.0875, 0.0072, 0.0712, -0.0216, -0.0186, 0.1138, 0.0266, -0.0529, 0.0532, 0.0969, -0.0769, -0.0083, -0.0192, 0.0213, -0.1702, 0.0492, -0.0143, 0.012, -0.0308, -0.0426, 0.0561, 0.0992, -0.1108, 0.0341, -0.0852, 0.0731, -0.1088, -0.0574, -0.0308, -0.0348, 0.0076, -0.0634, 0.0576, -0.005, 0.1607, 0.0478, -0.0565, 0.0388, -0.1569, 0.0764, -0.0081, -0.1217, 0.0359, -0.0493, 0.0581])),\n",
       " Row(id='2k9p', mean_embed=DenseVector([0.0142, 0.0402, -0.0738, -0.2315, 0.143, -0.0599, -0.0165, -0.0861, -0.0657, -0.0399, 0.0506, 0.0588, -0.033, 0.0705, 0.0367, -0.0615, -0.0371, 0.0804, -0.005, -0.0557, 0.058, 0.0613, -0.0378, -0.0173, -0.0836, 0.0188, -0.0584, 0.0425, 0.0595, 0.0049, -0.0802, 0.1041, -0.0332, -0.0806, 0.0489, -0.0102, 0.0328, 0.0569, -0.1341, -0.1146, 0.1008, 0.102, 0.0916, 0.0116, 0.0118, -0.2129, 0.1211, -0.0192, 0.0368, 0.0674, 0.0124, -0.0927, -0.02, -0.0849, 0.0146, 0.0288, -0.0003, -0.1382, -0.0513, -0.0207, -0.0828, -0.0621, 0.0681, -0.0588, -0.0781, -0.0335, -0.0386, -0.0205, 0.1148, -0.0816, -0.1749, 0.0719, -0.0341, -0.1199, 0.0735, -0.0467, -0.0799, 0.0495, -0.0135, 0.0385, -0.0091, 0.1295, 0.0053, 0.0656, 0.0811, -0.0874, -0.056, -0.0669, 0.2405, -0.0496, 0.0058, -0.1187, 0.004, -0.1057, -0.004, 0.1282, 0.3215, 0.0537, 0.0914, 0.0212, -0.0618, 0.0143, -0.0398, 0.0407, 0.0155, -0.1589, 0.0097, -0.0565, 0.0, 0.0768, -0.063, 0.0001, 0.0522, 0.0249, -0.0755, -0.0255, 0.0315, 0.1596, 0.0032, -0.3247, 0.045, 0.026, 0.0172, 0.0219, 0.0688, 0.0316, 0.1162, -0.016, -0.1448, 0.0235, -0.1035, 0.0337, 0.0644, 0.0849, -0.0436, 0.0283, 0.0295, 0.0602, -0.0407, -0.0119, -0.0307, 0.0216, -0.0084, -0.1765, 0.0181, -0.0492, -0.1282, 0.1109, 0.0009, 0.0176, -0.0148, 0.0623, 0.0167, -0.0144, -0.0941, -0.0308, -0.0578, -0.0722, -0.0939, 0.0628, -0.0881, 0.1025, 0.1464, -0.0751, 0.0289, -0.0285, -0.047, 0.023, -0.0454, -0.0368, -0.2209, 0.0112, -0.0752, 0.0353, -0.0019, 0.0315, 0.0137, -0.1815, -0.0185, 0.0132, -0.037, -0.1162, 0.0012, -0.0573, -0.0269, 0.0803, -0.0572, 0.0491, 0.059, 0.0645, 0.0004, -0.0938, -0.0085, 0.0678, 0.0623, 0.0599, 0.2016, 0.0767, -0.0718, -0.0399, -0.0758, 0.1113, 0.0836, -0.0198, 0.0943, -0.0238, -0.0579, 0.1356, -0.1845, -0.0792, -0.1239, 0.0872, -0.1176, -0.053, -0.1047, -0.0126, 0.0765, 0.1595, -0.1071, 0.0451, 0.2636, -0.0405, 0.0454, -0.0546, -0.1396, 0.1827, 0.0519, 0.2172, -0.0407, -0.0143, -0.0262, -0.0519, 0.035, -0.0863, -0.1164, 0.1231, -0.1072, -0.1116, -0.05, -0.016, -0.028, 0.0054, 0.0189, 0.0154, 0.106, 0.0004, -0.0621, 0.0654, 0.1359, -0.0719, -0.0091, -0.0569, -0.0126, 0.1322, 0.0047, -0.0093, -0.0607, -0.0869, 0.0693, 0.015, -0.0799, -0.0466, -0.0502, 0.0777, 0.0801, 0.0643, -0.0415, 0.0507, 0.0776, -0.1959, -0.1541, 0.0007, -0.0234, -0.0225, -0.0209, 0.1085, -0.239, -0.0928, 0.0342, 0.0657, -0.0717, -0.0516, 0.0226, -0.0468, 0.0614, 0.1923, 0.0186, 0.0534, 0.0877, 0.1543, 0.089, 0.3582, 0.0767, 0.0015, -0.0794, -0.0075, 0.2481, 0.1329, -0.1422, -0.136, -0.0166, -0.0136, 0.0336, 0.0169, -0.1793, 0.0263, -0.084, 0.1132, -0.0725, 0.0502, -0.085, -0.0277, -0.047, 0.1165, -0.1242, -0.0061, -0.0864, -0.1318, 0.0131, -0.0099, -0.0012, -0.0032, -0.0029, -0.1633, -0.0711, 0.0056, -0.0378, 0.0039, 0.1811, 0.0467, -0.0648, 0.0259, 0.0351, -0.0161, -0.1131, 0.0712, 0.0546, -0.111, 0.0252, -0.0473, 0.0366, 0.1197, 0.008, 0.0854, -0.0261, 0.028, -0.0651, 0.0446, 0.0766, 0.0582, -0.0493, -0.0704, -0.0655, -0.0617, -0.14, -0.0412, -0.0876, 0.0587, -0.159, -0.0164, 0.0097, -0.0597, -0.0039, 0.1422, 0.0586, -0.0842, 0.0364, 0.0443, 0.0045, -0.0516, 0.2699, 0.0643, 0.044, -0.0034, -0.0618, 0.0374, -0.0755, 0.0382, 0.0607, 0.0613, 0.0133, 0.0803, -0.0808, -0.0685, 0.0617, -0.1098, 0.0576, -0.0266, -0.0626, 0.0207, 0.0791, -0.0482, -0.0547, 0.1685, -0.0077, 0.0825, -0.0232, 0.1201, 0.0216, 0.0119, -0.0553, 0.086, -0.0859, 0.0445, -0.0585, 0.0161, -0.0011, -0.216, 0.1435, -0.0154, 0.0617, 0.0622, -0.0217, -0.0846, 0.0609, -0.0692, 0.0215, -0.0386, 0.0043, -0.1559, -0.0099, -0.0955, -0.137, -0.0176, -0.1493, -0.0095, 0.0709, 0.0717, 0.117, 0.0574, 0.0068, 0.0652, 0.0677, 0.0627, -0.085, -0.2586, -0.1027, -0.1299, -0.1046, 0.0875, -0.0781, 0.0615, 0.0379, 0.0116, 0.0158, -0.0209, 0.1106, 0.0634, 0.0394, 0.0276, 0.0356, -0.0335, 0.0237, 0.0464, 0.0544, 0.0169, 0.1047, -0.0282, -0.0838, 0.0125, -0.0061, 0.0556, 0.0888, -0.0273, 0.0806, -0.0092, -0.0285, -0.0883, 0.0185, 0.0781, 0.0485, -0.0035, -0.1107, 0.0094, -0.0211, 0.1158, 0.1087, -0.0566, 0.1498, 0.0225, 0.022, -0.1003, 0.0396, -0.0525, 0.0547, -0.0052, 0.1275, 0.0394, 0.0671, -0.1017, -0.0871, 0.0457, -0.1121, -0.0439, 0.1255, 0.0525, 0.0352, -0.0677, -0.056, 0.2846, 0.0714, 0.0181, -0.106, -0.1023, 0.0295, -0.0071, 0.0564, -0.0248, 0.033, 0.0283, 0.0366, 0.014, -0.0508, -0.0981, 0.0958, -0.1465, 0.0772, 0.0475, 0.0476, -0.0575, -0.0238, 0.0532, 0.0233, -0.1272, 0.0879, 0.0837, 0.0592, 0.091, 0.0308, 0.0147, -0.0744, -0.055, 0.105, 0.0179, 0.0693, -0.032, -0.0729, 0.1252, 0.1056, 0.069, 0.0811, 0.0809, -0.0739, 0.05, 0.082, 0.0931, 0.0164, -0.1599, 0.0642, 0.0361, 0.0949, 0.0553, 0.0245, -0.07, 0.0577, 0.0462, -0.0247, -0.0106, 0.1282, -0.0795, -0.216, 0.041, -0.1568, 0.0093, 0.0685, -0.2568, 0.1508, -0.0458, -0.1059, 0.015, 0.0264, 0.0291, -0.064, -0.0495, -0.0871, 0.0338, 0.0397, 0.0993, -0.0184, 0.1739, 0.0089, 0.171, 0.0482, -0.0118, 0.1233, -0.118, -0.0231, -0.0943, -0.0302, -0.0706, 0.0666, -0.1223, 0.0928, 0.0204, 0.0281, -0.0841, -0.0079, -0.2087, -0.0904, 0.0064, 0.0945, 0.0133, 0.076, -0.0951, -0.0227, 0.0893, 0.0106, -0.0399, -0.0721, -0.0458, -0.0793, 0.0695, 0.1273, -0.0385, 0.0197, -0.0383, -0.124, 0.0531, -0.1075, 0.0366, 0.1059, 0.0281, 0.0073, -0.0626, 0.0009, -0.0614, -0.0845, 0.0098, 0.0156, 0.0818, -0.0172, -0.1434, 0.0418, 0.0988, 0.1072, 0.0618, 0.113, -0.1183, 0.0758, -0.0208, 0.0059, -0.0454, 0.0164, 0.021, 0.0194, -0.0504, 0.1043, 0.0874, -0.0615, 0.0752, 0.0889, -0.1463, -0.0334, 0.0806, 0.0036, -0.0757, -0.0336, -0.0692, 0.0961, 0.0183, 0.0456, 0.0382, 0.0128, -0.0987, -0.0396, 0.022, -0.0124, 0.0555, -0.1449, 0.0347, -0.067, 0.0548, -0.004, -0.0183, -0.0286, 0.0373, 0.1221, 0.1028, -0.1051, 0.0725, 0.0055, 0.0864, 0.1864, -0.0155, 0.1649, -0.0546, 0.1061, 0.0026, -0.099, 0.004, -0.0918, -0.0692, 0.0067, 0.0856, 0.1267, -0.0517, -0.0473, -0.087, -0.0422, -0.0132, -0.0016, -0.0432, -0.0725, 0.0262, -0.1, -0.0465, 0.0556, 0.0125, 0.1275, 0.081, -0.0976, -0.0752, -0.0149, -0.0311, 0.0196, -0.1518, -0.4846, 0.0889, 0.0712, -0.1267, 0.0401, 0.1362, -0.1161, -0.028, 0.1098, 0.0596, -0.0332, 0.0058, -0.0266, -0.0993, -0.0099, 0.0562, 0.0384, -0.0634, -0.165, 0.0036, -0.0798, 0.1011, 0.1472, -0.1007, 0.0942, 0.0282, 0.0845, 0.0151, -0.0909, -0.0283, -0.1633, 0.0836, 0.0183, 0.0325, -0.0451, -0.0079, -0.0271, 0.0585, -0.125, -0.0709, -0.0653, -0.0283, -0.0816, 0.1123, -0.0885, -0.0275, 0.0012, 0.2179, 0.0356, 0.0282, 0.0027, 0.0499, -0.0924, 3.0722, -0.0746, 0.1243, -0.0014, 0.0067, -0.0209, 0.0689, 0.0314, 0.0952, -0.1176, 0.0359, 0.0923, 0.0781, -0.1159, 0.0559, 0.1297, -0.0653, 0.0862, 0.0013, 0.178, 0.5826, 0.0671, 0.0608, 0.092, -0.1712, -0.0957, -0.033, -0.0797, 0.1249, 0.1714, -0.1897, -0.0481, 0.0941, -0.1185, -0.1484, -0.1393, 0.0384, -0.0854, 0.117, -0.0209, 0.0815, -0.0381, 0.0058, -0.0398, -0.0184, 0.0842, -0.3143, -0.0417, -0.0777, 0.1505, -0.0727, -0.0009, -0.0033, 0.1894, 0.2524, -0.3527, -0.0548, -0.0908, -0.1552, -0.0036, 0.0224, -0.138, -0.0103, 0.1463, 0.0076, 0.0234, -0.0253, -0.0226, 0.1558, -0.0637, -0.0127, -0.187, -0.0237, 0.0702, -0.0188, 0.0671, 0.002, -0.0627, -0.0804, 0.0692, 0.0514, 0.0063, 0.0284, 0.0087, -0.0609, 0.0571, 0.1026, -0.1339, 0.0031, -0.0044, -0.0243, -0.0179, 0.061, -0.0554, 0.0324, 0.0223, 0.0287, 0.0476, -0.0261, 0.0052, -0.1753, -0.0607, -0.0988, -0.0028, -0.0266, 0.0721, 0.0651, 0.0977, -0.0722, 0.0726, 0.0065, -0.055, -0.1337, 0.0433, 0.1654, 0.1442, 0.0658, 0.0695, 0.0798, -0.0158, 0.0599, 0.0663, 0.0361, 0.004, 0.0014, -0.0051, 0.015, -0.1108, 0.0074, 0.0418, 0.065, 0.0175, 0.03, -0.0856, -0.1535, 0.0305, 0.0023, 0.0009, -0.0133, -0.0247, 0.0193, 0.0163, 0.0525, 0.0105, -0.0043, -0.1289, 0.1046, -0.1001, -0.033, -0.1279, -0.0144, -0.0408, -0.0067, 0.0995, 0.0296, -0.0187, 0.0712, 0.0395, 0.0307, 0.057, -0.057, -0.1143, -0.0479, 0.0316, 0.1173, 0.0424, 0.0357, -0.0699, -0.0452, -0.0408, 0.002, -0.1047, -0.0028, -0.1565, 0.0794, -0.0336, -0.0604, -0.0953, 0.0361, 0.0013, -0.0955, 0.0312, -0.1076, -0.1514, 0.0994, -0.0075, 0.0172, -0.0797, 0.0187, 0.0232, -0.0103, -0.0356, -0.0485, 0.0074, -0.152, 0.0132, 0.0611, -0.0869, -0.0546, 0.0354, 0.0235, -0.0652, -0.0639, -0.1821, 0.0658, 0.0603, 0.0821, 0.0325, -0.0383, -0.0783, -0.0779, 0.006, 0.0591, -0.0078, -0.0252, 0.1232, 0.018, -0.0422, 0.0511, 0.0947, -0.0794, -0.0168, -0.0122, 0.0239, -0.1531, 0.0687, -0.0198, -0.0016, -0.0259, -0.0442, 0.0443, 0.094, -0.1094, 0.0468, -0.0736, 0.0699, -0.1016, -0.0538, -0.0322, -0.03, -0.001, -0.0633, 0.0617, 0.0102, 0.1615, 0.0398, -0.0527, 0.0401, -0.1623, 0.0707, -0.0237, -0.1316, 0.032, -0.0215, 0.0609])),\n",
       " Row(id='2m20', mean_embed=DenseVector([0.0197, 0.0365, -0.0751, -0.2393, 0.131, -0.0555, -0.0218, -0.0793, -0.0736, -0.0433, 0.0625, 0.0707, -0.0405, 0.0717, 0.0375, -0.0633, -0.0403, 0.0732, -0.0104, -0.0595, 0.0652, 0.0762, -0.0457, -0.018, -0.0803, 0.0259, -0.0628, 0.0416, 0.069, 0.0109, -0.0752, 0.1104, -0.0272, -0.0798, 0.0308, -0.0043, 0.0292, 0.0585, -0.1437, -0.1152, 0.1035, 0.1213, 0.0779, 0.0014, 0.0172, -0.206, 0.1278, -0.0125, 0.0398, 0.0726, 0.014, -0.1108, -0.0158, -0.0747, 0.0185, 0.0273, -0.0063, -0.1456, -0.0657, -0.0212, -0.0818, -0.0773, 0.0766, -0.0634, -0.0926, -0.0341, -0.0364, -0.0301, 0.1281, -0.0768, -0.185, 0.0915, -0.0424, -0.1353, 0.0697, -0.0469, -0.086, 0.0492, -0.0072, 0.0595, -0.0091, 0.1321, 0.0151, 0.0672, 0.086, -0.089, -0.0596, -0.1009, 0.2289, -0.0595, 0.0185, -0.1175, -0.002, -0.1099, -0.0195, 0.1279, 0.3213, 0.0629, 0.0921, 0.0212, -0.0744, 0.0192, -0.033, 0.0401, 0.008, -0.1695, 0.0014, -0.0685, -0.0037, 0.0706, -0.0681, -0.0025, 0.0466, 0.0275, -0.0709, -0.0315, 0.0241, 0.1496, 0.0056, -0.3209, 0.0551, 0.0171, 0.0133, 0.0241, 0.0824, 0.0225, 0.1241, -0.0147, -0.1498, 0.0186, -0.1036, 0.0401, 0.0716, 0.0936, -0.0473, 0.0311, 0.0247, 0.069, -0.0373, -0.0207, -0.0235, 0.0107, -0.0045, -0.2074, 0.0175, -0.0118, -0.1053, 0.1173, 0.0059, 0.0255, -0.0175, 0.0709, 0.0176, -0.0149, -0.096, -0.0267, -0.0622, -0.0655, -0.1034, 0.0767, -0.0815, 0.1054, 0.1516, -0.0742, 0.0223, -0.0248, -0.0444, 0.0127, -0.0486, -0.0298, -0.2267, 0.0011, -0.0835, 0.0247, -0.0002, 0.0372, 0.0306, -0.1611, -0.0206, 0.0262, -0.0374, -0.1244, 0.0154, -0.0562, -0.0276, 0.0875, -0.053, 0.0549, 0.0706, 0.0519, -0.001, -0.1151, 0.0023, 0.0728, 0.0568, 0.063, 0.2019, 0.0833, -0.0694, -0.0396, -0.0769, 0.1165, 0.0879, -0.0203, 0.095, -0.0101, -0.0541, 0.1274, -0.1867, -0.0835, -0.1246, 0.1019, -0.11, -0.051, -0.1166, -0.014, 0.0738, 0.1668, -0.1021, 0.0606, 0.255, -0.0323, 0.0582, -0.0508, -0.1553, 0.1719, 0.0613, 0.2089, -0.0395, -0.0186, -0.0272, -0.0508, 0.045, -0.0994, -0.1206, 0.1223, -0.0864, -0.1265, -0.051, -0.0062, -0.0328, 0.0131, 0.0075, 0.0286, 0.1094, -0.0042, -0.0638, 0.0679, 0.1412, -0.0732, -0.0199, -0.0632, -0.0204, 0.1241, -0.0013, -0.0146, -0.0659, -0.0873, 0.0725, 0.0209, -0.0858, -0.0337, -0.057, 0.0845, 0.0897, 0.0583, -0.0397, 0.0474, 0.0782, -0.1902, -0.1636, -0.0092, -0.0248, -0.0268, -0.0191, 0.112, -0.2399, -0.0861, 0.0347, 0.0622, -0.0664, -0.0383, 0.041, -0.0449, 0.0492, 0.18, 0.0349, 0.0431, 0.0985, 0.1497, 0.0883, 0.3821, 0.076, -0.0165, -0.0743, -0.0135, 0.2415, 0.1279, -0.1486, -0.1414, -0.0114, -0.0197, 0.0254, 0.0197, -0.1726, 0.0362, -0.0843, 0.1189, -0.0897, 0.0517, -0.0945, -0.0215, -0.0492, 0.129, -0.1263, -0.0109, -0.0918, -0.1434, 0.0161, -0.0104, 0.0031, -0.0064, -0.0104, -0.1669, -0.0746, 0.0042, -0.0405, 0.0115, 0.1443, 0.0494, -0.0701, 0.0288, 0.0367, -0.0116, -0.107, 0.0658, 0.0446, -0.1243, 0.0185, -0.0342, 0.0406, 0.1236, -0.0119, 0.0951, -0.0262, 0.0335, -0.0702, 0.0375, 0.0662, 0.0546, -0.057, -0.0569, -0.0587, -0.0623, -0.1388, -0.0331, -0.1087, 0.0619, -0.158, -0.0181, 0.0066, -0.0584, 0.0087, 0.1519, 0.0526, -0.0939, 0.0386, 0.0542, 0.004, -0.0582, 0.2817, 0.0796, 0.0453, 0.0005, -0.0681, 0.0376, -0.0773, 0.0345, 0.0648, 0.0611, 0.0206, 0.0746, -0.0971, -0.0696, 0.0622, -0.1022, 0.0539, -0.0359, -0.0611, 0.0293, 0.0831, -0.0525, -0.0543, 0.1609, -0.0062, 0.0692, -0.0166, 0.1348, 0.0223, 0.0159, -0.0551, 0.0931, -0.0745, 0.0362, -0.056, 0.0164, -0.0075, -0.2264, 0.1436, -0.0016, 0.0555, 0.062, -0.0243, -0.0887, 0.0646, -0.0642, 0.02, -0.0504, -0.0045, -0.1492, -0.0138, -0.1038, -0.1433, -0.0182, -0.1472, -0.0046, 0.0761, 0.0826, 0.1152, 0.051, 0.001, 0.0557, 0.0858, 0.0635, -0.0793, -0.2663, -0.1162, -0.1413, -0.1135, 0.0886, -0.09, 0.0766, 0.0415, 0.0112, 0.0093, -0.0148, 0.1196, 0.0526, 0.0495, 0.0254, 0.0454, -0.0336, 0.0165, 0.0416, 0.0566, 0.023, 0.1169, -0.0264, -0.0791, 0.0077, -0.0124, 0.0676, 0.0772, -0.0311, 0.0806, 0.009, -0.0238, -0.0862, 0.0192, 0.0998, 0.0597, -0.0036, -0.1062, 0.0034, -0.019, 0.1234, 0.102, -0.0497, 0.1698, 0.0215, 0.0141, -0.0885, 0.0404, -0.0407, 0.056, -0.0112, 0.1253, 0.0357, 0.0656, -0.1023, -0.0758, 0.0397, -0.1112, -0.0439, 0.1227, 0.0538, 0.0441, -0.0739, -0.0428, 0.2663, 0.0936, 0.0124, -0.1057, -0.113, 0.029, -0.0207, 0.0679, -0.0253, 0.0362, 0.0293, 0.0469, 0.0208, -0.0466, -0.1046, 0.0878, -0.1429, 0.0763, 0.0435, 0.037, -0.0716, -0.0265, 0.0628, 0.0336, -0.1359, 0.091, 0.0917, 0.0673, 0.104, 0.0341, 0.0183, -0.0681, -0.0664, 0.1044, 0.0082, 0.0773, -0.0398, -0.0635, 0.1022, 0.1106, 0.0734, 0.0666, 0.0888, -0.0636, 0.056, 0.0901, 0.0898, 0.0005, -0.1824, 0.0697, 0.052, 0.0971, 0.0627, 0.0232, -0.0702, 0.0481, 0.0305, -0.0288, 0.0, 0.1208, -0.0712, -0.2273, 0.0416, -0.155, -0.0001, 0.0757, -0.2734, 0.1502, -0.0531, -0.1272, 0.0183, 0.0251, 0.033, -0.0629, -0.0626, -0.1023, 0.0354, 0.0416, 0.0894, 0.0047, 0.1711, 0.0094, 0.1815, 0.0412, -0.008, 0.1352, -0.1228, -0.0241, -0.0962, -0.0383, -0.0746, 0.0791, -0.1252, 0.1065, 0.0122, 0.033, -0.0807, -0.0109, -0.2127, -0.0799, 0.0244, 0.0919, 0.0046, 0.0767, -0.0754, -0.0122, 0.0896, 0.0192, -0.0258, -0.0641, -0.057, -0.076, 0.0737, 0.1321, -0.0393, 0.0257, -0.0355, -0.1272, 0.0551, -0.0901, 0.0319, 0.1087, 0.0293, 0.0094, -0.0561, 0.009, -0.0632, -0.0769, 0.0052, 0.0246, 0.0878, -0.0159, -0.1526, 0.0352, 0.1035, 0.1236, 0.0673, 0.1129, -0.1241, 0.0796, -0.0291, 0.0151, -0.0584, 0.0178, 0.0127, 0.0223, -0.0686, 0.0993, 0.0874, -0.0467, 0.0783, 0.0942, -0.1464, -0.0304, 0.0803, 0.0222, -0.0703, -0.0532, -0.0669, 0.1013, 0.0323, 0.0553, 0.0457, 0.0217, -0.1026, -0.0486, 0.0113, -0.014, 0.0562, -0.1466, 0.0243, -0.078, 0.0518, 0.0115, -0.0179, -0.0349, 0.0421, 0.1352, 0.1069, -0.0863, 0.0782, 0.0128, 0.0822, 0.1882, -0.0292, 0.181, -0.0525, 0.1171, 0.0034, -0.1053, 0.0101, -0.0921, -0.0818, 0.0096, 0.0845, 0.1345, -0.0559, -0.0611, -0.0951, -0.0522, -0.0109, 0.0093, -0.0429, -0.0915, 0.0326, -0.0978, -0.0441, 0.0681, 0.0023, 0.1313, 0.0708, -0.1055, -0.0721, -0.0197, -0.0253, 0.0161, -0.1404, -0.4692, 0.0948, 0.0876, -0.118, 0.0412, 0.1384, -0.131, -0.016, 0.1219, 0.0641, -0.0177, 0.0038, -0.0279, -0.1058, -0.0171, 0.0592, 0.0405, -0.0659, -0.1603, 0.007, -0.0906, 0.0998, 0.1433, -0.0889, 0.0864, 0.0378, 0.0934, 0.0159, -0.0873, -0.0316, -0.174, 0.0791, 0.0211, 0.0366, -0.0602, -0.0043, -0.0217, 0.0577, -0.1295, -0.0718, -0.0706, -0.0156, -0.0757, 0.1194, -0.0986, -0.0309, 0.0019, 0.2143, 0.0405, 0.0244, -0.0, 0.047, -0.1002, 3.0554, -0.0708, 0.134, 0.0067, -0.001, -0.0061, 0.0655, 0.0293, 0.0964, -0.1251, 0.0283, 0.0854, 0.0796, -0.1011, 0.0608, 0.1177, -0.0822, 0.0952, -0.0059, 0.1857, 0.6245, 0.0719, 0.0618, 0.0915, -0.1654, -0.091, -0.0292, -0.0596, 0.1398, 0.1777, -0.185, -0.0558, 0.1006, -0.1185, -0.1481, -0.1438, 0.0423, -0.1, 0.1266, -0.0167, 0.0863, -0.0358, 0.0084, -0.0521, -0.0162, 0.0843, -0.3295, -0.0355, -0.0764, 0.15, -0.0802, 0.0087, -0.0072, 0.1939, 0.2418, -0.3196, -0.0581, -0.0974, -0.1603, 0.0045, 0.0068, -0.134, -0.0095, 0.1406, -0.0002, 0.0123, -0.0357, -0.0287, 0.1527, -0.0714, -0.0188, -0.1925, -0.0283, 0.0779, -0.0145, 0.0667, 0.0063, -0.0581, -0.0929, 0.0648, 0.0599, 0.0068, 0.0381, 0.0165, -0.0605, 0.0632, 0.0946, -0.1401, -0.002, -0.0145, -0.0448, -0.0255, 0.0768, -0.0755, 0.0274, 0.0246, 0.0293, 0.0458, -0.036, 0.0146, -0.2051, -0.0615, -0.1132, -0.0033, -0.0189, 0.0755, 0.0491, 0.102, -0.0767, 0.0647, 0.0222, -0.0632, -0.1365, 0.044, 0.186, 0.1551, 0.0625, 0.0678, 0.0775, -0.0189, 0.055, 0.075, 0.0466, -0.0115, 0.0064, 0.0051, 0.0062, -0.1267, 0.0212, 0.0427, 0.0673, 0.0199, 0.0303, -0.1003, -0.1606, 0.037, -0.0157, -0.0018, -0.0177, -0.0195, 0.0222, 0.0043, 0.0618, -0.0023, -0.0099, -0.152, 0.0978, -0.1104, -0.0282, -0.1179, -0.0151, -0.0399, -0.012, 0.1062, 0.0314, -0.0234, 0.0621, 0.0332, 0.0285, 0.0556, -0.0663, -0.1256, -0.0548, 0.0174, 0.1144, 0.0474, 0.0383, -0.0767, -0.0558, -0.058, 0.0034, -0.1088, -0.0065, -0.1611, 0.084, -0.0318, -0.0631, -0.1031, 0.0306, -0.0023, -0.1089, 0.0284, -0.1139, -0.142, 0.1076, -0.0054, 0.0244, -0.0835, 0.034, 0.0305, -0.0031, -0.0305, -0.0499, 0.0035, -0.149, 0.0135, 0.0617, -0.0759, -0.0346, 0.0456, 0.0137, -0.0777, -0.0693, -0.1696, 0.0561, 0.0549, 0.0806, 0.0401, -0.0496, -0.0823, -0.096, 0.0084, 0.046, -0.0056, -0.0381, 0.1291, 0.0222, -0.0293, 0.0521, 0.0898, -0.0806, -0.0146, -0.017, 0.0158, -0.135, 0.0907, -0.0196, -0.0017, -0.035, -0.0593, 0.0413, 0.0929, -0.1106, 0.0604, -0.0717, 0.066, -0.0934, -0.0537, -0.0355, -0.0244, -0.0012, -0.0703, 0.0647, 0.0056, 0.1548, 0.0404, -0.0421, 0.0385, -0.1565, 0.0683, -0.0258, -0.1348, 0.0432, -0.0196, 0.0728])),\n",
       " Row(id='2l49', mean_embed=DenseVector([0.0023, 0.0388, -0.0854, -0.2247, 0.1542, -0.0697, -0.0187, -0.097, -0.0628, -0.0411, 0.0392, 0.0652, -0.0302, 0.0702, 0.0365, -0.0598, -0.0409, 0.0886, 0.0093, -0.0431, 0.0501, 0.0531, -0.0526, -0.0086, -0.0733, 0.0236, -0.0755, 0.0453, 0.0676, -0.0116, -0.0896, 0.0933, -0.0422, -0.0906, 0.0534, -0.0176, 0.032, 0.067, -0.1276, -0.1168, 0.0969, 0.1051, 0.0927, 0.0182, 0.013, -0.2265, 0.1188, -0.0192, 0.036, 0.076, 0.0196, -0.0701, -0.0257, -0.0939, 0.0042, 0.0295, -0.0059, -0.1246, -0.0454, -0.0328, -0.0891, -0.0603, 0.0604, -0.0577, -0.0721, -0.0403, -0.0373, -0.017, 0.1189, -0.0878, -0.1775, 0.0698, -0.0287, -0.1116, 0.0714, -0.0348, -0.0761, 0.0499, -0.0093, 0.0331, -0.0079, 0.1135, 0.0161, 0.0574, 0.0847, -0.0802, -0.0567, -0.046, 0.2385, -0.038, 0.001, -0.1356, 0.0042, -0.1072, 0.0124, 0.1238, 0.343, 0.0498, 0.0903, 0.0242, -0.054, 0.0247, -0.0522, 0.0284, 0.0246, -0.1596, 0.0266, -0.0537, 0.0112, 0.0725, -0.0644, 0.0049, 0.07, 0.025, -0.08, -0.0203, 0.0341, 0.1711, 0.0014, -0.3148, 0.0419, 0.0238, 0.0108, 0.0201, 0.0602, 0.0355, 0.1062, -0.0049, -0.1474, 0.0278, -0.104, 0.0279, 0.0586, 0.0764, -0.0426, 0.0183, 0.0324, 0.054, -0.0412, -0.0129, -0.0241, 0.0336, -0.005, -0.1441, 0.0142, -0.0667, -0.1528, 0.1084, -0.0042, 0.0236, -0.0225, 0.0566, 0.0305, -0.0223, -0.0772, -0.0434, -0.0645, -0.0641, -0.0967, 0.063, -0.0978, 0.1005, 0.1467, -0.0775, 0.031, -0.0147, -0.046, 0.0225, -0.0469, -0.0453, -0.2123, 0.0155, -0.0717, 0.0414, 0.0057, 0.0231, -0.0077, -0.1928, -0.024, 0.0061, -0.0416, -0.1162, 0.0011, -0.0593, -0.0362, 0.0828, -0.0568, 0.0373, 0.0459, 0.0836, -0.0024, -0.082, -0.0187, 0.0736, 0.0728, 0.0651, 0.2017, 0.0722, -0.082, -0.0337, -0.0831, 0.1148, 0.0889, -0.0256, 0.0817, -0.0347, -0.06, 0.1346, -0.1762, -0.0799, -0.1318, 0.0854, -0.1277, -0.0521, -0.0933, -0.0101, 0.0859, 0.1483, -0.1139, 0.0459, 0.2786, -0.0543, 0.0326, -0.0514, -0.1253, 0.1958, 0.0411, 0.2192, -0.034, -0.0084, -0.0265, -0.0505, 0.0332, -0.078, -0.126, 0.1317, -0.12, -0.0955, -0.0595, -0.0246, -0.0229, 0.0043, 0.0277, 0.0111, 0.0995, 0.0142, -0.0613, 0.0585, 0.1403, -0.0815, -0.0103, -0.053, -0.0175, 0.1368, 0.0056, -0.0155, -0.0571, -0.0871, 0.0718, 0.0191, -0.0774, -0.0473, -0.0487, 0.0759, 0.0872, 0.0609, -0.0461, 0.0619, 0.0727, -0.2037, -0.144, 0.0016, -0.0296, -0.0118, -0.0137, 0.1081, -0.2429, -0.1016, 0.0375, 0.08, -0.0811, -0.0579, 0.0044, -0.0456, 0.0671, 0.1901, 0.007, 0.0554, 0.0956, 0.1595, 0.0958, 0.2839, 0.0812, 0.0092, -0.0787, -0.0022, 0.2585, 0.1471, -0.1272, -0.1321, -0.0199, -0.0127, 0.045, 0.0095, -0.175, 0.0135, -0.0776, 0.1152, -0.0498, 0.0412, -0.0884, -0.0485, -0.0543, 0.1135, -0.1339, -0.005, -0.0854, -0.1278, 0.0249, -0.0097, -0.0126, 0.0076, -0.005, -0.1616, -0.0803, 0.0111, -0.0424, 0.0119, 0.2205, 0.0417, -0.0532, 0.026, 0.0366, -0.0136, -0.1105, 0.0823, 0.0471, -0.1085, 0.0291, -0.0507, 0.0356, 0.1219, 0.0181, 0.0827, -0.0142, 0.032, -0.067, 0.0488, 0.0861, 0.0568, -0.0508, -0.0758, -0.0734, -0.0595, -0.1361, -0.0451, -0.0714, 0.0589, -0.1634, -0.0111, 0.0109, -0.0476, 0.0012, 0.1296, 0.0679, -0.0845, 0.0352, 0.0335, 0.0053, -0.0537, 0.2777, 0.0625, 0.051, -0.0169, -0.0469, 0.026, -0.0741, 0.0326, 0.0609, 0.0645, 0.0043, 0.0877, -0.0706, -0.0822, 0.0712, -0.1148, 0.0683, -0.0193, -0.0564, 0.0212, 0.0821, -0.0431, -0.0628, 0.1785, -0.0118, 0.0971, -0.0243, 0.1182, 0.0137, 0.0089, -0.0533, 0.0849, -0.0982, 0.0387, -0.0531, 0.0177, -0.0038, -0.2074, 0.1409, -0.0225, 0.079, 0.0585, -0.0147, -0.0778, 0.0567, -0.0792, 0.0283, -0.0178, 0.0053, -0.1723, -0.0027, -0.0834, -0.1272, -0.0055, -0.1436, -0.0151, 0.0657, 0.0697, 0.1268, 0.0595, 0.0211, 0.0737, 0.0621, 0.0582, -0.0977, -0.2594, -0.0988, -0.1283, -0.0972, 0.0857, -0.0735, 0.0546, 0.0334, 0.0165, 0.0185, -0.0128, 0.0863, 0.0687, 0.0318, 0.0292, 0.0315, -0.0385, 0.0248, 0.0484, 0.0498, 0.0143, 0.0964, -0.0326, -0.0786, 0.0266, -0.0043, 0.0418, 0.089, -0.0187, 0.0757, -0.0252, -0.0332, -0.0918, 0.0227, 0.0622, 0.0371, -0.0122, -0.1116, 0.0256, -0.0341, 0.1057, 0.1097, -0.0643, 0.1393, 0.0302, 0.0202, -0.1046, 0.0283, -0.0686, 0.0348, -0.0052, 0.1367, 0.0588, 0.0743, -0.1008, -0.0962, 0.0495, -0.1007, -0.0483, 0.119, 0.051, 0.0289, -0.0651, -0.0697, 0.2701, 0.0674, 0.0149, -0.1098, -0.0961, 0.0342, -0.0033, 0.0593, -0.0312, 0.044, 0.0344, 0.0307, 0.0034, -0.045, -0.0916, 0.1024, -0.1473, 0.0802, 0.0439, 0.0417, -0.0533, -0.0206, 0.052, 0.0023, -0.116, 0.0857, 0.0737, 0.0542, 0.0869, 0.0351, 0.0159, -0.0694, -0.0478, 0.1099, 0.0232, 0.0718, -0.0153, -0.0797, 0.1355, 0.0908, 0.0648, 0.0911, 0.0859, -0.0772, 0.0511, 0.0748, 0.0922, 0.0223, -0.1492, 0.0692, 0.038, 0.0997, 0.0498, 0.0279, -0.0716, 0.0673, 0.0458, -0.0291, -0.0229, 0.14, -0.0808, -0.1934, 0.0478, -0.1728, 0.0102, 0.0714, -0.2569, 0.1406, -0.0618, -0.0933, 0.0225, 0.024, 0.0269, -0.0644, -0.0441, -0.0857, 0.0325, 0.0397, 0.1141, -0.0254, 0.1802, 0.0103, 0.169, 0.0397, -0.0138, 0.1098, -0.128, -0.0229, -0.0952, -0.0224, -0.0667, 0.0534, -0.1212, 0.0866, 0.0247, 0.0275, -0.0839, -0.0041, -0.2085, -0.0887, -0.0057, 0.0833, 0.0088, 0.0765, -0.0903, -0.0172, 0.09, -0.0047, -0.0472, -0.0717, -0.0346, -0.0833, 0.0613, 0.1209, -0.0378, 0.0255, -0.038, -0.1301, 0.054, -0.1253, 0.0344, 0.113, 0.0177, 0.0077, -0.0636, -0.0185, -0.0579, -0.0986, 0.0245, 0.0109, 0.0745, -0.0161, -0.1362, 0.0444, 0.1033, 0.1011, 0.0723, 0.1136, -0.1244, 0.0827, -0.0154, 0.0045, -0.0518, 0.0137, 0.0248, 0.0172, -0.043, 0.1189, 0.0682, -0.0714, 0.0705, 0.0942, -0.1428, -0.0391, 0.0902, -0.008, -0.091, -0.0238, -0.0667, 0.0787, 0.0026, 0.0375, 0.0343, 0.009, -0.1051, -0.0376, 0.0261, 0.0021, 0.0528, -0.13, 0.0361, -0.0608, 0.0568, -0.0073, -0.0226, -0.0237, 0.0377, 0.1277, 0.1007, -0.1152, 0.0686, 0.0088, 0.0851, 0.1877, -0.019, 0.1559, -0.0525, 0.0975, -0.0157, -0.0893, -0.0094, -0.1015, -0.064, 0.0086, 0.0837, 0.1177, -0.0436, -0.0405, -0.0795, -0.0448, -0.0082, -0.0195, -0.0438, -0.0556, 0.0279, -0.1142, -0.038, 0.0606, 0.0265, 0.1193, 0.1021, -0.0936, -0.0759, -0.0178, -0.0412, 0.0304, -0.1577, -0.5229, 0.0718, 0.0832, -0.128, 0.0463, 0.1373, -0.1101, -0.0457, 0.0997, 0.0682, -0.0422, 0.0076, -0.0261, -0.0965, -0.0009, 0.0555, 0.038, -0.0562, -0.1676, 0.0054, -0.0734, 0.1038, 0.1447, -0.1005, 0.0967, 0.0131, 0.0826, 0.0097, -0.0904, -0.0259, -0.1474, 0.0843, 0.024, 0.0333, -0.0344, -0.0001, -0.0311, 0.0634, -0.118, -0.0751, -0.0588, -0.0415, -0.075, 0.1143, -0.0905, -0.0276, -0.0009, 0.2216, 0.0409, 0.0327, 0.0002, 0.0567, -0.0868, 3.0953, -0.0786, 0.1333, -0.0119, 0.0063, -0.0146, 0.0774, 0.0436, 0.0954, -0.1188, 0.0367, 0.0861, 0.0653, -0.117, 0.0514, 0.1017, -0.0581, 0.0779, 0.0027, 0.1772, 0.5873, 0.068, 0.0605, 0.0947, -0.1703, -0.0904, -0.0438, -0.0907, 0.1093, 0.163, -0.2045, -0.0489, 0.0954, -0.1214, -0.1427, -0.1513, 0.0499, -0.0786, 0.1175, -0.0231, 0.0803, -0.0364, 0.0065, -0.0385, -0.0139, 0.0922, -0.3001, -0.0514, -0.0647, 0.1416, -0.0584, -0.0054, -0.0072, 0.1806, 0.2622, -0.3451, -0.0469, -0.0972, -0.1646, -0.0072, 0.0232, -0.1409, -0.0045, 0.1434, 0.0176, 0.0231, -0.0257, -0.0189, 0.1534, -0.0543, -0.0179, -0.205, -0.021, 0.0644, -0.0073, 0.0737, -0.0019, -0.0549, -0.0787, 0.0675, 0.0536, 0.0046, 0.0217, 0.0048, -0.0493, 0.0521, 0.1056, -0.125, -0.0092, 0.0055, -0.0112, -0.0164, 0.0571, -0.0534, 0.0412, 0.0182, 0.0333, 0.0454, -0.0158, -0.0073, -0.179, -0.0688, -0.083, -0.0115, -0.0353, 0.0721, 0.0724, 0.0993, -0.0784, 0.0859, -0.0029, -0.0501, -0.1435, 0.0551, 0.1559, 0.1487, 0.078, 0.0756, 0.0876, -0.0171, 0.0641, 0.0659, 0.0305, 0.0196, -0.0107, -0.0119, 0.0142, -0.0915, -0.0027, 0.0427, 0.0651, 0.0309, 0.02, -0.0742, -0.1443, 0.0287, 0.023, 0.0004, -0.0042, -0.0392, 0.016, 0.028, 0.0404, 0.0224, -0.0046, -0.1294, 0.1106, -0.1081, -0.0317, -0.1352, -0.0175, -0.0379, 0.0037, 0.1009, 0.022, -0.0227, 0.0776, 0.0308, 0.0348, 0.0528, -0.049, -0.1101, -0.0437, 0.0365, 0.1172, 0.0376, 0.0205, -0.07, -0.0379, -0.0312, 0.0039, -0.099, 0.0047, -0.1621, 0.0817, -0.0515, -0.0603, -0.0907, 0.0373, -0.006, -0.0878, 0.0376, -0.1039, -0.1615, 0.0807, -0.0001, 0.019, -0.0749, 0.0011, 0.0173, -0.0176, -0.0255, -0.0571, 0.0057, -0.1557, 0.0097, 0.0601, -0.0921, -0.0557, 0.033, 0.0224, -0.06, -0.0555, -0.1935, 0.0628, 0.0621, 0.0773, 0.0331, -0.0317, -0.0799, -0.0845, 0.0095, 0.0714, -0.0193, -0.0124, 0.1148, 0.0242, -0.049, 0.0502, 0.0979, -0.0691, -0.0131, -0.0123, 0.0268, -0.1757, 0.0475, -0.0144, 0.0108, -0.0273, -0.0419, 0.0567, 0.096, -0.1124, 0.0321, -0.0874, 0.0723, -0.1131, -0.0561, -0.0372, -0.0385, 0.0054, -0.057, 0.0609, 0.0055, 0.169, 0.0469, -0.062, 0.0441, -0.1593, 0.0772, -0.0169, -0.1265, 0.0321, -0.0404, 0.0547])),\n",
       " Row(id='1x3q', mean_embed=DenseVector([0.0411, 0.0591, -0.0423, -0.2303, 0.1563, -0.055, -0.0458, -0.0533, -0.0608, -0.0528, 0.0321, 0.0621, -0.0267, 0.0969, 0.0585, -0.1006, -0.0438, 0.0891, -0.0125, -0.0599, 0.0683, 0.0886, -0.0681, -0.0388, -0.0443, 0.0097, -0.0345, 0.0213, 0.0681, -0.053, -0.0376, 0.1045, -0.0855, -0.0504, 0.0592, -0.0333, 0.0303, 0.062, -0.1345, -0.1186, 0.1025, 0.121, 0.0817, 0.0189, 0.0293, -0.2518, 0.1307, -0.0208, 0.0514, 0.0235, -0.0014, -0.09, -0.0209, -0.1378, -0.0024, 0.0221, 0.008, -0.1257, -0.0569, -0.0253, -0.1057, -0.0926, 0.0838, -0.033, -0.0782, -0.0237, -0.0125, -0.0171, 0.1433, -0.0702, -0.1385, 0.0525, -0.0393, -0.067, 0.068, -0.0491, -0.0753, 0.0216, 0.0704, 0.0544, -0.0022, 0.0753, 0.0103, 0.0591, 0.0731, -0.0971, -0.0708, -0.1259, 0.2306, -0.0426, -0.0196, -0.0969, -0.0051, -0.1397, -0.0159, 0.1073, 0.3026, 0.0026, 0.1304, 0.0389, -0.0686, -0.0137, -0.063, 0.0654, 0.0113, -0.1703, -0.0256, -0.0764, -0.0119, 0.0661, -0.0504, 0.0202, 0.046, 0.0419, -0.1116, -0.0272, 0.0468, 0.1771, 0.0036, -0.3166, 0.0474, 0.0416, -0.0068, 0.0512, 0.0436, 0.0158, 0.1007, 0.0268, -0.0976, -0.0094, -0.1194, 0.0319, 0.0666, 0.0936, -0.0351, -0.0022, 0.0004, 0.0749, -0.0383, -0.0113, -0.0274, 0.0417, 0.0457, -0.1138, 0.0214, 0.0905, -0.1795, 0.136, -0.0017, 0.0154, 0.0075, 0.0503, 0.0468, -0.0367, -0.0284, -0.0367, -0.0239, -0.0415, -0.1157, 0.0976, -0.0937, 0.1113, 0.1426, -0.0776, 0.0445, 0.0197, -0.0522, 0.0121, -0.0308, -0.0575, -0.1998, -0.0364, -0.0627, -0.0086, -0.0038, 0.0312, -0.0139, -0.1895, -0.0184, 0.0331, -0.0247, -0.1315, 0.0196, -0.081, -0.029, 0.0679, -0.0883, 0.055, 0.0345, 0.087, 0.0142, -0.0405, 0.0021, 0.0937, 0.0859, 0.0569, 0.2255, 0.0803, -0.059, -0.0196, -0.1133, 0.0618, 0.0704, -0.02, 0.0883, -0.0072, -0.0549, 0.1492, -0.1615, -0.0424, -0.1409, 0.0924, -0.1118, -0.0682, -0.1113, -0.0181, 0.0614, 0.1462, -0.0662, 0.046, 0.3734, -0.0314, 0.0515, -0.0427, -0.1466, 0.1976, 0.0678, 0.219, -0.0025, -0.0146, -0.0159, -0.0491, 0.0427, -0.1275, -0.1001, 0.1158, -0.2279, -0.1056, -0.0356, -0.0178, -0.0124, 0.018, 0.0239, 0.0275, 0.1066, 0.0187, -0.0883, 0.0888, 0.1422, -0.103, -0.0269, -0.0898, 0.0195, 0.1154, -0.0108, -0.0061, -0.046, -0.0855, 0.0794, 0.0334, -0.1367, -0.0779, -0.0687, 0.0668, 0.0356, 0.0462, -0.057, 0.0226, 0.0443, -0.1825, -0.1339, 0.0056, -0.0356, -0.0036, -0.0379, 0.1562, -0.2089, -0.0888, 0.0529, 0.0884, -0.0678, -0.0723, 0.0128, -0.0505, -0.0055, 0.2249, -0.0084, 0.0397, 0.1086, 0.1572, 0.0532, 0.245, 0.0853, 0.0041, -0.0802, -0.021, 0.1963, 0.0722, -0.1643, -0.1519, -0.0071, -0.0142, 0.0648, -0.0101, -0.111, 0.0242, -0.0825, 0.123, -0.0525, 0.0691, -0.0622, -0.0208, -0.0274, 0.0783, -0.1078, -0.018, -0.0651, -0.1094, 0.0326, -0.0449, 0.0188, 0.0036, 0.0328, -0.1878, -0.047, -0.0219, -0.0331, 0.0095, 0.1988, 0.0584, -0.0802, 0.0406, 0.0733, -0.0237, -0.0912, 0.1147, 0.0619, -0.0925, -0.003, -0.0584, 0.0379, 0.139, -0.0347, 0.1079, 0.0103, 0.033, -0.0773, 0.0421, 0.0957, 0.0285, -0.0583, -0.096, -0.0827, -0.09, -0.1204, -0.0279, -0.095, 0.0498, -0.1578, 0.0337, 0.0298, -0.06, 0.0424, 0.142, 0.0535, -0.0666, 0.0597, 0.067, -0.005, -0.0952, 0.2974, 0.0385, 0.0304, 0.0247, -0.0679, 0.0141, -0.0824, 0.0253, 0.0282, 0.0209, -0.0079, 0.0294, -0.068, -0.0774, 0.0453, -0.0743, 0.0571, -0.0022, -0.0591, 0.0093, 0.0522, -0.0245, -0.0462, 0.1293, 0.03, 0.0821, -0.0306, 0.1729, 0.0205, 0.0219, -0.0379, 0.0701, -0.1074, 0.067, -0.0412, 0.0252, 0.0093, -0.2298, 0.1382, 0.0059, 0.0227, 0.0587, -0.0293, -0.0699, 0.0752, -0.0784, 0.0385, -0.0751, 0.0163, -0.1178, -0.023, -0.1061, -0.1279, -0.0219, -0.1224, -0.0544, 0.0436, 0.0913, 0.1285, 0.0676, -0.0145, 0.0718, 0.0722, 0.0633, -0.0683, -0.3396, -0.1186, -0.1216, -0.0993, 0.1052, -0.075, 0.0466, 0.0376, 0.0211, 0.0051, -0.034, 0.0547, 0.1059, 0.0417, -0.0049, 0.0648, -0.0105, 0.0026, 0.0255, 0.0787, 0.0029, 0.1571, 0.0079, -0.0919, 0.0215, 0.0127, 0.0589, 0.0965, -0.0085, 0.0964, 0.0026, -0.0261, -0.0734, 0.0535, 0.0864, 0.0647, -0.0129, -0.0912, 0.0177, -0.0145, 0.1166, 0.112, -0.0555, 0.1149, -0.0086, -0.0062, -0.087, 0.0504, -0.0578, 0.0364, -0.0167, 0.1062, 0.0932, 0.0739, -0.1031, -0.0773, 0.035, -0.0875, -0.0552, 0.1307, 0.0564, 0.0387, -0.1011, -0.0662, 0.3481, 0.0333, 0.0007, -0.0676, -0.0603, 0.0017, 0.0057, 0.0486, -0.0441, 0.023, 0.015, 0.0301, -0.0233, -0.0591, -0.0914, 0.092, -0.1602, 0.0666, 0.0244, 0.0416, -0.0305, -0.0016, 0.037, -0.0019, -0.1121, 0.0433, 0.09, 0.0158, 0.0819, 0.0216, 0.0427, -0.0813, -0.0602, 0.1053, -0.1715, 0.0694, -0.0412, -0.0952, 0.1009, 0.1038, 0.0411, 0.054, 0.0722, -0.0667, 0.0871, 0.102, 0.1279, 0.0106, -0.1804, 0.0484, 0.0106, 0.1093, 0.1067, 0.0282, -0.0578, 0.0833, 0.0348, -0.0017, -0.0066, 0.1152, -0.1168, -0.1906, 0.0306, -0.1449, -0.0061, 0.0831, -0.2856, 0.1322, -0.0565, -0.1156, -0.0081, 0.047, 0.0497, -0.0499, -0.0265, -0.0586, 0.0844, 0.0205, 0.0684, -0.0524, 0.1343, 0.0168, 0.1378, 0.0967, -0.0012, 0.129, -0.0926, -0.0286, -0.089, -0.0246, -0.0501, 0.0723, -0.0834, 0.0632, 0.0205, 0.021, -0.0666, -0.0387, -0.2129, -0.113, -0.0134, 0.1021, 0.0126, 0.0637, -0.0852, -0.0397, 0.1103, 0.0362, -0.0112, -0.0488, -0.0418, -0.0933, 0.0497, 0.1201, -0.0497, 0.0233, -0.0509, -0.1061, 0.0652, -0.1327, 0.017, 0.0983, 0.0261, 0.0172, -0.0566, 0.0356, -0.0501, -0.0722, 0.0196, -0.004, 0.0698, 0.0001, -0.1373, 0.0717, 0.0931, 0.1092, 0.0725, 0.1138, -0.1325, 0.0951, -0.0411, 0.0482, -0.064, 0.0435, 0.0692, 0.0011, -0.008, 0.0435, 0.0777, -0.0634, 0.0382, 0.0722, -0.1233, -0.0421, 0.0557, 0.0061, -0.0906, -0.0434, -0.0377, 0.1015, -0.022, 0.054, -0.0079, 0.0249, -0.1143, -0.0338, 0.0262, 0.0332, 0.1072, -0.1213, 0.071, -0.0623, 0.0722, -0.0125, -0.0332, -0.0508, 0.0443, 0.1017, 0.0677, -0.0996, 0.0828, -0.0452, 0.0622, 0.1919, -0.0263, 0.1936, -0.0156, 0.1362, -0.0174, -0.11, -0.0278, -0.0876, -0.0863, 0.0055, 0.1132, 0.1124, -0.0059, -0.0163, -0.0857, -0.0294, -0.0389, 0.0099, -0.0381, -0.0868, 0.0643, -0.1376, -0.0333, 0.0588, 0.0096, 0.1012, 0.0481, -0.1306, -0.1326, -0.0402, -0.0295, 0.027, -0.1209, -0.4728, 0.0652, 0.0476, -0.0392, 0.0601, 0.1333, -0.1038, 0.0116, 0.1274, 0.0611, -0.0306, 0.0236, -0.0138, -0.1046, -0.0332, 0.0378, 0.0502, -0.0719, -0.2027, -0.0121, -0.0688, 0.1017, 0.184, -0.0932, 0.1107, 0.0349, 0.0951, -0.0141, -0.108, -0.035, -0.1404, 0.0744, 0.0205, 0.0255, 0.0035, 0.0037, -0.0248, 0.0186, -0.1051, -0.0288, -0.0892, -0.0186, -0.1034, 0.0763, -0.0736, -0.022, -0.0012, 0.1836, 0.0149, 0.0286, -0.0084, 0.0478, -0.1087, 3.5175, -0.0633, 0.1261, 0.0027, -0.0021, -0.033, 0.0878, 0.0815, 0.1536, -0.084, 0.0456, 0.0382, 0.0333, -0.0793, 0.0682, 0.141, -0.0782, 0.0579, 0.0082, 0.1774, 0.635, 0.0785, 0.0569, 0.0591, -0.1315, -0.0824, -0.0406, -0.0777, 0.1061, 0.1707, -0.1465, -0.0462, 0.0537, -0.1682, -0.1282, -0.0859, 0.0024, -0.1025, 0.1047, -0.0241, 0.0699, -0.0513, 0.0274, -0.0507, 0.0098, 0.0781, -0.3367, -0.0332, -0.0672, 0.1149, -0.0728, -0.0083, -0.0305, 0.1609, 0.2227, -0.7091, -0.0312, -0.0774, -0.1464, -0.0413, 0.0573, -0.1285, -0.0305, 0.1399, 0.006, 0.0451, 0.0008, -0.0492, 0.148, -0.1, -0.0071, -0.2047, -0.0505, 0.0836, 0.0059, 0.1004, -0.0193, -0.0392, -0.0408, 0.0558, 0.0295, 0.0382, -0.0114, 0.0167, -0.0777, 0.0134, 0.0947, -0.1521, 0.0025, 0.0124, -0.004, -0.0511, 0.0807, -0.085, 0.013, 0.0112, 0.014, 0.0374, -0.0254, 0.0347, -0.0617, -0.0795, -0.0555, -0.0171, -0.0409, 0.0575, 0.0481, 0.1413, -0.0656, 0.0669, 0.0618, -0.0678, -0.1565, 0.0567, 0.1972, 0.1664, 0.006, 0.0763, 0.1084, 0.0018, 0.0519, 0.0744, 0.0382, 0.0232, -0.0119, -0.0242, 0.0079, -0.0949, -0.082, 0.0828, 0.0559, -0.0171, 0.0337, -0.0799, -0.1976, 0.0312, -0.038, -0.0111, 0.0208, -0.0323, 0.049, 0.0062, 0.0735, 0.0265, -0.0177, -0.1233, 0.1093, -0.0826, -0.0494, -0.1103, 0.0104, -0.0473, -0.0187, 0.0878, 0.0138, -0.0282, 0.0328, 0.0137, 0.0229, 0.0508, -0.0904, -0.0726, -0.0408, -0.0032, 0.1467, 0.0319, 0.0505, -0.0329, -0.0348, -0.0014, -0.0086, -0.1654, 0.0016, -0.1274, 0.0872, -0.0338, -0.0752, -0.0598, 0.0137, -0.0192, -0.0995, -0.0207, -0.1134, -0.1104, 0.0877, 0.0088, 0.0038, -0.0508, 0.0354, 0.0465, 0.0258, -0.0555, -0.0862, 0.0459, -0.1757, -0.0106, 0.0348, -0.0879, -0.0547, 0.0541, 0.0528, -0.0554, -0.0862, -0.1598, 0.0577, 0.0784, 0.0666, 0.0544, -0.015, -0.0508, -0.0946, -0.0538, 0.0821, 0.0149, -0.0563, 0.1065, 0.0336, -0.0719, 0.0511, 0.06, -0.081, -0.006, -0.026, 0.0472, -0.1261, 0.0676, 0.0184, -0.0054, 0.0005, -0.0741, 0.0213, 0.1266, -0.1168, 0.0285, -0.124, 0.0507, -0.0917, -0.0511, -0.0372, -0.0279, 0.0013, -0.0725, 0.0621, 0.0228, 0.1727, 0.0286, -0.0462, 0.0147, -0.1548, 0.0821, -0.0749, -0.1373, 0.0338, -0.0644, 0.085])),\n",
       " Row(id='2mx7', mean_embed=DenseVector([0.0115, 0.0327, -0.0891, -0.2321, 0.1497, -0.0679, -0.0245, -0.0997, -0.0661, -0.046, 0.05, 0.0655, -0.0296, 0.0714, 0.0357, -0.0624, -0.0439, 0.0878, 0.0122, -0.0449, 0.0571, 0.0575, -0.0539, -0.016, -0.0809, 0.019, -0.0723, 0.0431, 0.0734, -0.0028, -0.0963, 0.0995, -0.0409, -0.0901, 0.0501, -0.0157, 0.0333, 0.061, -0.1271, -0.1226, 0.1006, 0.1215, 0.0921, 0.012, 0.0113, -0.2163, 0.1186, -0.0229, 0.0391, 0.0716, 0.0145, -0.081, -0.0343, -0.0909, 0.0024, 0.0286, -0.0086, -0.1322, -0.0472, -0.034, -0.0857, -0.0661, 0.063, -0.0613, -0.0821, -0.0431, -0.0408, -0.0171, 0.1181, -0.0862, -0.1825, 0.0754, -0.0346, -0.1224, 0.0678, -0.0383, -0.0833, 0.0518, -0.0063, 0.0367, -0.0072, 0.1209, 0.0129, 0.059, 0.0905, -0.0829, -0.0586, -0.06, 0.2453, -0.0458, 0.012, -0.1368, 0.0027, -0.1079, 0.0052, 0.1267, 0.3517, 0.0549, 0.0919, 0.0294, -0.0585, 0.0253, -0.0444, 0.0235, 0.028, -0.1673, 0.0162, -0.0565, 0.0116, 0.0729, -0.0756, 0.0027, 0.0695, 0.0218, -0.078, -0.0218, 0.0333, 0.1734, 0.0039, -0.3162, 0.0444, 0.0262, 0.0103, 0.0211, 0.0662, 0.0352, 0.1163, -0.0039, -0.1433, 0.0243, -0.1019, 0.0356, 0.0588, 0.0856, -0.0425, 0.0241, 0.0385, 0.0574, -0.0398, -0.0131, -0.0307, 0.0293, -0.0082, -0.1512, 0.0155, -0.0631, -0.141, 0.1148, -0.0015, 0.0231, -0.0274, 0.061, 0.0328, -0.0211, -0.0862, -0.046, -0.0696, -0.0643, -0.0975, 0.0633, -0.092, 0.1054, 0.1471, -0.0754, 0.0283, -0.0189, -0.0429, 0.02, -0.0502, -0.0387, -0.2123, 0.0142, -0.0742, 0.0395, 0.0074, 0.0242, 0.0003, -0.1853, -0.0183, 0.008, -0.04, -0.1223, 0.0035, -0.062, -0.0304, 0.0858, -0.0499, 0.0468, 0.0509, 0.0838, -0.0041, -0.0919, -0.0094, 0.0796, 0.0671, 0.0693, 0.2066, 0.0712, -0.0862, -0.0343, -0.0774, 0.1206, 0.0911, -0.0258, 0.0927, -0.0354, -0.0601, 0.1347, -0.1891, -0.0851, -0.1344, 0.0909, -0.1249, -0.0585, -0.1004, -0.0112, 0.0905, 0.1578, -0.1167, 0.0491, 0.2784, -0.0523, 0.0302, -0.0475, -0.1271, 0.1895, 0.0473, 0.2139, -0.0384, -0.0096, -0.0305, -0.0459, 0.0368, -0.0871, -0.1296, 0.1332, -0.1082, -0.0997, -0.0669, -0.0201, -0.0268, 0.0048, 0.0275, 0.0171, 0.1029, 0.0058, -0.0591, 0.0653, 0.1397, -0.0837, -0.0079, -0.058, -0.0169, 0.1457, 0.003, -0.0066, -0.058, -0.0863, 0.0748, 0.0199, -0.0709, -0.0513, -0.0534, 0.0814, 0.0905, 0.0611, -0.0414, 0.0551, 0.0815, -0.1983, -0.1593, -0.007, -0.0292, -0.0171, -0.0116, 0.1085, -0.2535, -0.0972, 0.0365, 0.0767, -0.0825, -0.059, 0.0092, -0.0487, 0.0715, 0.1975, 0.0124, 0.0527, 0.0997, 0.1643, 0.1, 0.302, 0.0784, 0.0044, -0.0824, 0.0026, 0.2564, 0.1485, -0.1304, -0.1298, -0.0232, -0.0117, 0.0451, 0.0127, -0.1832, 0.0178, -0.0835, 0.1141, -0.0603, 0.0489, -0.0946, -0.0474, -0.062, 0.1219, -0.1229, 0.0033, -0.094, -0.1333, 0.0197, -0.0096, -0.0086, 0.0046, -0.0084, -0.1601, -0.083, 0.0132, -0.0366, 0.0115, 0.2099, 0.0431, -0.0501, 0.0298, 0.0325, -0.0105, -0.1141, 0.074, 0.0514, -0.1165, 0.027, -0.0401, 0.0369, 0.1212, 0.0131, 0.0886, -0.0169, 0.0273, -0.0675, 0.0523, 0.0813, 0.0579, -0.0501, -0.074, -0.0711, -0.0647, -0.1398, -0.0427, -0.0889, 0.0624, -0.1624, -0.0095, 0.0109, -0.0454, -0.0018, 0.1391, 0.0614, -0.0856, 0.0364, 0.0327, 0.0103, -0.0536, 0.2765, 0.0699, 0.0489, -0.0128, -0.0531, 0.0247, -0.0767, 0.0333, 0.0602, 0.0602, 0.0089, 0.0866, -0.0811, -0.0891, 0.0737, -0.1162, 0.0766, -0.0204, -0.057, 0.0214, 0.0835, -0.0368, -0.064, 0.1817, -0.0072, 0.0971, -0.0228, 0.1218, 0.0175, 0.0077, -0.0578, 0.0944, -0.0951, 0.0352, -0.0586, 0.0253, -0.0013, -0.2148, 0.148, -0.0178, 0.0768, 0.0577, -0.0186, -0.0868, 0.0629, -0.0762, 0.0298, -0.0199, 0.0006, -0.1706, -0.0043, -0.0923, -0.1323, -0.0096, -0.1498, -0.0147, 0.0738, 0.0721, 0.1228, 0.0562, 0.0252, 0.0698, 0.0764, 0.0598, -0.1011, -0.2716, -0.1014, -0.1317, -0.102, 0.0824, -0.0784, 0.0576, 0.0327, 0.0115, 0.013, -0.0096, 0.1002, 0.0608, 0.0368, 0.0311, 0.0333, -0.0396, 0.0224, 0.0543, 0.0477, 0.0222, 0.0961, -0.0298, -0.0794, 0.0217, -0.0107, 0.0504, 0.0935, -0.0164, 0.0783, -0.0173, -0.027, -0.0964, 0.0177, 0.0672, 0.0426, -0.0077, -0.1133, 0.0251, -0.0351, 0.1107, 0.1092, -0.0597, 0.1479, 0.0306, 0.0336, -0.1015, 0.0266, -0.0679, 0.0403, -0.004, 0.139, 0.0493, 0.0746, -0.1063, -0.0882, 0.0424, -0.1068, -0.0537, 0.1242, 0.0471, 0.0285, -0.0618, -0.0685, 0.2747, 0.0738, 0.0142, -0.1141, -0.1025, 0.0252, -0.0054, 0.0648, -0.0363, 0.0442, 0.0336, 0.0333, 0.0096, -0.0442, -0.096, 0.1018, -0.1447, 0.0821, 0.0446, 0.0425, -0.0552, -0.0218, 0.0531, -0.0025, -0.1225, 0.0935, 0.0804, 0.0647, 0.097, 0.0338, 0.0136, -0.0674, -0.0488, 0.1083, 0.0173, 0.0698, -0.0247, -0.0767, 0.1405, 0.0969, 0.0715, 0.0901, 0.0858, -0.0793, 0.0486, 0.0768, 0.0965, 0.0216, -0.1587, 0.0679, 0.0409, 0.101, 0.0446, 0.0274, -0.0732, 0.0604, 0.0487, -0.0296, -0.0167, 0.1403, -0.0839, -0.2086, 0.0513, -0.1723, 0.0063, 0.0752, -0.2671, 0.1417, -0.0614, -0.1043, 0.025, 0.0223, 0.0244, -0.0686, -0.0522, -0.096, 0.0281, 0.0429, 0.1161, -0.023, 0.1903, 0.0068, 0.1737, 0.0353, -0.0116, 0.1176, -0.1281, -0.0224, -0.0986, -0.0181, -0.0724, 0.0621, -0.13, 0.0974, 0.0238, 0.0283, -0.0922, -0.0018, -0.2156, -0.0822, -0.0012, 0.0822, 0.0061, 0.0811, -0.0904, -0.0127, 0.0976, -0.0008, -0.0474, -0.0729, -0.0365, -0.0728, 0.0672, 0.1238, -0.0385, 0.026, -0.0391, -0.1344, 0.051, -0.1189, 0.0368, 0.1087, 0.0188, 0.0078, -0.0667, -0.0156, -0.0638, -0.1001, 0.0222, 0.0154, 0.0815, -0.0201, -0.14, 0.0417, 0.1075, 0.1077, 0.0718, 0.1122, -0.1274, 0.0848, -0.0208, 0.0035, -0.0599, 0.0096, 0.0183, 0.0118, -0.0493, 0.1107, 0.0643, -0.0686, 0.0767, 0.0932, -0.1483, -0.0283, 0.0922, -0.0036, -0.0906, -0.0306, -0.0718, 0.0874, 0.0103, 0.0481, 0.0368, 0.0104, -0.0966, -0.0374, 0.0255, 0.0039, 0.0501, -0.138, 0.0325, -0.0652, 0.0572, -0.0002, -0.02, -0.0289, 0.0442, 0.1257, 0.1072, -0.1137, 0.0637, 0.0113, 0.0855, 0.1883, -0.0137, 0.1605, -0.0503, 0.0991, -0.0194, -0.096, -0.0075, -0.1059, -0.0631, 0.0084, 0.0815, 0.1222, -0.0464, -0.0453, -0.0857, -0.0528, -0.0038, -0.0144, -0.0415, -0.0636, 0.033, -0.1123, -0.0418, 0.0651, 0.0194, 0.1269, 0.1029, -0.0984, -0.0743, -0.0147, -0.0368, 0.0282, -0.1604, -0.5268, 0.0834, 0.0908, -0.1307, 0.045, 0.135, -0.1174, -0.041, 0.1065, 0.071, -0.0332, 0.0044, -0.0284, -0.0989, -0.0014, 0.0579, 0.0373, -0.0591, -0.1649, 0.0055, -0.0818, 0.1091, 0.1446, -0.1007, 0.0996, 0.0174, 0.0889, 0.0137, -0.096, -0.0209, -0.1596, 0.0834, 0.0262, 0.0346, -0.0423, 0.0006, -0.0297, 0.0613, -0.1243, -0.0716, -0.0629, -0.0367, -0.0802, 0.1157, -0.0912, -0.0368, 0.0024, 0.2212, 0.0466, 0.0331, -0.0019, 0.0535, -0.0929, 3.0442, -0.076, 0.131, -0.0069, -0.0018, -0.0145, 0.0731, 0.0342, 0.1029, -0.1258, 0.036, 0.088, 0.0695, -0.1119, 0.047, 0.1129, -0.0707, 0.0828, -0.002, 0.1854, 0.6026, 0.0685, 0.0662, 0.1002, -0.1711, -0.0913, -0.0375, -0.0866, 0.1198, 0.172, -0.2059, -0.0518, 0.1007, -0.1174, -0.1485, -0.1583, 0.0532, -0.0779, 0.1135, -0.027, 0.0823, -0.0361, 0.0025, -0.0419, -0.0193, 0.0892, -0.302, -0.0458, -0.0728, 0.1461, -0.064, -0.0012, -0.007, 0.1834, 0.2615, -0.3267, -0.0508, -0.0999, -0.1692, 0.0029, 0.0228, -0.1362, 0.0013, 0.1458, 0.0157, 0.0204, -0.0318, -0.0189, 0.1531, -0.0602, -0.0213, -0.1986, -0.0215, 0.0716, -0.0008, 0.0652, 0.0008, -0.0597, -0.0803, 0.0705, 0.0539, -0.0017, 0.0293, 0.0064, -0.0545, 0.0598, 0.1051, -0.1287, -0.0068, 0.0052, -0.0192, -0.0199, 0.0621, -0.0572, 0.0432, 0.0189, 0.0329, 0.0541, -0.0193, -0.0074, -0.1859, -0.0649, -0.0915, -0.01, -0.0303, 0.0755, 0.0639, 0.1013, -0.081, 0.0814, 0.0032, -0.0508, -0.1389, 0.0526, 0.1666, 0.1476, 0.0684, 0.0755, 0.0827, -0.0256, 0.0635, 0.0737, 0.034, 0.0101, -0.011, -0.0054, 0.0131, -0.0986, 0.0041, 0.0486, 0.0707, 0.0295, 0.0219, -0.0747, -0.1512, 0.0344, 0.0181, 0.0038, -0.0123, -0.0366, 0.0173, 0.027, 0.0485, 0.0149, -0.0037, -0.1327, 0.1091, -0.1132, -0.0298, -0.1331, -0.0099, -0.0369, -0.0016, 0.1047, 0.0237, -0.0272, 0.0776, 0.037, 0.0427, 0.053, -0.0511, -0.1181, -0.0419, 0.035, 0.1205, 0.043, 0.0347, -0.0725, -0.0474, -0.0402, 0.0061, -0.1053, 0.0033, -0.1664, 0.0861, -0.0503, -0.0632, -0.1011, 0.0379, -0.0054, -0.0913, 0.0376, -0.1032, -0.1696, 0.0855, 0.0011, 0.0153, -0.0769, 0.0028, 0.0201, -0.0158, -0.0289, -0.0536, 0.0095, -0.1596, 0.011, 0.0588, -0.0858, -0.0517, 0.0321, 0.0243, -0.0682, -0.0578, -0.2008, 0.064, 0.0619, 0.0715, 0.0367, -0.0462, -0.0797, -0.0905, 0.0088, 0.0711, -0.0145, -0.0138, 0.1231, 0.0221, -0.0437, 0.0498, 0.0965, -0.0641, -0.0138, -0.0129, 0.0221, -0.169, 0.0543, -0.0163, 0.0131, -0.0305, -0.0463, 0.0586, 0.0958, -0.1101, 0.0436, -0.0897, 0.0696, -0.1124, -0.0514, -0.0401, -0.0433, 0.0071, -0.0589, 0.0651, 0.006, 0.1704, 0.0425, -0.063, 0.0518, -0.1607, 0.074, -0.019, -0.1357, 0.0298, -0.0339, 0.0525])),\n",
       " Row(id='1w9r', mean_embed=DenseVector([0.0545, 0.0476, -0.0431, -0.2387, 0.1773, -0.0467, -0.0462, -0.0552, -0.0682, -0.059, 0.0206, 0.0699, -0.0213, 0.1002, 0.0669, -0.1076, -0.0458, 0.0909, -0.0083, -0.0514, 0.0689, 0.0977, -0.0894, -0.0525, -0.0078, 0.004, -0.0404, 0.0293, 0.0713, -0.0599, -0.0322, 0.1152, -0.1032, -0.0384, 0.0652, -0.0449, 0.0391, 0.0674, -0.1275, -0.1339, 0.1052, 0.1463, 0.0898, 0.018, 0.0402, -0.2533, 0.1393, -0.032, 0.055, 0.0092, 0.0086, -0.0824, -0.0294, -0.1533, -0.0135, 0.015, 0.0054, -0.1306, -0.053, -0.0296, -0.1176, -0.0932, 0.0705, -0.04, -0.0797, -0.0349, -0.0061, -0.0118, 0.1457, -0.0781, -0.1388, 0.0473, -0.045, -0.0591, 0.0511, -0.0536, -0.0938, 0.01, 0.0839, 0.056, 0.0003, 0.0717, 0.0111, 0.0579, 0.0713, -0.1019, -0.086, -0.1425, 0.244, -0.045, -0.0134, -0.0988, -0.0056, -0.1467, -0.0236, 0.1183, 0.3156, -0.0015, 0.1379, 0.0461, -0.0608, -0.0262, -0.0877, 0.0523, 0.0382, -0.1698, -0.0321, -0.0764, 0.0101, 0.0633, -0.0659, 0.0297, 0.0535, 0.0454, -0.1235, -0.0335, 0.0513, 0.1987, 0.0148, -0.3243, 0.0474, 0.0373, -0.0123, 0.0432, 0.0491, 0.0068, 0.0898, 0.0418, -0.0796, -0.0129, -0.134, 0.0394, 0.063, 0.108, -0.0187, -0.0174, 0.0164, 0.0833, -0.0325, -0.0228, -0.0345, 0.047, 0.0538, -0.1361, 0.0154, 0.1068, -0.1763, 0.148, 0.0083, 0.0193, -0.0042, 0.0418, 0.0583, -0.055, -0.0313, -0.0445, -0.0168, -0.0344, -0.1318, 0.1136, -0.0923, 0.1218, 0.1401, -0.0836, 0.0333, 0.0195, -0.0485, 0.0074, -0.0321, -0.0592, -0.1919, -0.0234, -0.0606, -0.0101, -0.0127, 0.0246, -0.019, -0.1889, -0.0196, 0.0263, -0.0286, -0.139, 0.0016, -0.0928, -0.032, 0.0652, -0.093, 0.0453, 0.0394, 0.119, 0.007, -0.0428, 0.0006, 0.1122, 0.0987, 0.0651, 0.2374, 0.0994, -0.0674, -0.013, -0.1206, 0.0582, 0.0725, -0.0199, 0.0953, -0.0152, -0.0709, 0.1539, -0.1675, -0.0336, -0.1527, 0.0931, -0.1215, -0.0881, -0.1107, -0.0248, 0.0515, 0.1523, -0.0618, 0.0464, 0.4059, -0.0294, 0.0458, -0.0199, -0.1476, 0.2112, 0.0712, 0.2123, -0.0042, -0.0253, -0.0151, -0.052, 0.0479, -0.1428, -0.0973, 0.1299, -0.259, -0.1009, -0.0514, -0.018, -0.016, 0.0262, 0.0289, 0.042, 0.1057, 0.0092, -0.0972, 0.0914, 0.1416, -0.1093, -0.0214, -0.109, 0.0395, 0.129, -0.0173, -0.0001, -0.0464, -0.0952, 0.0928, 0.0412, -0.1439, -0.0922, -0.0712, 0.0672, 0.0428, 0.0463, -0.0554, 0.0302, 0.0464, -0.2033, -0.1445, -0.0039, -0.0467, -0.0133, -0.0371, 0.1626, -0.2116, -0.0734, 0.0572, 0.0971, -0.0659, -0.0824, 0.0066, -0.0536, -0.0174, 0.2426, -0.0246, 0.0392, 0.1234, 0.17, 0.0666, 0.2266, 0.0794, -0.009, -0.0894, -0.0223, 0.1995, 0.0679, -0.1665, -0.1448, -0.0089, -0.0171, 0.0776, -0.0213, -0.1002, 0.0286, -0.0948, 0.1258, -0.0391, 0.0894, -0.0681, -0.0332, -0.0183, 0.0678, -0.0922, -0.0062, -0.0773, -0.1159, 0.0333, -0.0466, 0.0144, 0.0141, 0.0423, -0.1854, -0.0431, -0.0276, -0.0338, 0.0169, 0.2437, 0.0595, -0.0617, 0.0513, 0.0641, -0.012, -0.088, 0.1132, 0.0598, -0.0901, 0.0069, -0.0513, 0.0401, 0.1558, -0.0202, 0.1148, 0.0156, 0.0393, -0.0859, 0.0482, 0.1059, 0.019, -0.0674, -0.1081, -0.0793, -0.0921, -0.1268, -0.0307, -0.1014, 0.0544, -0.1542, 0.0378, 0.0353, -0.0675, 0.056, 0.1608, 0.0397, -0.0552, 0.0638, 0.0551, 0.0034, -0.1012, 0.3165, 0.0496, 0.0305, 0.0335, -0.0718, 0.0141, -0.0837, 0.0327, 0.0224, 0.008, -0.011, 0.0333, -0.071, -0.0893, 0.0479, -0.0695, 0.0678, -0.0153, -0.06, 0.0083, 0.0599, -0.0159, -0.0423, 0.1387, 0.0295, 0.0909, -0.0356, 0.1706, 0.0073, 0.0177, -0.045, 0.0827, -0.1168, 0.0636, -0.0452, 0.0374, 0.0202, -0.2434, 0.1578, 0.0032, 0.0077, 0.0655, -0.0236, -0.054, 0.0857, -0.0848, 0.0461, -0.0613, 0.011, -0.1131, -0.0381, -0.1256, -0.1228, -0.0217, -0.1235, -0.0554, 0.0489, 0.098, 0.1311, 0.0645, -0.0174, 0.0701, 0.0743, 0.0511, -0.0902, -0.3769, -0.1289, -0.1239, -0.1012, 0.0938, -0.0699, 0.0463, 0.0215, 0.0188, 0.0057, -0.0293, 0.0525, 0.1016, 0.0419, 0.0037, 0.066, -0.0166, -0.0153, 0.0304, 0.0813, 0.0059, 0.1665, 0.0006, -0.0921, 0.0246, 0.0164, 0.0631, 0.0946, 0.0098, 0.0953, 0.0049, -0.0397, -0.0816, 0.055, 0.0869, 0.0694, -0.0197, -0.0923, 0.019, -0.0123, 0.1159, 0.1254, -0.074, 0.1207, -0.0029, 0.0047, -0.0876, 0.0264, -0.0624, 0.0322, -0.0235, 0.1126, 0.1018, 0.0741, -0.1106, -0.0661, 0.0425, -0.0816, -0.0664, 0.127, 0.0485, 0.0462, -0.1001, -0.0857, 0.3633, 0.036, -0.0007, -0.0538, -0.0774, -0.0141, 0.0122, 0.0512, -0.0459, 0.0259, 0.013, 0.0336, -0.0265, -0.0628, -0.1008, 0.0904, -0.1631, 0.0716, 0.0254, 0.0503, -0.0212, 0.0053, 0.0586, -0.0137, -0.1117, 0.0442, 0.0968, 0.0066, 0.0781, 0.0058, 0.0403, -0.0849, -0.0545, 0.1085, -0.2263, 0.0744, -0.0358, -0.1071, 0.1178, 0.1064, 0.0376, 0.0517, 0.0651, -0.0716, 0.0701, 0.1002, 0.1386, 0.015, -0.1853, 0.0484, 0.0117, 0.1129, 0.1032, 0.0298, -0.0521, 0.0864, 0.0411, -0.005, -0.0174, 0.1196, -0.1268, -0.1899, 0.0389, -0.16, -0.0246, 0.0939, -0.2992, 0.1206, -0.0629, -0.1286, -0.0172, 0.049, 0.059, -0.0517, -0.0302, -0.0711, 0.0896, 0.0313, 0.0712, -0.0686, 0.1386, 0.0066, 0.1364, 0.0794, -0.0098, 0.1352, -0.0878, -0.0277, -0.1125, -0.0185, -0.0487, 0.0759, -0.0828, 0.0727, 0.0241, 0.008, -0.0812, -0.0331, -0.2379, -0.1068, -0.0043, 0.1021, 0.0123, 0.0591, -0.0762, -0.0219, 0.1336, 0.0426, -0.017, -0.0481, -0.0319, -0.0805, 0.0513, 0.1239, -0.061, 0.026, -0.0561, -0.1157, 0.0611, -0.1443, 0.0053, 0.0932, 0.0123, 0.0134, -0.0522, 0.0489, -0.0409, -0.0696, 0.0273, -0.003, 0.0696, 0.009, -0.1497, 0.0694, 0.0999, 0.1229, 0.081, 0.1249, -0.133, 0.1128, -0.0455, 0.0495, -0.0882, 0.0444, 0.0709, -0.0073, -0.0058, 0.0202, 0.0625, -0.0628, 0.028, 0.0785, -0.1228, -0.0513, 0.0647, 0.0064, -0.0826, -0.0421, -0.0263, 0.1091, -0.0276, 0.0615, -0.0028, 0.0168, -0.1209, -0.0188, 0.0241, 0.0589, 0.1197, -0.1246, 0.0912, -0.0778, 0.0808, -0.0207, -0.0362, -0.0545, 0.0516, 0.1065, 0.057, -0.1134, 0.0836, -0.0637, 0.0617, 0.1961, -0.0157, 0.213, 0.0011, 0.1365, -0.0227, -0.1221, -0.0487, -0.0923, -0.093, 0.0134, 0.1279, 0.1138, 0.0046, -0.0164, -0.0916, -0.0271, -0.0315, 0.0137, -0.0412, -0.088, 0.0832, -0.1358, -0.0336, 0.0573, 0.0123, 0.0934, 0.0467, -0.146, -0.1528, -0.0379, -0.0244, 0.0354, -0.1244, -0.5124, 0.0803, 0.0479, -0.0274, 0.073, 0.1355, -0.1145, 0.0186, 0.1365, 0.0776, -0.0184, 0.0137, -0.0065, -0.1129, -0.0388, 0.0542, 0.0547, -0.0885, -0.2158, -0.0052, -0.0655, 0.1085, 0.1967, -0.1067, 0.1136, 0.0305, 0.1102, -0.0197, -0.1173, -0.0272, -0.1389, 0.0715, 0.017, 0.0277, 0.009, 0.006, -0.02, 0.0058, -0.0941, -0.0222, -0.1036, -0.0288, -0.1192, 0.0706, -0.0761, -0.0304, 0.0024, 0.1812, 0.0224, 0.0391, -0.0077, 0.0388, -0.1155, 3.5678, -0.0697, 0.1342, 0.0087, -0.0073, -0.0449, 0.0888, 0.0969, 0.1812, -0.0764, 0.0567, 0.0321, 0.033, -0.0687, 0.0646, 0.1413, -0.0882, 0.045, 0.0062, 0.1847, 0.6575, 0.086, 0.064, 0.0606, -0.1315, -0.0774, -0.0395, -0.0765, 0.1045, 0.1905, -0.1363, -0.0415, 0.0623, -0.1747, -0.1291, -0.0976, 0.007, -0.1066, 0.0943, -0.0434, 0.0642, -0.0409, 0.0083, -0.047, 0.0076, 0.0703, -0.3317, -0.0411, -0.0643, 0.1147, -0.0652, -0.0013, -0.0365, 0.1559, 0.2236, -0.7549, -0.0282, -0.071, -0.1485, -0.0486, 0.0812, -0.1317, -0.0227, 0.1375, 0.0091, 0.0395, -0.0105, -0.049, 0.1623, -0.1132, -0.017, -0.2146, -0.0714, 0.096, 0.0291, 0.1048, -0.0238, -0.0379, -0.0362, 0.047, 0.0298, 0.0379, 0.0042, 0.0186, -0.0859, 0.0141, 0.0926, -0.1593, -0.014, 0.0249, -0.0079, -0.0624, 0.0755, -0.1039, 0.0118, 0.0264, 0.0298, 0.0305, -0.0263, 0.034, -0.0591, -0.0906, -0.0428, -0.0257, -0.0461, 0.0638, 0.0348, 0.1434, -0.0641, 0.0642, 0.0804, -0.0707, -0.1663, 0.0676, 0.2078, 0.1768, -0.0076, 0.0847, 0.1159, -0.0045, 0.0662, 0.0747, 0.0398, 0.0265, -0.0156, -0.0203, 0.0069, -0.088, -0.0994, 0.092, 0.049, -0.0172, 0.0278, -0.088, -0.2064, 0.0348, -0.0323, -0.0169, 0.0207, -0.0345, 0.0603, 0.0023, 0.082, 0.0293, -0.0241, -0.1186, 0.1186, -0.0941, -0.0517, -0.1211, 0.0189, -0.0464, -0.0326, 0.0899, 0.0156, -0.0325, 0.0265, -0.0013, 0.0377, 0.0547, -0.0903, -0.087, -0.0413, -0.0058, 0.153, 0.0291, 0.0514, -0.0292, -0.0355, 0.0054, -0.0105, -0.1865, 0.0125, -0.1214, 0.1074, -0.0421, -0.0935, -0.0678, 0.0233, -0.0212, -0.0985, -0.0161, -0.1111, -0.1176, 0.0931, 0.0149, -0.0005, -0.0499, 0.0346, 0.0458, 0.0372, -0.0541, -0.0972, 0.0657, -0.1794, 0.0017, 0.0293, -0.0894, -0.0541, 0.0596, 0.0556, -0.0558, -0.0886, -0.1654, 0.0606, 0.0871, 0.0632, 0.0669, -0.0297, -0.0383, -0.107, -0.069, 0.0963, 0.0152, -0.0461, 0.1073, 0.0314, -0.0773, 0.0492, 0.0526, -0.0652, -0.0116, -0.0355, 0.0449, -0.141, 0.0556, 0.0223, 0.0011, 0.005, -0.1027, 0.0332, 0.1312, -0.121, 0.0244, -0.121, 0.0429, -0.0802, -0.0554, -0.0533, -0.0384, 0.0011, -0.0867, 0.0601, 0.0291, 0.1878, 0.0341, -0.0551, 0.0307, -0.1459, 0.0867, -0.0964, -0.1375, 0.0279, -0.0632, 0.0839])),\n",
       " Row(id='2lzz', mean_embed=DenseVector([0.0621, 0.045, -0.0428, -0.232, 0.1741, -0.0607, -0.0419, -0.0604, -0.0648, -0.0509, 0.0222, 0.0627, -0.0193, 0.0847, 0.0648, -0.1103, -0.0406, 0.0912, -0.0041, -0.0483, 0.0661, 0.1007, -0.074, -0.06, -0.0027, 0.0101, -0.036, 0.0161, 0.0687, -0.0594, -0.0438, 0.1029, -0.0798, -0.0203, 0.0675, -0.0435, 0.0365, 0.0678, -0.1093, -0.1185, 0.1003, 0.1384, 0.0855, 0.0272, 0.0336, -0.2356, 0.1193, -0.0414, 0.0513, 0.0202, 0.002, -0.0824, -0.0351, -0.1478, -0.0185, 0.0249, -0.0029, -0.133, -0.039, -0.0368, -0.1008, -0.0875, 0.0778, -0.0368, -0.0743, -0.0383, -0.0152, -0.0006, 0.1389, -0.0641, -0.1377, 0.0353, -0.0369, -0.0522, 0.054, -0.055, -0.0914, 0.0113, 0.0778, 0.0397, 0.0008, 0.068, 0.0094, 0.0522, 0.0747, -0.1006, -0.0803, -0.1297, 0.2355, -0.0472, -0.0087, -0.0972, -0.006, -0.1265, -0.0241, 0.1166, 0.3033, 0.0029, 0.1335, 0.0427, -0.0556, -0.0078, -0.0703, 0.0491, 0.0276, -0.1616, -0.0254, -0.0756, -0.005, 0.0599, -0.0649, 0.0215, 0.056, 0.0441, -0.114, -0.0401, 0.0419, 0.1899, 0.0144, -0.2931, 0.0253, 0.0534, -0.0202, 0.0415, 0.0402, 0.0216, 0.0902, 0.0522, -0.0855, -0.0159, -0.1224, 0.0304, 0.0663, 0.1095, -0.0322, -0.0108, 0.0039, 0.088, -0.0381, -0.0207, -0.0314, 0.0482, 0.0385, -0.1396, 0.0088, 0.1426, -0.1638, 0.1391, -0.0073, 0.008, -0.0031, 0.0488, 0.0576, -0.0543, -0.0295, -0.0466, -0.0169, -0.0446, -0.1277, 0.0945, -0.0915, 0.1189, 0.1342, -0.0692, 0.0295, 0.0318, -0.0472, 0.0131, -0.0245, -0.0567, -0.1765, -0.0103, -0.0506, -0.0193, -0.004, 0.0279, -0.0263, -0.1832, -0.021, 0.0232, -0.0294, -0.1501, 0.0063, -0.0743, -0.044, 0.0638, -0.0936, 0.048, 0.0362, 0.1062, -0.0039, -0.0332, 0.0022, 0.1035, 0.0887, 0.0616, 0.2478, 0.0964, -0.0594, 0.0027, -0.105, 0.0603, 0.0573, -0.0255, 0.0941, -0.0171, -0.0664, 0.1465, -0.1665, -0.0361, -0.1432, 0.0933, -0.1146, -0.076, -0.1052, -0.027, 0.0658, 0.1504, -0.0631, 0.0473, 0.382, -0.0301, 0.0406, -0.0345, -0.1498, 0.1984, 0.0692, 0.1898, -0.0037, -0.0248, -0.003, -0.0451, 0.041, -0.1509, -0.0964, 0.1178, -0.2782, -0.092, -0.0442, -0.0108, -0.0143, 0.0191, 0.0207, 0.0397, 0.1036, 0.0041, -0.0982, 0.0927, 0.1419, -0.0969, -0.0212, -0.0941, 0.038, 0.1449, -0.0161, 0.0027, -0.0445, -0.1005, 0.0785, 0.0299, -0.1242, -0.0878, -0.0589, 0.0641, 0.0512, 0.0377, -0.0578, 0.0265, 0.0426, -0.1994, -0.1333, -0.0061, -0.0412, -0.0036, -0.038, 0.1357, -0.2046, -0.0618, 0.0393, 0.0874, -0.0578, -0.0761, 0.0106, -0.0482, -0.0047, 0.2241, -0.0231, 0.0334, 0.1168, 0.1757, 0.0713, 0.1868, 0.0823, 0.0075, -0.09, -0.0208, 0.1908, 0.0614, -0.1616, -0.1367, -0.0188, -0.0117, 0.0652, -0.024, -0.1131, 0.0216, -0.103, 0.1057, -0.0473, 0.082, -0.047, -0.0297, -0.0256, 0.0675, -0.0964, 0.0126, -0.0698, -0.1258, 0.0181, -0.0436, 0.0159, 0.0046, 0.0389, -0.193, -0.0397, -0.0238, -0.0355, 0.0042, 0.2672, 0.0429, -0.0736, 0.042, 0.054, -0.0101, -0.0918, 0.1032, 0.0741, -0.0954, 0.0192, -0.0654, 0.0393, 0.1374, -0.0163, 0.1036, 0.0166, 0.0334, -0.0809, 0.0473, 0.0938, 0.0303, -0.0557, -0.1213, -0.0788, -0.0855, -0.1253, -0.0265, -0.0933, 0.053, -0.1479, 0.0358, 0.0373, -0.0604, 0.0434, 0.1684, 0.029, -0.0558, 0.0636, 0.0381, 0.004, -0.1062, 0.2982, 0.0561, 0.0337, 0.0271, -0.0633, 0.0001, -0.0754, 0.024, 0.0347, 0.0004, -0.0138, 0.0407, -0.0815, -0.0817, 0.037, -0.0735, 0.0755, -0.0181, -0.037, -0.0022, 0.0575, -0.0229, -0.05, 0.1332, 0.0319, 0.0777, -0.0377, 0.168, 0.0065, 0.0155, -0.0549, 0.079, -0.1124, 0.0639, -0.0404, 0.0214, 0.0145, -0.2356, 0.1559, -0.0004, 0.0113, 0.0687, -0.0354, -0.0753, 0.0811, -0.0814, 0.0512, -0.0653, 0.0178, -0.1152, -0.0476, -0.1101, -0.1212, -0.0193, -0.1145, -0.0667, 0.0534, 0.0938, 0.1234, 0.0624, -0.014, 0.0745, 0.0764, 0.0468, -0.0994, -0.3808, -0.133, -0.1243, -0.0971, 0.0846, -0.0646, 0.0436, 0.0171, 0.0186, 0.007, -0.0358, 0.0453, 0.0896, 0.0529, 0.0061, 0.0674, -0.0151, -0.0131, 0.0356, 0.0676, 0.0153, 0.1703, 0.0036, -0.0761, 0.0277, 0.0143, 0.0644, 0.0897, 0.0229, 0.1048, -0.0122, -0.0356, -0.0778, 0.0601, 0.0771, 0.0747, -0.0046, -0.0855, 0.0234, -0.0091, 0.1057, 0.1189, -0.0729, 0.1232, 0.0074, 0.0061, -0.079, 0.0238, -0.0591, 0.0362, -0.0165, 0.1044, 0.1033, 0.0752, -0.1049, -0.0715, 0.0319, -0.0897, -0.0608, 0.1185, 0.0438, 0.0405, -0.0915, -0.0749, 0.2972, 0.0397, -0.0105, -0.0589, -0.0661, -0.0141, 0.0105, 0.051, -0.0401, 0.0173, -0.005, 0.0296, -0.0254, -0.0481, -0.0947, 0.0763, -0.1481, 0.0797, 0.0175, 0.052, -0.0248, -0.0132, 0.0459, -0.0223, -0.1085, 0.055, 0.1006, 0.0073, 0.0863, 0.0078, 0.0397, -0.0853, -0.0506, 0.1031, -0.2423, 0.0698, -0.0387, -0.0912, 0.1032, 0.0932, 0.0287, 0.0488, 0.0629, -0.075, 0.0758, 0.0873, 0.1277, 0.014, -0.1774, 0.0422, 0.01, 0.0982, 0.0995, 0.0348, -0.0557, 0.0893, 0.0367, -0.0063, -0.0114, 0.122, -0.1345, -0.1854, 0.0398, -0.1467, -0.0198, 0.0884, -0.2683, 0.1298, -0.0605, -0.1144, -0.0094, 0.0388, 0.0505, -0.036, -0.0353, -0.0669, 0.0798, 0.0195, 0.0695, -0.0689, 0.136, 0.0059, 0.1183, 0.0855, -0.0141, 0.1298, -0.0906, -0.0196, -0.1109, -0.0202, -0.0538, 0.0691, -0.0809, 0.0781, 0.0351, 0.0123, -0.0812, -0.0401, -0.2197, -0.0858, -0.0169, 0.0956, 0.007, 0.0584, -0.0783, -0.0226, 0.1203, 0.0351, -0.0071, -0.0404, -0.0311, -0.0583, 0.05, 0.1259, -0.0479, 0.0447, -0.0641, -0.1036, 0.0536, -0.1335, 0.0024, 0.0874, 0.02, 0.0118, -0.0527, 0.0367, -0.045, -0.0736, 0.021, -0.0104, 0.073, -0.0032, -0.1508, 0.0753, 0.084, 0.1122, 0.076, 0.1226, -0.1258, 0.1049, -0.0375, 0.0365, -0.0699, 0.0383, 0.0757, -0.0011, -0.0046, 0.035, 0.0647, -0.0699, 0.0345, 0.0806, -0.1156, -0.0405, 0.059, 0.0036, -0.0689, -0.04, -0.025, 0.0925, -0.0261, 0.0626, -0.0062, 0.0154, -0.1178, -0.025, 0.0209, 0.0595, 0.1046, -0.1109, 0.0715, -0.0707, 0.0757, -0.0131, -0.0328, -0.0435, 0.06, 0.0791, 0.0701, -0.1124, 0.0665, -0.0443, 0.0562, 0.1789, -0.02, 0.2189, -0.0116, 0.1326, -0.0198, -0.1039, -0.0419, -0.094, -0.0845, 0.0066, 0.12, 0.1211, -0.007, -0.0114, -0.0806, -0.0354, -0.025, -0.0007, -0.0367, -0.0817, 0.0689, -0.1336, -0.0403, 0.0532, 0.0151, 0.0879, 0.0565, -0.153, -0.1218, -0.0337, -0.0279, 0.0321, -0.115, -0.4669, 0.076, 0.0468, -0.014, 0.0721, 0.1286, -0.1096, 0.0116, 0.1318, 0.0798, -0.0153, 0.0212, -0.0012, -0.0956, -0.0387, 0.0571, 0.0591, -0.0769, -0.2035, -0.0038, -0.049, 0.1047, 0.1883, -0.1065, 0.1209, 0.0342, 0.112, -0.0132, -0.1118, -0.0149, -0.1381, 0.0713, 0.0211, 0.0224, 0.0105, -0.009, -0.026, -0.0007, -0.1126, -0.0181, -0.0971, -0.0291, -0.1113, 0.0649, -0.0699, -0.0273, 0.0189, 0.1758, 0.0227, 0.0229, -0.0115, 0.0308, -0.1115, 3.6155, -0.0604, 0.1265, 0.0088, -0.007, -0.0465, 0.0956, 0.0847, 0.1868, -0.0688, 0.0461, 0.0438, 0.036, -0.0696, 0.0616, 0.1461, -0.0751, 0.0463, 0.0115, 0.1678, 0.6591, 0.0788, 0.0588, 0.0491, -0.1167, -0.0813, -0.0384, -0.073, 0.1019, 0.1715, -0.1513, -0.0498, 0.0599, -0.1621, -0.1279, -0.097, -0.0053, -0.0902, 0.0925, -0.0523, 0.0692, -0.0411, 0.0142, -0.0374, 0.0046, 0.0543, -0.3148, -0.0378, -0.0596, 0.1055, -0.0789, -0.0084, -0.0304, 0.1543, 0.2469, -0.8967, -0.0279, -0.0778, -0.1476, -0.0344, 0.0743, -0.1204, -0.0207, 0.1364, -0.0026, 0.0331, -0.0121, -0.0351, 0.1629, -0.1062, -0.0154, -0.2098, -0.0609, 0.0935, 0.0396, 0.1073, -0.0139, -0.0379, -0.0362, 0.064, 0.0314, 0.0269, 0.0061, 0.0208, -0.0832, 0.0216, 0.0985, -0.1616, -0.0142, 0.025, -0.0021, -0.0695, 0.0727, -0.0782, 0.0154, 0.0299, 0.0253, 0.0435, -0.0213, 0.0291, -0.0687, -0.0842, -0.0299, -0.0234, -0.0305, 0.0636, 0.0385, 0.1353, -0.0639, 0.0626, 0.0823, -0.0654, -0.1531, 0.062, 0.2068, 0.1655, -0.0025, 0.0755, 0.1111, -0.0112, 0.0542, 0.0758, 0.0287, 0.025, -0.0156, -0.0133, 0.0168, -0.0965, -0.0959, 0.0855, 0.0595, -0.0193, 0.0157, -0.0696, -0.1973, 0.0382, -0.044, -0.0154, 0.0162, -0.0344, 0.0479, 0.0227, 0.0781, 0.0288, -0.0219, -0.1084, 0.1112, -0.0924, -0.0503, -0.1069, 0.035, -0.0458, -0.0333, 0.0877, 0.0091, -0.0308, 0.0228, 0.0115, 0.0401, 0.045, -0.0744, -0.0837, -0.0242, -0.0052, 0.1545, 0.0143, 0.0514, -0.0235, -0.0367, -0.0011, -0.0188, -0.1834, 0.0024, -0.13, 0.0896, -0.0394, -0.0815, -0.0602, 0.021, -0.0246, -0.0999, -0.0132, -0.1017, -0.1226, 0.103, 0.0154, -0.0013, -0.0482, 0.0333, 0.0447, 0.0323, -0.0449, -0.0977, 0.0593, -0.1782, -0.0048, 0.0297, -0.0732, -0.0559, 0.0416, 0.0498, -0.044, -0.0972, -0.1661, 0.0649, 0.0956, 0.0648, 0.0589, -0.045, -0.0444, -0.0979, -0.0541, 0.1042, 0.0026, -0.0342, 0.1103, 0.018, -0.064, 0.0356, 0.0649, -0.0626, -0.0008, -0.0409, 0.0537, -0.1367, 0.0571, 0.0203, 0.0047, 0.0132, -0.0942, 0.0271, 0.1266, -0.126, 0.0262, -0.1183, 0.0313, -0.0948, -0.0555, -0.05, -0.0481, 0.0055, -0.0893, 0.0646, 0.0172, 0.1848, 0.0317, -0.0435, 0.0364, -0.1422, 0.0769, -0.0876, -0.1296, 0.0311, -0.0617, 0.0811])),\n",
       " Row(id='1kvn', mean_embed=DenseVector([0.0522, 0.0478, -0.0463, -0.2388, 0.1727, -0.0474, -0.0365, -0.0545, -0.0734, -0.0605, 0.0316, 0.0678, -0.0247, 0.0986, 0.0611, -0.0993, -0.0453, 0.0881, -0.012, -0.0538, 0.0682, 0.0915, -0.077, -0.047, -0.0338, 0.0087, -0.0416, 0.0318, 0.0698, -0.0448, -0.045, 0.1221, -0.0833, -0.0563, 0.053, -0.0355, 0.0357, 0.0625, -0.131, -0.1275, 0.1065, 0.1433, 0.0899, 0.0076, 0.028, -0.2406, 0.1409, -0.0229, 0.0461, 0.0257, 0.0045, -0.091, -0.022, -0.1256, -0.0081, 0.018, 0.0056, -0.1378, -0.0535, -0.0282, -0.1072, -0.0897, 0.0851, -0.0424, -0.0795, -0.0323, -0.0122, -0.018, 0.1403, -0.0723, -0.1459, 0.057, -0.0421, -0.0831, 0.0627, -0.0547, -0.099, 0.0207, 0.0634, 0.0561, -0.0011, 0.086, 0.0031, 0.0584, 0.0791, -0.1047, -0.0806, -0.1331, 0.239, -0.0472, -0.005, -0.1052, -0.003, -0.1386, -0.0282, 0.1187, 0.315, 0.0155, 0.1307, 0.0382, -0.0672, -0.0211, -0.0747, 0.0566, 0.0312, -0.1697, -0.0274, -0.078, 0.0033, 0.0664, -0.0616, 0.021, 0.0472, 0.0459, -0.1075, -0.0372, 0.0445, 0.1863, 0.0064, -0.3212, 0.0449, 0.0338, -0.0058, 0.0399, 0.0569, 0.0096, 0.0976, 0.0296, -0.0968, -0.0074, -0.1261, 0.0432, 0.0704, 0.1053, -0.0224, -0.0018, 0.0129, 0.0795, -0.0361, -0.0199, -0.0357, 0.0348, 0.0396, -0.1717, 0.0201, 0.0817, -0.1579, 0.1415, 0.0097, 0.0155, -0.0029, 0.0451, 0.051, -0.0435, -0.0475, -0.0415, -0.0209, -0.0409, -0.1257, 0.1097, -0.0916, 0.1176, 0.1443, -0.0818, 0.0315, 0.0067, -0.0487, 0.0059, -0.0335, -0.0572, -0.2024, -0.0165, -0.0713, -0.0027, -0.0083, 0.0312, 0.001, -0.183, -0.0187, 0.0281, -0.0299, -0.1344, -0.0006, -0.0859, -0.0254, 0.07, -0.0875, 0.0496, 0.0445, 0.0973, 0.003, -0.0641, 0.0016, 0.0975, 0.0881, 0.0661, 0.2316, 0.0957, -0.0656, -0.0246, -0.1097, 0.0679, 0.0742, -0.0192, 0.099, -0.0056, -0.0647, 0.1458, -0.1799, -0.0439, -0.1441, 0.0927, -0.1196, -0.0733, -0.1181, -0.0237, 0.0591, 0.1533, -0.07, 0.0452, 0.3586, -0.028, 0.0492, -0.029, -0.1479, 0.2028, 0.0731, 0.2134, -0.0198, -0.0258, -0.0185, -0.0496, 0.0484, -0.1327, -0.1008, 0.123, -0.2242, -0.1011, -0.0509, -0.0072, -0.0209, 0.0263, 0.0246, 0.0385, 0.1095, 0.0065, -0.0913, 0.0888, 0.1416, -0.1004, -0.026, -0.1007, 0.0265, 0.1205, -0.0185, -0.0025, -0.0515, -0.0878, 0.0873, 0.0354, -0.1362, -0.079, -0.0666, 0.0657, 0.0563, 0.0515, -0.0544, 0.0337, 0.058, -0.2014, -0.1507, -0.0053, -0.0352, -0.0183, -0.0319, 0.1445, -0.2169, -0.0744, 0.0515, 0.0806, -0.0656, -0.0721, 0.0164, -0.0529, -0.0027, 0.2291, -0.0109, 0.0382, 0.114, 0.1662, 0.0696, 0.2807, 0.0746, -0.0128, -0.0885, -0.0231, 0.2032, 0.0768, -0.1692, -0.1447, -0.0047, -0.0159, 0.0605, -0.0093, -0.1222, 0.0294, -0.0936, 0.1199, -0.0553, 0.0802, -0.0689, -0.0277, -0.0244, 0.0864, -0.1019, -0.0048, -0.0729, -0.1236, 0.0193, -0.037, 0.015, 0.0096, 0.0344, -0.1776, -0.0465, -0.0171, -0.032, 0.0131, 0.2188, 0.0583, -0.0677, 0.0523, 0.0543, -0.0132, -0.0941, 0.1056, 0.062, -0.0977, 0.0098, -0.0497, 0.039, 0.1463, -0.022, 0.1156, -0.0011, 0.0361, -0.0794, 0.0423, 0.0891, 0.0269, -0.0619, -0.0953, -0.0756, -0.0893, -0.129, -0.0296, -0.1016, 0.0568, -0.153, 0.0285, 0.0283, -0.0664, 0.0419, 0.1596, 0.0402, -0.0668, 0.0662, 0.0583, 0.0031, -0.0884, 0.3073, 0.0547, 0.0349, 0.0331, -0.0773, 0.0236, -0.0772, 0.039, 0.0341, 0.0181, -0.0048, 0.0452, -0.0852, -0.0837, 0.0495, -0.0801, 0.0673, -0.0175, -0.0518, 0.009, 0.0602, -0.0248, -0.0425, 0.1429, 0.0265, 0.0792, -0.0402, 0.1574, 0.0106, 0.0157, -0.043, 0.0851, -0.1097, 0.0607, -0.0418, 0.0355, 0.0146, -0.2407, 0.1593, 0.002, 0.0159, 0.0672, -0.0268, -0.0642, 0.0846, -0.0809, 0.035, -0.0636, 0.0111, -0.118, -0.0275, -0.1247, -0.1305, -0.0182, -0.1246, -0.0475, 0.059, 0.0967, 0.1235, 0.064, -0.019, 0.0762, 0.0761, 0.053, -0.0811, -0.355, -0.1259, -0.1303, -0.1064, 0.0923, -0.0737, 0.0561, 0.0267, 0.015, 0.001, -0.0314, 0.0707, 0.0879, 0.0446, 0.0005, 0.0632, -0.0185, -0.0087, 0.0337, 0.0713, 0.0117, 0.1552, -0.0035, -0.0906, 0.0191, 0.0129, 0.0647, 0.0889, 0.0026, 0.097, 0.0137, -0.0309, -0.0882, 0.0418, 0.0959, 0.0683, -0.0148, -0.0927, 0.0194, -0.0059, 0.1178, 0.1186, -0.0732, 0.1346, -0.0019, 0.0033, -0.0859, 0.033, -0.0528, 0.034, -0.0238, 0.1122, 0.084, 0.0712, -0.1111, -0.0686, 0.0355, -0.0888, -0.0551, 0.1253, 0.051, 0.0528, -0.096, -0.0624, 0.3457, 0.0454, 0.004, -0.0657, -0.082, -0.0027, 0.0069, 0.057, -0.0377, 0.0308, 0.0126, 0.0354, -0.0126, -0.064, -0.1023, 0.0865, -0.1552, 0.0711, 0.0292, 0.0541, -0.0363, -0.0041, 0.0581, -0.0008, -0.1183, 0.0572, 0.0978, 0.0215, 0.0857, 0.0108, 0.0397, -0.0782, -0.0513, 0.1034, -0.1674, 0.0699, -0.0442, -0.0982, 0.1155, 0.1125, 0.0466, 0.0558, 0.0711, -0.0711, 0.064, 0.0983, 0.127, 0.016, -0.1956, 0.0545, 0.0253, 0.1082, 0.096, 0.0303, -0.0602, 0.0783, 0.0384, -0.014, -0.0153, 0.1183, -0.1164, -0.1956, 0.0323, -0.1474, -0.0152, 0.0895, -0.2988, 0.1295, -0.0582, -0.1276, -0.0108, 0.043, 0.052, -0.0571, -0.0403, -0.076, 0.0797, 0.0293, 0.0734, -0.0585, 0.1404, 0.0054, 0.1468, 0.0712, -0.0102, 0.1339, -0.0901, -0.0246, -0.1071, -0.0257, -0.0543, 0.0761, -0.0932, 0.0811, 0.0166, 0.0205, -0.0814, -0.0267, -0.2323, -0.1004, 0.0007, 0.1029, 0.0158, 0.0638, -0.076, -0.0228, 0.1171, 0.0371, -0.013, -0.0457, -0.044, -0.0792, 0.0575, 0.1248, -0.0577, 0.0209, -0.0527, -0.1112, 0.0644, -0.1263, 0.0161, 0.0981, 0.0223, 0.0126, -0.0531, 0.0446, -0.0495, -0.0667, 0.0192, 0.0017, 0.0787, 0.0024, -0.1519, 0.0651, 0.0993, 0.1206, 0.0762, 0.1147, -0.1294, 0.1109, -0.0466, 0.0468, -0.0777, 0.0363, 0.0598, 0.0011, -0.027, 0.0347, 0.0716, -0.061, 0.0385, 0.0834, -0.1237, -0.0493, 0.0642, 0.0175, -0.0747, -0.0464, -0.0404, 0.1084, -0.0165, 0.0614, 0.0046, 0.0194, -0.1125, -0.0229, 0.0207, 0.0447, 0.1056, -0.1306, 0.0747, -0.0727, 0.0697, -0.0056, -0.0335, -0.0482, 0.0473, 0.1054, 0.0634, -0.1036, 0.0837, -0.0442, 0.0661, 0.2036, -0.0185, 0.2012, -0.0108, 0.1323, -0.0105, -0.1176, -0.0359, -0.0919, -0.0898, 0.0155, 0.1201, 0.1191, -0.0127, -0.0264, -0.0945, -0.039, -0.0272, 0.017, -0.0389, -0.0923, 0.0682, -0.1301, -0.0335, 0.0602, 0.0082, 0.11, 0.0468, -0.1331, -0.1356, -0.0341, -0.026, 0.0243, -0.1244, -0.485, 0.0834, 0.0513, -0.0451, 0.0643, 0.1343, -0.1196, 0.0191, 0.1344, 0.0687, -0.0179, 0.0108, -0.0036, -0.1109, -0.0262, 0.0506, 0.0498, -0.0802, -0.2027, -0.0022, -0.0709, 0.1009, 0.1856, -0.1073, 0.1114, 0.0349, 0.1087, -0.0105, -0.1117, -0.0322, -0.1488, 0.0756, 0.0167, 0.0263, -0.0069, 0.0073, -0.0206, 0.0155, -0.1045, -0.0316, -0.1006, -0.0291, -0.1101, 0.0875, -0.0831, -0.0292, 0.0068, 0.1802, 0.0249, 0.0358, -0.0048, 0.0449, -0.1113, 3.4315, -0.0667, 0.1273, 0.0098, -0.0035, -0.0463, 0.0847, 0.0777, 0.1645, -0.0898, 0.0504, 0.0443, 0.0469, -0.0726, 0.0628, 0.1526, -0.0827, 0.0537, 0.0089, 0.1815, 0.6528, 0.0891, 0.0634, 0.0701, -0.1441, -0.0834, -0.037, -0.0688, 0.1137, 0.1901, -0.1472, -0.0508, 0.0682, -0.1611, -0.1369, -0.1071, 0.01, -0.104, 0.0942, -0.0357, 0.0738, -0.0461, 0.016, -0.0492, 0.0018, 0.0686, -0.3271, -0.0411, -0.0685, 0.1218, -0.0759, 0.009, -0.0266, 0.1649, 0.2221, -0.6716, -0.0263, -0.0785, -0.1465, -0.037, 0.0641, -0.1292, -0.0207, 0.1391, 0.0099, 0.0295, -0.0105, -0.0425, 0.1653, -0.1074, -0.0223, -0.2042, -0.0635, 0.0936, 0.0146, 0.092, -0.0142, -0.0438, -0.0511, 0.0523, 0.0335, 0.0245, 0.0081, 0.0187, -0.0841, 0.0305, 0.0909, -0.1577, -0.0084, 0.012, -0.015, -0.0581, 0.0775, -0.0952, 0.0164, 0.0226, 0.0278, 0.0386, -0.03, 0.0313, -0.0912, -0.0769, -0.0622, -0.0229, -0.0385, 0.0624, 0.0321, 0.1311, -0.0639, 0.0607, 0.065, -0.0648, -0.1586, 0.062, 0.2035, 0.1708, 0.0067, 0.076, 0.1038, -0.0052, 0.063, 0.0754, 0.0387, 0.0117, -0.0047, -0.0166, 0.0131, -0.1038, -0.0714, 0.0809, 0.0535, -0.0133, 0.0269, -0.087, -0.1978, 0.042, -0.032, -0.014, 0.0147, -0.0271, 0.0525, -0.0002, 0.0789, 0.0156, -0.0213, -0.1168, 0.1112, -0.0966, -0.0485, -0.1137, 0.0124, -0.0428, -0.0309, 0.0943, 0.0193, -0.0352, 0.0389, 0.0126, 0.0342, 0.0546, -0.0931, -0.0949, -0.0474, -0.0007, 0.1391, 0.0324, 0.0471, -0.0408, -0.0425, -0.0061, -0.0067, -0.1768, 0.0033, -0.1327, 0.0986, -0.0351, -0.0856, -0.0746, 0.0207, -0.0196, -0.1057, -0.0048, -0.1156, -0.1163, 0.1058, 0.0059, 0.004, -0.0615, 0.0366, 0.0397, 0.0329, -0.0464, -0.0889, 0.0481, -0.1699, -0.0011, 0.0305, -0.081, -0.0461, 0.0567, 0.049, -0.0593, -0.0869, -0.1658, 0.0616, 0.0835, 0.07, 0.0571, -0.0369, -0.0433, -0.1014, -0.0552, 0.083, 0.0133, -0.047, 0.1188, 0.0286, -0.065, 0.0454, 0.066, -0.0714, -0.0129, -0.0374, 0.0391, -0.1346, 0.0679, 0.0144, -0.002, -0.0055, -0.0844, 0.0332, 0.1227, -0.115, 0.0365, -0.1092, 0.0521, -0.0798, -0.055, -0.0484, -0.033, 0.0004, -0.0752, 0.0625, 0.0253, 0.1828, 0.0322, -0.05, 0.0245, -0.1437, 0.0805, -0.0789, -0.137, 0.0272, -0.0513, 0.0807])),\n",
       " Row(id='2n72', mean_embed=DenseVector([0.009, 0.0814, -0.1198, -0.1863, 0.1559, -0.0946, -0.0122, -0.1164, -0.0855, -0.0511, 0.0032, 0.0712, -0.0364, 0.0622, 0.0313, -0.0531, -0.0323, 0.0895, 0.0194, -0.0335, 0.0436, 0.0471, -0.0733, 0.0044, -0.0316, 0.0576, -0.088, 0.061, 0.0552, -0.025, -0.1092, 0.0751, -0.0678, -0.1157, 0.0452, 0.0068, 0.0474, 0.0914, -0.0957, -0.117, 0.1165, 0.1194, 0.0877, 0.0057, 0.03, -0.2477, 0.144, 0.0079, 0.0317, 0.0421, 0.0406, -0.0301, -0.0187, -0.1107, -0.008, 0.0204, -0.018, -0.1231, -0.0415, -0.037, -0.0875, -0.0732, 0.0871, -0.0534, -0.0648, -0.0528, -0.0447, -0.0004, 0.1374, -0.0862, -0.162, 0.0658, -0.036, -0.1014, 0.0836, -0.0204, -0.077, 0.0526, -0.0109, 0.0275, -0.0085, 0.0903, 0.0342, 0.0741, 0.074, -0.0908, -0.0658, -0.0436, 0.2188, -0.0194, -0.021, -0.1524, 0.0066, -0.109, 0.0281, 0.1091, 0.4031, 0.0472, 0.0977, 0.0336, -0.0631, 0.0498, -0.0286, 0.0094, 0.0203, -0.1919, 0.029, -0.0488, 0.0408, 0.0511, -0.0732, -0.004, 0.059, 0.0323, -0.0632, -0.0206, 0.0141, 0.177, -0.0143, -0.2246, 0.0303, -0.0182, -0.0084, 0.0226, 0.0521, 0.0322, 0.0879, -0.0084, -0.1586, 0.0505, -0.1208, 0.0199, 0.0784, 0.0768, -0.0331, 0.0194, 0.0153, 0.0123, -0.0464, -0.0351, 0.0077, 0.0534, 0.0089, -0.0979, -0.0059, -0.0549, -0.1617, 0.0812, -0.0153, 0.0352, -0.021, 0.0729, 0.0519, -0.017, -0.0708, -0.0468, -0.0571, -0.0496, -0.086, 0.0503, -0.1069, 0.0963, 0.1026, -0.0566, 0.0305, -0.0001, -0.0577, -0.0113, -0.0419, -0.0575, -0.165, 0.0419, -0.0873, 0.0251, 0.0208, 0.0414, -0.0417, -0.2082, -0.056, 0.0073, -0.0427, -0.1118, 0.0442, -0.0619, -0.0015, 0.0727, -0.0584, 0.025, 0.025, 0.086, -0.0178, -0.0771, -0.0217, 0.0679, 0.0694, 0.0855, 0.1965, 0.069, -0.1113, -0.0038, -0.0792, 0.0829, 0.0776, -0.0374, 0.045, -0.0683, -0.0838, 0.1153, -0.132, -0.0579, -0.1231, 0.0712, -0.1452, -0.047, -0.1061, 0.0093, 0.0982, 0.1285, -0.1167, 0.0421, 0.3084, -0.0318, 0.0078, -0.0235, -0.0948, 0.1851, 0.0318, 0.2055, -0.0363, -0.0108, -0.0196, -0.0425, 0.0326, -0.0388, -0.1347, 0.1358, -0.2174, -0.0587, -0.0563, -0.0495, -0.0008, 0.0356, 0.051, 0.0265, 0.1025, 0.0302, -0.0372, 0.0507, 0.1494, -0.0806, -0.0061, -0.0542, -0.0514, 0.1269, 0.02, -0.0122, -0.0422, -0.0817, 0.0702, 0.0285, -0.0649, -0.0385, -0.0355, 0.0715, 0.1094, 0.0549, -0.0773, 0.0605, 0.0568, -0.2131, -0.1161, 0.025, -0.0438, 0.0308, 0.0135, 0.131, -0.2653, -0.1269, 0.0193, 0.1139, -0.0794, -0.0732, -0.0389, -0.0355, 0.0738, 0.1945, 0.0007, 0.0303, 0.0912, 0.1094, 0.11, 0.267, 0.0871, 0.0094, -0.045, 0.021, 0.2744, 0.1694, -0.1051, -0.1261, -0.018, -0.0344, 0.0683, 0.0049, -0.2001, -0.0137, -0.113, 0.1009, -0.0308, 0.0251, -0.0894, -0.0981, -0.0455, 0.1076, -0.1562, -0.0238, -0.0847, -0.1311, 0.0356, -0.0445, 0.0011, 0.0071, -0.0061, -0.1483, -0.0781, 0.0069, -0.0355, -0.0155, 0.2265, 0.0307, -0.0565, 0.0115, 0.0457, -0.013, -0.0979, 0.1143, 0.0341, -0.1033, 0.0383, -0.0465, 0.0402, 0.0876, 0.0198, 0.0672, -0.0223, 0.0351, -0.0847, 0.0509, 0.079, 0.0578, -0.07, -0.0847, -0.0716, -0.0564, -0.1396, -0.0345, -0.0413, 0.0517, -0.1729, 0.0102, -0.0024, -0.0183, -0.0302, 0.128, 0.0821, -0.085, 0.0559, 0.061, -0.0146, -0.0998, 0.2844, 0.0611, 0.0465, -0.0192, -0.0017, 0.0052, -0.0861, 0.0154, 0.0501, 0.0587, -0.0077, 0.0711, -0.0345, -0.0973, 0.0656, -0.1302, 0.0892, 0.0086, -0.0564, 0.0114, 0.0542, -0.0511, -0.087, 0.1548, 0.0019, 0.0979, -0.0271, 0.1311, 0.012, -0.0038, -0.0454, 0.0636, -0.1118, 0.0168, -0.0708, -0.0002, -0.0025, -0.1921, 0.1438, -0.0393, 0.12, 0.0652, -0.0029, -0.0742, 0.0152, -0.1021, 0.0332, -0.0066, 0.0125, -0.1796, 0.0391, -0.043, -0.1162, 0.005, -0.1589, -0.0354, 0.0665, 0.0577, 0.1504, 0.0654, 0.0352, 0.0892, 0.0672, 0.053, -0.0844, -0.2314, -0.0893, -0.1423, -0.0853, 0.105, -0.0466, 0.0198, 0.0561, 0.0278, 0.0436, 0.0219, 0.061, 0.0402, 0.0162, 0.0225, 0.0244, -0.044, 0.0262, 0.0643, 0.0658, -0.0068, 0.1102, -0.0373, -0.0767, 0.04, -0.0096, 0.0415, 0.0954, -0.0038, 0.0747, -0.067, -0.0039, -0.1031, 0.0176, 0.0619, 0.0494, 0.0075, -0.124, 0.047, -0.0447, 0.0934, 0.0938, -0.0884, 0.1048, 0.0216, 0.0256, -0.1027, 0.03, -0.095, 0.0235, -0.0455, 0.1238, 0.064, 0.1048, -0.0929, -0.0997, 0.0482, -0.0654, -0.0419, 0.1371, 0.0541, 0.0396, -0.0774, -0.1554, 0.2066, 0.065, 0.0068, -0.0976, -0.1076, 0.0181, -0.0189, 0.0523, -0.0407, 0.0547, 0.0637, 0.0289, -0.0146, -0.0398, -0.0616, 0.089, -0.1449, 0.1085, 0.0419, 0.0292, -0.0613, -0.0228, 0.0338, 0.0114, -0.0964, 0.0859, 0.0553, 0.0605, 0.0672, 0.0518, 0.0115, -0.0478, -0.0243, 0.1124, 0.0599, 0.0937, 0.0083, -0.06, 0.1145, 0.0801, 0.0523, 0.127, 0.0714, -0.0716, 0.06, 0.0797, 0.0878, -0.0109, -0.1536, 0.0573, 0.0617, 0.0801, 0.0467, 0.0277, -0.0742, 0.0739, 0.0358, -0.0247, -0.0315, 0.1668, -0.0841, -0.1349, 0.0445, -0.1904, 0.0085, 0.0723, -0.2578, 0.1771, -0.0645, -0.0705, 0.0235, 0.0095, 0.0501, -0.0634, -0.0372, -0.0711, 0.0437, 0.0422, 0.1049, 0.0131, 0.1853, 0.0198, 0.1525, 0.059, -0.0019, 0.0997, -0.1592, -0.0263, -0.0949, -0.0343, -0.0635, 0.0271, -0.1117, 0.0674, 0.0285, 0.0476, -0.0665, -0.0185, -0.209, -0.0709, -0.0168, 0.0755, -0.0067, 0.0593, -0.0921, 0.0122, 0.0566, -0.0136, -0.0286, -0.0806, -0.0155, -0.0708, 0.057, 0.1266, -0.0402, 0.027, -0.0512, -0.1543, 0.0512, -0.156, 0.0195, 0.0992, 0.0071, -0.0171, -0.0573, -0.0424, -0.0085, -0.1071, 0.0262, -0.0008, 0.0573, -0.0464, -0.1328, 0.0272, 0.1027, 0.1065, 0.0903, 0.1012, -0.1492, 0.0644, -0.0093, -0.0072, -0.1017, 0.003, 0.0231, 0.0078, -0.0511, 0.1339, 0.0284, -0.0589, 0.09, 0.1041, -0.1271, -0.0549, 0.0941, -0.0487, -0.0831, -0.0158, -0.066, 0.0317, -0.0103, 0.0165, 0.0455, 0.0281, -0.1049, -0.0491, 0.045, 0.0185, 0.047, -0.1424, 0.0245, -0.0393, 0.0669, -0.0327, -0.0151, 0.0066, 0.0583, 0.1254, 0.1297, -0.133, 0.0321, 0.0479, 0.0837, 0.1759, -0.0246, 0.1244, -0.0477, 0.1085, -0.007, -0.0516, -0.0141, -0.117, -0.0727, -0.005, 0.0684, 0.1166, -0.0256, -0.0417, -0.0701, -0.0456, -0.0147, -0.0358, -0.0405, -0.0514, 0.0233, -0.1249, -0.0381, 0.0866, 0.0053, 0.0962, 0.1161, -0.1154, -0.0592, -0.0141, -0.0597, 0.0167, -0.1548, -0.4872, 0.0395, 0.0891, -0.1645, 0.0647, 0.1451, -0.1074, -0.0538, 0.0829, 0.0607, -0.0612, 0.0201, -0.0197, -0.087, -0.0059, 0.0279, 0.0424, -0.0338, -0.1809, 0.0163, -0.085, 0.1056, 0.1464, -0.0629, 0.112, 0.039, 0.0873, -0.0066, -0.0792, -0.0143, -0.1365, 0.0851, 0.0421, 0.0545, 0.0126, 0.0202, -0.0235, 0.0624, -0.1205, -0.0684, -0.0431, -0.0577, -0.0412, 0.1186, -0.1091, -0.0437, -0.0254, 0.2474, 0.0313, 0.0085, -0.0038, 0.0742, -0.0768, 3.1558, -0.0685, 0.1428, -0.0431, -0.0151, 0.0097, 0.0676, 0.0462, 0.1115, -0.1152, 0.062, 0.0886, 0.0786, -0.1085, 0.0146, 0.073, -0.0582, 0.0657, 0.0058, 0.1427, 0.5338, 0.0766, 0.0512, 0.0885, -0.1583, -0.1026, -0.0572, -0.121, 0.0854, 0.1226, -0.2164, -0.0593, 0.0897, -0.142, -0.1411, -0.1343, 0.0355, -0.048, 0.102, -0.0202, 0.0683, -0.0398, 0.0318, -0.0259, 0.0412, 0.1136, -0.3173, -0.0487, -0.039, 0.1172, -0.0403, -0.0196, -0.0227, 0.1815, 0.3003, -0.5044, -0.0167, -0.1181, -0.1666, -0.0292, -0.0012, -0.1315, 0.0166, 0.1282, 0.0144, 0.0219, -0.0301, 0.0049, 0.1604, -0.0197, -0.0224, -0.2183, 0.0034, 0.0464, 0.0149, 0.1057, -0.0021, -0.0521, -0.0961, 0.0435, 0.0556, 0.0115, 0.0523, -0.0157, -0.0145, 0.0668, 0.1115, -0.1326, -0.0084, 0.0151, 0.0113, -0.0176, 0.0496, -0.0329, 0.0351, 0.0005, 0.0277, 0.0419, -0.0028, -0.0182, -0.1597, -0.0847, -0.0943, -0.0033, -0.0546, 0.0845, 0.0857, 0.0902, -0.063, 0.0872, -0.0343, -0.0203, -0.1805, 0.063, 0.1235, 0.1823, 0.0738, 0.075, 0.109, -0.0091, 0.033, 0.0714, 0.0465, 0.0551, -0.0394, -0.0388, -0.0045, -0.0746, -0.0171, 0.0329, 0.0849, 0.0107, -0.0035, -0.0617, -0.1411, 0.0402, 0.0397, -0.0187, 0.0108, -0.0545, 0.0032, 0.0613, 0.0264, 0.0277, 0.002, -0.1098, 0.1299, -0.1199, -0.0377, -0.1071, -0.0244, -0.0141, 0.0091, 0.0901, -0.0025, -0.0187, 0.0919, 0.0406, 0.0148, 0.0271, -0.0162, -0.0854, -0.0521, 0.0452, 0.1333, 0.0123, 0.0062, -0.0579, -0.0452, -0.046, -0.0079, -0.0934, 0.0346, -0.1633, 0.0765, -0.053, -0.0693, -0.0772, 0.0395, -0.0172, -0.1083, 0.0364, -0.086, -0.1868, 0.0731, 0.0007, 0.0272, -0.055, -0.0095, 0.0142, -0.0375, 0.0148, -0.0354, 0.0127, -0.1491, 0.0073, 0.0605, -0.1083, -0.0742, 0.0008, 0.0399, -0.0697, -0.0565, -0.175, 0.0458, 0.0559, 0.0478, 0.0407, -0.0092, -0.0871, -0.102, 0.0292, 0.083, -0.0362, 0.0103, 0.122, 0.0429, -0.0112, 0.0608, 0.0818, -0.0444, 0.0028, 0.0063, 0.0432, -0.1872, 0.0196, -0.0007, 0.0164, -0.0108, -0.0521, 0.0768, 0.0748, -0.1038, 0.0097, -0.1086, 0.0894, -0.135, -0.078, -0.0415, -0.0474, 0.0068, -0.0622, 0.0745, -0.0029, 0.1523, 0.0514, -0.0774, 0.0091, -0.1359, 0.0976, -0.0086, -0.1321, 0.0399, -0.0551, 0.051]))]"
      ]
     },
     "execution_count": 25,
     "metadata": {},
     "output_type": "execute_result"
    }
   ],
   "source": [
    "filtered_mean_embed_df.collect()"
   ]
  },
  {
   "cell_type": "code",
   "execution_count": null,
   "id": "fa831628-483d-4cab-aa4e-436716a171de",
   "metadata": {},
   "outputs": [],
   "source": []
  },
  {
   "cell_type": "code",
   "execution_count": 26,
   "id": "4aeba417-f61a-4c60-acf9-203e54eb5487",
   "metadata": {},
   "outputs": [
    {
     "name": "stderr",
     "output_type": "stream",
     "text": [
      "                                                                                \r"
     ]
    }
   ],
   "source": [
    "# Redoing the cosine similarity calculation to create a symmetric matrix\n",
    "@F.udf(DoubleType())\n",
    "def cos_sim(a, b):\n",
    "    return float(np.dot(a, b) / (np.linalg.norm(a) * np.linalg.norm(b)))\n",
    "\n",
    "df2 = (\n",
    "    filtered_mean_embed_df.alias('a')\n",
    "    .crossJoin(filtered_mean_embed_df.alias('b'))\n",
    "    .withColumn(\n",
    "        'cs',\n",
    "        cos_sim(\n",
    "            'a.mean_embed',\n",
    "            'b.mean_embed')\n",
    "    )\n",
    "    .groupby('a.id') # Grouping by the id's\n",
    "    .pivot('b.id') # Pivoting on the same id's\n",
    "    .sum('cs') # Collecting the cosine similarities\n",
    ")"
   ]
  },
  {
   "cell_type": "markdown",
   "id": "13ec4c06-ea01-460c-93e8-c1a83a1bcaeb",
   "metadata": {},
   "source": [
    "#### For heatmap"
   ]
  },
  {
   "cell_type": "code",
   "execution_count": 27,
   "id": "24dd27d2-38d6-4f32-bf72-c4d5136674bf",
   "metadata": {
    "scrolled": true
   },
   "outputs": [
    {
     "name": "stderr",
     "output_type": "stream",
     "text": [
      "                                                                                \r"
     ]
    }
   ],
   "source": [
    "cos_df = df2.toPandas()\n",
    "cos_df = cos_df.sort_values('id')\n",
    "\n",
    "cod_df = cos_df.set_index('id')"
   ]
  },
  {
   "cell_type": "code",
   "execution_count": 28,
   "id": "c9529bec-e852-465f-aa1d-1412db54c0ac",
   "metadata": {},
   "outputs": [
    {
     "data": {
      "text/html": [
       "<div>\n",
       "<style scoped>\n",
       "    .dataframe tbody tr th:only-of-type {\n",
       "        vertical-align: middle;\n",
       "    }\n",
       "\n",
       "    .dataframe tbody tr th {\n",
       "        vertical-align: top;\n",
       "    }\n",
       "\n",
       "    .dataframe thead th {\n",
       "        text-align: right;\n",
       "    }\n",
       "</style>\n",
       "<table border=\"1\" class=\"dataframe\">\n",
       "  <thead>\n",
       "    <tr style=\"text-align: right;\">\n",
       "      <th></th>\n",
       "      <th>1kvn</th>\n",
       "      <th>1ss3</th>\n",
       "      <th>1ujx</th>\n",
       "      <th>1w9r</th>\n",
       "      <th>1wis</th>\n",
       "      <th>1x3q</th>\n",
       "      <th>2jvg</th>\n",
       "      <th>2k9p</th>\n",
       "      <th>2l49</th>\n",
       "      <th>2lg4</th>\n",
       "      <th>2lzz</th>\n",
       "      <th>2m20</th>\n",
       "      <th>2mx7</th>\n",
       "      <th>2n72</th>\n",
       "      <th>2ofq</th>\n",
       "      <th>2rts</th>\n",
       "      <th>5ml1</th>\n",
       "      <th>6e8w</th>\n",
       "    </tr>\n",
       "    <tr>\n",
       "      <th>id</th>\n",
       "      <th></th>\n",
       "      <th></th>\n",
       "      <th></th>\n",
       "      <th></th>\n",
       "      <th></th>\n",
       "      <th></th>\n",
       "      <th></th>\n",
       "      <th></th>\n",
       "      <th></th>\n",
       "      <th></th>\n",
       "      <th></th>\n",
       "      <th></th>\n",
       "      <th></th>\n",
       "      <th></th>\n",
       "      <th></th>\n",
       "      <th></th>\n",
       "      <th></th>\n",
       "      <th></th>\n",
       "    </tr>\n",
       "  </thead>\n",
       "  <tbody>\n",
       "    <tr>\n",
       "      <th>1kvn</th>\n",
       "      <td>1.000000</td>\n",
       "      <td>0.993920</td>\n",
       "      <td>0.977120</td>\n",
       "      <td>0.998185</td>\n",
       "      <td>0.979005</td>\n",
       "      <td>0.998027</td>\n",
       "      <td>0.998116</td>\n",
       "      <td>0.981961</td>\n",
       "      <td>0.979866</td>\n",
       "      <td>0.991560</td>\n",
       "      <td>0.995484</td>\n",
       "      <td>0.979779</td>\n",
       "      <td>0.978790</td>\n",
       "      <td>0.967881</td>\n",
       "      <td>0.980228</td>\n",
       "      <td>0.980848</td>\n",
       "      <td>0.984847</td>\n",
       "      <td>0.981365</td>\n",
       "    </tr>\n",
       "    <tr>\n",
       "      <th>1ss3</th>\n",
       "      <td>0.993920</td>\n",
       "      <td>1.000000</td>\n",
       "      <td>0.963461</td>\n",
       "      <td>0.995898</td>\n",
       "      <td>0.967179</td>\n",
       "      <td>0.995608</td>\n",
       "      <td>0.997231</td>\n",
       "      <td>0.967625</td>\n",
       "      <td>0.967763</td>\n",
       "      <td>0.997944</td>\n",
       "      <td>0.998817</td>\n",
       "      <td>0.962597</td>\n",
       "      <td>0.964599</td>\n",
       "      <td>0.962591</td>\n",
       "      <td>0.968904</td>\n",
       "      <td>0.968392</td>\n",
       "      <td>0.992750</td>\n",
       "      <td>0.967119</td>\n",
       "    </tr>\n",
       "    <tr>\n",
       "      <th>1ujx</th>\n",
       "      <td>0.977120</td>\n",
       "      <td>0.963461</td>\n",
       "      <td>1.000000</td>\n",
       "      <td>0.967494</td>\n",
       "      <td>0.999173</td>\n",
       "      <td>0.974555</td>\n",
       "      <td>0.971212</td>\n",
       "      <td>0.997341</td>\n",
       "      <td>0.998069</td>\n",
       "      <td>0.967970</td>\n",
       "      <td>0.963460</td>\n",
       "      <td>0.994897</td>\n",
       "      <td>0.997057</td>\n",
       "      <td>0.985922</td>\n",
       "      <td>0.989512</td>\n",
       "      <td>0.998665</td>\n",
       "      <td>0.972564</td>\n",
       "      <td>0.990688</td>\n",
       "    </tr>\n",
       "    <tr>\n",
       "      <th>1w9r</th>\n",
       "      <td>0.998185</td>\n",
       "      <td>0.995898</td>\n",
       "      <td>0.967494</td>\n",
       "      <td>1.000000</td>\n",
       "      <td>0.970568</td>\n",
       "      <td>0.997921</td>\n",
       "      <td>0.998459</td>\n",
       "      <td>0.971814</td>\n",
       "      <td>0.971431</td>\n",
       "      <td>0.992268</td>\n",
       "      <td>0.997484</td>\n",
       "      <td>0.968121</td>\n",
       "      <td>0.969320</td>\n",
       "      <td>0.961762</td>\n",
       "      <td>0.972228</td>\n",
       "      <td>0.972906</td>\n",
       "      <td>0.985250</td>\n",
       "      <td>0.969689</td>\n",
       "    </tr>\n",
       "    <tr>\n",
       "      <th>1wis</th>\n",
       "      <td>0.979005</td>\n",
       "      <td>0.967179</td>\n",
       "      <td>0.999173</td>\n",
       "      <td>0.970568</td>\n",
       "      <td>1.000000</td>\n",
       "      <td>0.976826</td>\n",
       "      <td>0.973750</td>\n",
       "      <td>0.997031</td>\n",
       "      <td>0.999159</td>\n",
       "      <td>0.970489</td>\n",
       "      <td>0.967000</td>\n",
       "      <td>0.992684</td>\n",
       "      <td>0.997676</td>\n",
       "      <td>0.987979</td>\n",
       "      <td>0.992522</td>\n",
       "      <td>0.999098</td>\n",
       "      <td>0.975529</td>\n",
       "      <td>0.989272</td>\n",
       "    </tr>\n",
       "  </tbody>\n",
       "</table>\n",
       "</div>"
      ],
      "text/plain": [
       "          1kvn      1ss3      1ujx      1w9r      1wis      1x3q      2jvg  \\\n",
       "id                                                                           \n",
       "1kvn  1.000000  0.993920  0.977120  0.998185  0.979005  0.998027  0.998116   \n",
       "1ss3  0.993920  1.000000  0.963461  0.995898  0.967179  0.995608  0.997231   \n",
       "1ujx  0.977120  0.963461  1.000000  0.967494  0.999173  0.974555  0.971212   \n",
       "1w9r  0.998185  0.995898  0.967494  1.000000  0.970568  0.997921  0.998459   \n",
       "1wis  0.979005  0.967179  0.999173  0.970568  1.000000  0.976826  0.973750   \n",
       "\n",
       "          2k9p      2l49      2lg4      2lzz      2m20      2mx7      2n72  \\\n",
       "id                                                                           \n",
       "1kvn  0.981961  0.979866  0.991560  0.995484  0.979779  0.978790  0.967881   \n",
       "1ss3  0.967625  0.967763  0.997944  0.998817  0.962597  0.964599  0.962591   \n",
       "1ujx  0.997341  0.998069  0.967970  0.963460  0.994897  0.997057  0.985922   \n",
       "1w9r  0.971814  0.971431  0.992268  0.997484  0.968121  0.969320  0.961762   \n",
       "1wis  0.997031  0.999159  0.970489  0.967000  0.992684  0.997676  0.987979   \n",
       "\n",
       "          2ofq      2rts      5ml1      6e8w  \n",
       "id                                            \n",
       "1kvn  0.980228  0.980848  0.984847  0.981365  \n",
       "1ss3  0.968904  0.968392  0.992750  0.967119  \n",
       "1ujx  0.989512  0.998665  0.972564  0.990688  \n",
       "1w9r  0.972228  0.972906  0.985250  0.969689  \n",
       "1wis  0.992522  0.999098  0.975529  0.989272  "
      ]
     },
     "execution_count": 28,
     "metadata": {},
     "output_type": "execute_result"
    }
   ],
   "source": [
    "cod_df.head()"
   ]
  },
  {
   "cell_type": "markdown",
   "id": "3b93676d-4d56-412a-a7ae-a4f6c75fc5b5",
   "metadata": {},
   "source": [
    "#### Heatmap trial"
   ]
  },
  {
   "cell_type": "code",
   "execution_count": 29,
   "id": "e3d243e2-2df9-4ba1-87c4-ba5a1334e02e",
   "metadata": {},
   "outputs": [
    {
     "data": {
      "text/plain": [
       "<Axes: >"
      ]
     },
     "execution_count": 29,
     "metadata": {},
     "output_type": "execute_result"
    },
    {
     "data": {
      "image/png": "[encoded data removed]",
      "text/plain": [
       "<Figure size 640x480 with 2 Axes>"
      ]
     },
     "metadata": {},
     "output_type": "display_data"
    }
   ],
   "source": [
    "import seaborn as sns\n",
    "\n",
    "data2 = cod_df.values.flatten().tolist()\n",
    "data2_array = np.array(data2).reshape(len(cod_df.columns),len(cod_df.columns))\n",
    "sns.heatmap(data2_array)"
   ]
  },
  {
   "cell_type": "markdown",
   "id": "20831fef-fa48-44ba-896b-d94a9060fe48",
   "metadata": {},
   "source": [
    "Here we see that the embeddings look very similar. I will continue the invastigation by checking the distribution of amino acids in the most similar and least similar sequence couples."
   ]
  },
  {
   "cell_type": "markdown",
   "id": "5a66bb8c-3532-465a-8651-e6f4e540f2d7",
   "metadata": {},
   "source": [
    "### Analysis of some proteins"
   ]
  },
  {
   "cell_type": "code",
   "execution_count": 31,
   "id": "ca9e1c74-cbac-4168-a506-c92c31a81d9c",
   "metadata": {},
   "outputs": [],
   "source": [
    "minimum_cs = filtered_df.select(F.min(filtered_df[\"cosine_similarity\"])).collect()\n"
   ]
  },
  {
   "cell_type": "code",
   "execution_count": 32,
   "id": "0e22c3ff-db44-4328-bbd2-4f1d8b776464",
   "metadata": {},
   "outputs": [],
   "source": [
    "proteins = filtered_df.filter(filtered_df[\"cosine_similarity\"] == minimum_cs[0][0]).collect()\n",
    "protein1, protein2 = proteins[0][0],proteins[0][1]"
   ]
  },
  {
   "cell_type": "code",
   "execution_count": 45,
   "id": "c92d296b-380a-4c3c-b5bd-e4fc65a29e60",
   "metadata": {},
   "outputs": [
    {
     "name": "stderr",
     "output_type": "stream",
     "text": [
      "                                                                                \r"
     ]
    }
   ],
   "source": [
    "seq_protein1 = tokens_df.select(\"tokens\").where(f\"id == '{protein1}'\").take(1)\n",
    "seq_protein2 = tokens_df.select(\"tokens\").where(f\"id == '{protein2}'\").take(1)"
   ]
  },
  {
   "cell_type": "markdown",
   "id": "a541fc6c-d1b5-45a2-bdd3-3ce98d80310d",
   "metadata": {},
   "source": [
    "#### Observing the frequencies of the residues of the most \"different\" sequences"
   ]
  },
  {
   "cell_type": "code",
   "execution_count": 46,
   "id": "5bb4dbd9-09b9-4830-be2f-d41ed784ebf4",
   "metadata": {},
   "outputs": [
    {
     "data": {
      "text/plain": [
       "Counter({'K': 17,\n",
       "         'G': 10,\n",
       "         'H': 6,\n",
       "         'C': 6,\n",
       "         'E': 6,\n",
       "         'A': 5,\n",
       "         'D': 4,\n",
       "         'P': 4,\n",
       "         'V': 3,\n",
       "         'X': 3,\n",
       "         'I': 2,\n",
       "         'L': 2,\n",
       "         'M': 2,\n",
       "         'N': 1,\n",
       "         'Q': 1,\n",
       "         'F': 1,\n",
       "         'T': 1})"
      ]
     },
     "execution_count": 46,
     "metadata": {},
     "output_type": "execute_result"
    }
   ],
   "source": [
    "Counter(seq_protein1[0][0])"
   ]
  },
  {
   "cell_type": "code",
   "execution_count": 44,
   "id": "a6eed638-e362-44dd-95f9-f182295221b6",
   "metadata": {},
   "outputs": [
    {
     "data": {
      "text/plain": [
       "Counter({'Q': 28,\n",
       "         'A': 8,\n",
       "         'L': 6,\n",
       "         'Y': 6,\n",
       "         'M': 3,\n",
       "         'I': 3,\n",
       "         'K': 2,\n",
       "         'N': 2,\n",
       "         'V': 2,\n",
       "         'E': 2,\n",
       "         'S': 1,\n",
       "         'T': 1,\n",
       "         'F': 1,\n",
       "         'P': 1,\n",
       "         'G': 1,\n",
       "         'R': 1,\n",
       "         'H': 1})"
      ]
     },
     "execution_count": 44,
     "metadata": {},
     "output_type": "execute_result"
    }
   ],
   "source": [
    "Counter(seq_protein2[0][0])"
   ]
  },
  {
   "cell_type": "code",
   "execution_count": 49,
   "id": "44aeda57-db88-4ae9-965a-23d31b3dd35d",
   "metadata": {},
   "outputs": [
    {
     "data": {
      "text/plain": [
       "'2n72'"
      ]
     },
     "execution_count": 49,
     "metadata": {},
     "output_type": "execute_result"
    }
   ],
   "source": [
    "protein2"
   ]
  },
  {
   "cell_type": "markdown",
   "id": "b653dba9-b137-473e-abed-df0f84f4db7d",
   "metadata": {},
   "source": [
    "#### What are they\n",
    "- Protein 1 is from 'Geobacter sulfurreducens KN400'\n",
    "- Protein 2 is from 'Homo sapiens'"
   ]
  },
  {
   "cell_type": "code",
   "execution_count": 50,
   "id": "3ece3e65-abd8-4c41-95cc-d233bb4a928f",
   "metadata": {},
   "outputs": [
    {
     "data": {
      "text/plain": [
       "DataFrame[id1: string, id2: string, cosine_similarity: double]"
      ]
     },
     "execution_count": 50,
     "metadata": {},
     "output_type": "execute_result"
    }
   ],
   "source": [
    "df_cos_sim.unpersist()"
   ]
  },
  {
   "cell_type": "markdown",
   "id": "913c3767-daa0-4581-9e6b-c5805cc7fdfa",
   "metadata": {},
   "source": [
    "#### Stopping the context and the spark app"
   ]
  },
  {
   "cell_type": "code",
   "execution_count": 51,
   "id": "8396bcc2-5877-40c0-80ba-608205c04aac",
   "metadata": {},
   "outputs": [],
   "source": [
    "sc.stop()"
   ]
  },
  {
   "cell_type": "code",
   "execution_count": 52,
   "id": "4bd7678b-5720-4d3b-8e15-9e1385d7263f",
   "metadata": {},
   "outputs": [],
   "source": [
    "spark.stop()"
   ]
  },
  {
   "cell_type": "code",
   "execution_count": null,
   "id": "35601b9c-e6c6-402c-80b3-e43be9e9f008",
   "metadata": {},
   "outputs": [],
   "source": []
  }
 ],
 "metadata": {
  "kernelspec": {
   "display_name": "Python 3 (ipykernel)",
   "language": "python",
   "name": "python3"
  },
  "language_info": {
   "codemirror_mode": {
    "name": "ipython",
    "version": 3
   },
   "file_extension": ".py",
   "mimetype": "text/x-python",
   "name": "python",
   "nbconvert_exporter": "python",
   "pygments_lexer": "ipython3",
   "version": "3.10.12"
  }
 },
 "nbformat": 4,
 "nbformat_minor": 5
}
